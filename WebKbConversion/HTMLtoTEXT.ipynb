{
 "cells": [
  {
   "cell_type": "code",
   "execution_count": null,
   "metadata": {},
   "outputs": [],
   "source": [
    "from bs4 import BeautifulSoup\n",
    "import os"
   ]
  },
  {
   "cell_type": "code",
   "execution_count": null,
   "metadata": {},
   "outputs": [],
   "source": [
    "def GetText_HTML(file):\n",
    "    html_content = ''\n",
    "    with open(file, 'r', encoding='utf-8', errors='ignore') as f:\n",
    "        html_content = f.read()\n",
    "    soup = BeautifulSoup(html_content, 'html.parser')\n",
    "    text = \"\\n\".join(soup.get_text().split('\\n')[6:])\n",
    "    lines = text.split('\\n')\n",
    "    cleaned_lines = [line for line in lines if line.strip()]\n",
    "    cleaned_text = '\\n'.join(cleaned_lines)\n",
    "    return cleaned_text"
   ]
  },
  {
   "cell_type": "code",
   "execution_count": null,
   "metadata": {},
   "outputs": [],
   "source": [
    "def Convert_HTML_TEXT(read_dir, target_dir):\n",
    "    document_id = 1\n",
    "    for directories in os.listdir(read_dir):\n",
    "\n",
    "        # read the 1 parent directory\n",
    "        directory_path = os.path.join(read_dir, directories)\n",
    "        # create same diretory to sore converted file\n",
    "        write_parent_directory_path = os.path.join(target_dir, directories)\n",
    "        os.makedirs(write_parent_directory_path, exist_ok=True) \n",
    "\n",
    "        for directory in os.listdir(directory_path):\n",
    "\n",
    "            # read path for sub directory\n",
    "            sub_directories = os.path.join(directory_path, directory)\n",
    "            # write path for sub directory\n",
    "            write_sub_directory_path = os.path.join(write_parent_directory_path, directory)\n",
    "            os.makedirs(write_sub_directory_path, exist_ok=True)\n",
    "\n",
    "            for sub_directory in os.listdir(sub_directories):\n",
    "\n",
    "                print(f\"Converting File {sub_directory}\")\n",
    "                sub_directory_path = os.path.join(f\"{sub_directories}\\{sub_directory}\")\n",
    "                text = GetText_HTML(sub_directory_path)\n",
    "                write_file_path = os.path.join(write_sub_directory_path, str(document_id))\n",
    "                with open(write_file_path, 'w', encoding='utf-8') as f:\n",
    "                    f.write(text)\n",
    "                    document_id += 1"
   ]
  },
  {
   "cell_type": "code",
   "execution_count": null,
   "metadata": {},
   "outputs": [],
   "source": [
    "read_path = os.getcwd() + \"\\webkb\"\n",
    "write_path = \"D:\\My Work\\Final Year Project\\Git\\FYP23-Deep-Document-Clustering\\Base Lines\\Lexical Chains\\WebKB\\\\\"\n",
    "Convert_HTML_TEXT(read_path, write_path)"
   ]
  }
 ],
 "metadata": {
  "language_info": {
   "name": "python"
  }
 },
 "nbformat": 4,
 "nbformat_minor": 2
}
