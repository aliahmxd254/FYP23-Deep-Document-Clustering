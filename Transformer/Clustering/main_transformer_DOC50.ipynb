{
 "cells": [
  {
   "cell_type": "code",
   "execution_count": 57,
   "metadata": {},
   "outputs": [],
   "source": [
    "import sys\n",
    "sys.path.insert(0, 'D:\\My Work\\Final Year Project\\Main\\FYP23-Deep-Document-Clustering\\Transformer')"
   ]
  },
  {
   "cell_type": "code",
   "execution_count": 58,
   "metadata": {},
   "outputs": [],
   "source": [
    "import numpy as np\n",
    "import pandas as pd\n",
    "import nltk\n",
    "import os\n",
    "import warnings\n",
    "from collections import defaultdict\n",
    "from sklearn.metrics import confusion_matrix\n",
    "from sklearn.cluster import KMeans\n",
    "from sklearn.decomposition import PCA\n",
    "from sklearn.preprocessing import Normalizer\n",
    "from nltk.corpus import wordnet as wn, stopwords\n",
    "from nltk.tokenize import word_tokenize\n",
    "from nltk.stem import WordNetLemmatizer\n",
    "from sklearn.feature_extraction.text import TfidfVectorizer\n",
    "from sklearn.metrics import silhouette_score\n",
    "from sklearn.metrics.cluster import normalized_mutual_info_score as nmi_score\n",
    "from sklearn.metrics import adjusted_rand_score as ari_score\n",
    "from sklearn.metrics import f1_score \n",
    "from concurrent.futures import ThreadPoolExecutor\n",
    "import matplotlib.pyplot as plt\n",
    "import seaborn as sns\n",
    "\n",
    "import pickle\n",
    "import torch\n",
    "import random\n",
    "\n",
    "from utils.Encoder import Encoder\n",
    "\n",
    "os.environ['OMP_NUM_THREADS'] = '1'\n",
    "warnings.filterwarnings(\"ignore\", category=UserWarning, module=\"sklearn.cluster._kmeans\")\n",
    "warnings.filterwarnings(\"ignore\", category=UserWarning, module=\"sklearn.feature_extraction.text\")\n"
   ]
  },
  {
   "cell_type": "code",
   "execution_count": 59,
   "metadata": {},
   "outputs": [],
   "source": [
    "doc_content = []  # all the content in the document\n",
    "doc_name = []  # name of the document\n",
    "files_path = []  # path to the documents\n",
    "lexical_chain = []  # list of lexical chains from each document\n",
    "total_features = []  # total number of features. 1652\n",
    "final_training_Features = []\n",
    "corpus = []\n",
    "doc_list_sequence = []"
   ]
  },
  {
   "cell_type": "code",
   "execution_count": 60,
   "metadata": {},
   "outputs": [],
   "source": [
    "def reset_random_seeds(seed):\n",
    "   os.environ['PYTHONHASHSEED']=str(seed)\n",
    "   torch.manual_seed(seed)\n",
    "   np.random.seed(seed)\n",
    "   random.seed(seed)\n",
    "\n",
    "\n",
    "def ReadDocuments(dir_name):\n",
    "    for Path in os.listdir(dir_name):\n",
    "        file_p = os.path.join(dir_name, Path)\n",
    "        with open(file_p, \"r\") as file:\n",
    "            FileContents = file.read()\n",
    "            doc_content.append(FileContents.lower())\n",
    "            doc_name.append(Path)\n",
    "            files_path.append(file_p)\n",
    "\n",
    "def Purity_Score(label_seq, pred_labels):\n",
    "    # Calculate the confusion matrix to compare true labels and cluster assignments\n",
    "    confusion = confusion_matrix(label_seq, pred_labels)\n",
    "    # Calculate the purity\n",
    "    purity = np.sum(np.max(confusion, axis=0)) / np.sum(confusion)\n",
    "    return purity\n",
    "\n",
    "def Evaluate(X, true_labels, predicted_labels):\n",
    "    purity = Purity_Score(true_labels, predicted_labels)\n",
    "    silhouette = silhouette_score(X, predicted_labels, metric='euclidean')\n",
    "    ari = ari_score(true_labels, predicted_labels)\n",
    "    nmi = nmi_score(true_labels, predicted_labels)\n",
    "    \n",
    "    print(f\"Purity: {purity}\")\n",
    "    print(f\"Silhouette Score: {silhouette}\")\n",
    "    print(f\"ARI Score: {ari}\")\n",
    "    print(f\"NMI Score: {nmi}\")\n",
    "\n",
    "def SaveFeatures(X, file_name):\n",
    "    pickle_path = open(file_name, 'wb')\n",
    "    pickle.dump(X, pickle_path)\n",
    "    pickle_path.close()\n",
    "\n",
    "def ReadFeatures(file_name):\n",
    "    pickle_read = open(file_name, 'rb')\n",
    "    x = pickle.load(pickle_read)\n",
    "    pickle_read.close()\n",
    "    return x"
   ]
  },
  {
   "cell_type": "code",
   "execution_count": 61,
   "metadata": {},
   "outputs": [],
   "source": [
    "file_name = \"DOC50_Features/DOC50_TFIDF_Features.pkl\"\n",
    "x = ReadFeatures(file_name)"
   ]
  },
  {
   "cell_type": "code",
   "execution_count": 62,
   "metadata": {},
   "outputs": [
    {
     "data": {
      "text/plain": [
       "(50, 3885)"
      ]
     },
     "execution_count": 62,
     "metadata": {},
     "output_type": "execute_result"
    }
   ],
   "source": [
    "x.shape"
   ]
  },
  {
   "cell_type": "code",
   "execution_count": 63,
   "metadata": {},
   "outputs": [],
   "source": [
    "x = x.toarray()"
   ]
  },
  {
   "cell_type": "code",
   "execution_count": 64,
   "metadata": {},
   "outputs": [],
   "source": [
    "x = torch.tensor(x, dtype=torch.float32)"
   ]
  },
  {
   "cell_type": "code",
   "execution_count": 65,
   "metadata": {},
   "outputs": [],
   "source": [
    "x = x.reshape(shape=(1, x.size()[0], x.size()[1]))"
   ]
  },
  {
   "cell_type": "code",
   "execution_count": 66,
   "metadata": {},
   "outputs": [
    {
     "data": {
      "text/plain": [
       "torch.Size([1, 50, 3885])"
      ]
     },
     "execution_count": 66,
     "metadata": {},
     "output_type": "execute_result"
    }
   ],
   "source": [
    "x.size()"
   ]
  },
  {
   "cell_type": "code",
   "execution_count": 67,
   "metadata": {},
   "outputs": [],
   "source": [
    "d_model = 3885\n",
    "num_heads = 1\n",
    "drop_prob = 0.1\n",
    "batch_size = 1\n",
    "max_sequence_length = 50\n",
    "ffn_hidden = 2048\n",
    "num_layers = 5"
   ]
  },
  {
   "cell_type": "code",
   "execution_count": 68,
   "metadata": {},
   "outputs": [],
   "source": [
    "reset_random_seeds(42)"
   ]
  },
  {
   "cell_type": "code",
   "execution_count": 69,
   "metadata": {},
   "outputs": [],
   "source": [
    "from utils.PositionalEncoding import PositionalEncoding\n",
    "pe = PositionalEncoding(d_model=d_model, max_sequence_length=max_sequence_length)\n",
    "positional_encoding = pe.forward()"
   ]
  },
  {
   "cell_type": "code",
   "execution_count": 70,
   "metadata": {},
   "outputs": [],
   "source": [
    "positional_encoding = positional_encoding[:,0:-1]"
   ]
  },
  {
   "cell_type": "code",
   "execution_count": 71,
   "metadata": {},
   "outputs": [
    {
     "data": {
      "text/plain": [
       "torch.Size([50, 3885])"
      ]
     },
     "execution_count": 71,
     "metadata": {},
     "output_type": "execute_result"
    }
   ],
   "source": [
    "positional_encoding.size()"
   ]
  },
  {
   "cell_type": "code",
   "execution_count": 72,
   "metadata": {},
   "outputs": [],
   "source": [
    "x = x + positional_encoding"
   ]
  },
  {
   "cell_type": "code",
   "execution_count": 73,
   "metadata": {},
   "outputs": [],
   "source": [
    "encoder = Encoder(d_model=d_model, ffn_hidden=ffn_hidden, num_heads=num_heads, drop_prob=drop_prob, num_layers=num_layers)"
   ]
  },
  {
   "cell_type": "code",
   "execution_count": 74,
   "metadata": {},
   "outputs": [
    {
     "name": "stdout",
     "output_type": "stream",
     "text": [
      "x.size(): torch.Size([1, 50, 3885])\n",
      "tensor([[[ 0.0000e+00,  1.0000e+00,  0.0000e+00,  ...,  0.0000e+00,\n",
      "           1.0000e+00,  0.0000e+00],\n",
      "         [ 8.4147e-01,  5.6684e-01,  8.3891e-01,  ...,  3.3962e-02,\n",
      "           1.0000e+00,  3.3961e-02],\n",
      "         [ 9.0930e-01, -4.1615e-01,  9.1319e-01,  ...,  2.0143e-04,\n",
      "           1.0000e+00,  2.0047e-04],\n",
      "         ...,\n",
      "         [ 1.2357e-01, -9.9234e-01,  3.3934e-01,  ...,  4.7335e-03,\n",
      "           9.9999e-01,  4.7111e-03],\n",
      "         [-7.6825e-01, -6.4014e-01, -6.0443e-01,  ...,  4.8342e-03,\n",
      "           9.9999e-01,  4.8114e-03],\n",
      "         [-9.5375e-01,  3.0059e-01, -9.9730e-01,  ...,  4.9350e-03,\n",
      "           9.9999e-01,  4.9116e-03]]])\n",
      "qkv.size(): torch.Size([1, 50, 11655])\n",
      "1, 50, 1, 3885\n",
      "qkv.size(): torch.Size([1, 50, 1, 11655])\n",
      "q.size(): torch.Size([1, 1, 50, 3885]), k.size(): torch.Size([1, 1, 50, 3885]), v.size(): torch.Size([1, 1, 50, 3885])\n",
      "values.size(): torch.Size([1, 1, 50, 3885]), attention.size(): torch.Size([1, 1, 50, 50])\n",
      "x.size(): torch.Size([1, 50, 3885])\n",
      "tensor([[[ 0.0104,  0.4389, -0.9021,  ..., -0.8131,  1.6543, -0.3612],\n",
      "         [ 1.3248, -0.3960,  0.6876,  ..., -0.7771,  1.5308, -0.4727],\n",
      "         [ 1.5649, -2.2863,  1.2385,  ..., -0.9745,  1.2504, -0.5121],\n",
      "         ...,\n",
      "         [ 0.2518, -1.9765, -0.1866,  ..., -0.6797,  1.8378, -0.7307],\n",
      "         [-1.3224, -1.8664, -1.1727,  ..., -0.4742,  1.5235, -0.6768],\n",
      "         [-1.3687,  0.2900, -1.7546,  ..., -0.6183,  1.5276, -0.3762]]],\n",
      "       grad_fn=<AddBackward0>)\n",
      "qkv.size(): torch.Size([1, 50, 11655])\n",
      "1, 50, 1, 3885\n",
      "qkv.size(): torch.Size([1, 50, 1, 11655])\n",
      "q.size(): torch.Size([1, 1, 50, 3885]), k.size(): torch.Size([1, 1, 50, 3885]), v.size(): torch.Size([1, 1, 50, 3885])\n",
      "values.size(): torch.Size([1, 1, 50, 3885]), attention.size(): torch.Size([1, 1, 50, 50])\n",
      "x.size(): torch.Size([1, 50, 3885])\n",
      "tensor([[[ 0.1550,  0.7553, -0.6103,  ..., -0.5334,  1.3347, -0.7624],\n",
      "         [ 1.5317,  0.0448,  0.8938,  ..., -0.1426,  0.8954, -0.2441],\n",
      "         [ 1.6277, -1.7697,  1.4493,  ..., -0.3382,  0.7074, -0.1820],\n",
      "         ...,\n",
      "         [ 0.1399, -1.7906,  0.0333,  ..., -0.3312,  1.3528, -0.2837],\n",
      "         [-1.4438, -1.4934, -0.9528,  ..., -0.0375,  1.3331, -0.0153],\n",
      "         [-1.2138,  0.2647, -1.5704,  ..., -0.0980,  1.0246,  0.1476]]],\n",
      "       grad_fn=<AddBackward0>)\n",
      "qkv.size(): torch.Size([1, 50, 11655])\n",
      "1, 50, 1, 3885\n",
      "qkv.size(): torch.Size([1, 50, 1, 11655])\n",
      "q.size(): torch.Size([1, 1, 50, 3885]), k.size(): torch.Size([1, 1, 50, 3885]), v.size(): torch.Size([1, 1, 50, 3885])\n",
      "values.size(): torch.Size([1, 1, 50, 3885]), attention.size(): torch.Size([1, 1, 50, 50])\n",
      "x.size(): torch.Size([1, 50, 3885])\n",
      "tensor([[[ 0.4026,  0.2218, -0.4694,  ..., -0.6544,  0.7264, -0.7645],\n",
      "         [ 1.7955, -0.8099,  0.8406,  ..., -0.4451,  0.4010, -0.3588],\n",
      "         [ 1.7275, -2.1626,  1.4276,  ..., -0.3079,  0.3352, -0.3662],\n",
      "         ...,\n",
      "         [ 0.4513, -2.1132,  0.1023,  ..., -0.5877,  0.9384, -0.1556],\n",
      "         [-1.3477, -1.7563, -1.0303,  ..., -0.3815,  0.8952, -0.2838],\n",
      "         [-0.9408, -0.3490, -1.5042,  ..., -0.0813,  0.5502, -0.3825]]],\n",
      "       grad_fn=<AddBackward0>)\n",
      "qkv.size(): torch.Size([1, 50, 11655])\n",
      "1, 50, 1, 3885\n",
      "qkv.size(): torch.Size([1, 50, 1, 11655])\n",
      "q.size(): torch.Size([1, 1, 50, 3885]), k.size(): torch.Size([1, 1, 50, 3885]), v.size(): torch.Size([1, 1, 50, 3885])\n",
      "values.size(): torch.Size([1, 1, 50, 3885]), attention.size(): torch.Size([1, 1, 50, 50])\n",
      "x.size(): torch.Size([1, 50, 3885])\n",
      "tensor([[[ 1.2370, -0.3236, -0.1392,  ..., -0.4208,  1.0302, -0.9000],\n",
      "         [ 2.5385, -1.3227,  0.9455,  ..., -0.2203,  0.6671, -0.5184],\n",
      "         [ 2.1445, -2.6793,  1.5316,  ..., -0.0664,  0.5775, -0.5022],\n",
      "         ...,\n",
      "         [ 0.4011, -2.3522,  0.5392,  ..., -0.4850,  0.8470,  0.2241],\n",
      "         [-0.8391, -2.0693, -0.4044,  ..., -0.0885,  0.5976, -0.1477],\n",
      "         [-0.2766, -0.6081, -0.9767,  ...,  0.2952,  0.1228, -0.2984]]],\n",
      "       grad_fn=<AddBackward0>)\n",
      "qkv.size(): torch.Size([1, 50, 11655])\n",
      "1, 50, 1, 3885\n",
      "qkv.size(): torch.Size([1, 50, 1, 11655])\n",
      "q.size(): torch.Size([1, 1, 50, 3885]), k.size(): torch.Size([1, 1, 50, 3885]), v.size(): torch.Size([1, 1, 50, 3885])\n",
      "values.size(): torch.Size([1, 1, 50, 3885]), attention.size(): torch.Size([1, 1, 50, 50])\n"
     ]
    }
   ],
   "source": [
    "out = encoder(x)"
   ]
  },
  {
   "cell_type": "code",
   "execution_count": 75,
   "metadata": {},
   "outputs": [],
   "source": [
    "def KMeans_Labels(X, n, rstate_limit, true_labels):\n",
    "    print(X)\n",
    "    # Specify the number of clusters (you can choose an appropriate value)\n",
    "    num_clusters = n\n",
    "    \n",
    "    # find centoids which give maximum purity\n",
    "    purity_collection = {}\n",
    "    for i in range(rstate_limit):\n",
    "        clusters = KMeans(n_init='auto', n_clusters=num_clusters, random_state=i, init='k-means++').fit(X).labels_\n",
    "        purity_collection[i] = Purity_Score(true_labels, clusters)\n",
    "    \n",
    "    max_rand_state = max(purity_collection, key=purity_collection.get)\n",
    "    print(f\"Maximum purity of {purity_collection[max_rand_state]} found on random state {max_rand_state}\")\n",
    "\n",
    "    # Create a KMeans model\n",
    "    kmeans = KMeans(n_init='auto', n_clusters=num_clusters, random_state=max_rand_state, init='k-means++')\n",
    "    # Fit the KMeans model to the TF-IDF data\n",
    "    kmeans.fit(X)\n",
    "    # Get the cluster assignments for each document\n",
    "    cluster_assignments = kmeans.labels_\n",
    "    \n",
    "    return cluster_assignments\n",
    "\n",
    "def Actual_Labels():\n",
    "    ReadDocuments(os.getcwd() + \"\\Doc50\")\n",
    "    actual_labels = {} # dictionary to store true assignments for each document | read sequence not followed\n",
    "    label_path = os.getcwd() + '\\\\Doc50 GT\\\\'\n",
    "    for labels_directory in os.listdir(label_path): # for each assignment folder\n",
    "        actual_cluster = int(labels_directory[1]) # extract cluster label from directory name\n",
    "        doc_labels = os.listdir(label_path + f\"\\\\{labels_directory}\") # for all document ids assigned to this cluster\n",
    "        for doc in doc_labels:\n",
    "            actual_labels[doc] = actual_cluster-1 # save cluster label\n",
    "    \n",
    "    label_seq = [] # save labels in order of documents read\n",
    "    for doc in doc_name:\n",
    "        label_seq.append(actual_labels[doc])\n",
    "    return label_seq\n",
    "\n",
    "def print_results(true_labels, predicted_labels, X):\n",
    "    print(\"RESULTS:\")\n",
    "    print(f\"Purity: {Purity_Score(true_labels, predicted_labels)}\")\n",
    "    print(f\"Silhouette Score: {silhouette_score(X, predicted_labels)}\")\n",
    "\n",
    "\n",
    "def wrapperFunction():\n",
    "    # ReadDocuments('Doc50')\n",
    "    vectorizer = TfidfVectorizer(analyzer='word', stop_words='english', preprocessor=custom_preprocessor)\n",
    "    X = vectorizer.fit_transform(doc_content)\n",
    "\n",
    "    SaveFeatures(X, 'DOC50_TFIDF_Features.pkl')\n",
    "    \n",
    "    true_labels = Actual_Labels()\n",
    "    predicted_labels = KMeans_Labels(X, 5, 1500, true_labels)\n",
    "    Evaluate(X, true_labels, predicted_labels)\n",
    "    return predicted_labels, X\n",
    "\n",
    "def plot_graph(x, y):\n",
    "    plt.scatter(x, y, marker = \"o\")\n",
    "    plt.title(\"Purity x Random State\")\n",
    "    plt.ylabel(\"Purity\")\n",
    "    plt.xlabel(\"Random State\")\n",
    "    plt.show()\n",
    "\n",
    "\n",
    "def calculate_purity(random_state, X, true_labels):\n",
    "    clusters = KMeans(n_init='auto', n_clusters=num_clusters, random_state=random_state, init='k-means++').fit(X).labels_\n",
    "    purity = Purity_Score(true_labels, clusters)\n",
    "    return random_state, purity\n",
    "\n",
    "def KMeans_Labels_Parallel(X, n, rstate_limit, true_labels):\n",
    "    # Specify the number of clusters (you can choose an appropriate value)\n",
    "    global num_clusters\n",
    "    num_clusters = n\n",
    "    \n",
    "    # Use ThreadPoolExecutor to parallelize purity calculations\n",
    "    with ThreadPoolExecutor() as executor:\n",
    "        futures = {executor.submit(calculate_purity, i, X, true_labels): i for i in range(rstate_limit)}\n",
    "\n",
    "    purity_collection = {future.result()[0]: future.result()[1] for future in futures}\n",
    "\n",
    "    max_rand_state = max(purity_collection, key=purity_collection.get)\n",
    "    print(f\"Maximum purity of {purity_collection[max_rand_state]} found on random state {max_rand_state}\")\n",
    "\n",
    "    plot_graph(purity_collection.keys(), purity_collection.values())\n",
    "    \n",
    "    # Create a KMeans model\n",
    "    kmeans = KMeans(n_init='auto', n_clusters=num_clusters, random_state=max_rand_state, init='k-means++')\n",
    "    # Fit the KMeans model to the data\n",
    "    kmeans.fit(X)\n",
    "    # Get the cluster assignments for each data point\n",
    "    cluster_assignments = kmeans.labels_\n",
    "    cluster_centers = kmeans.cluster_centers_\n",
    "    \n",
    "    return cluster_assignments, cluster_centers \n",
    "\n"
   ]
  },
  {
   "cell_type": "code",
   "execution_count": 76,
   "metadata": {},
   "outputs": [],
   "source": [
    "del encoder"
   ]
  },
  {
   "cell_type": "code",
   "execution_count": 77,
   "metadata": {},
   "outputs": [],
   "source": [
    "enhanced_x = out.detach().numpy()"
   ]
  },
  {
   "cell_type": "code",
   "execution_count": 78,
   "metadata": {},
   "outputs": [
    {
     "data": {
      "text/plain": [
       "(50, 3885)"
      ]
     },
     "execution_count": 78,
     "metadata": {},
     "output_type": "execute_result"
    }
   ],
   "source": [
    "enhanced_x[0].shape"
   ]
  },
  {
   "cell_type": "code",
   "execution_count": 79,
   "metadata": {},
   "outputs": [],
   "source": [
    "doc_content = []  # all the content in the document\n",
    "doc_name = []  # name of the document\n",
    "files_path = []  # path to the documents\n",
    "lexical_chain = []  # list of lexical chains from each document\n",
    "total_features = []  # total number of features. 1652\n",
    "final_training_Features = []\n",
    "corpus = []\n",
    "doc_list_sequence = []"
   ]
  },
  {
   "cell_type": "code",
   "execution_count": 80,
   "metadata": {},
   "outputs": [
    {
     "name": "stdout",
     "output_type": "stream",
     "text": [
      "Maximum purity of 1.0 found on random state 653\n"
     ]
    },
    {
     "data": {
      "image/png": "[encoded data removed]",
      "text/plain": [
       "<Figure size 640x480 with 1 Axes>"
      ]
     },
     "metadata": {},
     "output_type": "display_data"
    }
   ],
   "source": [
    "true_labels = Actual_Labels()\n",
    "pred_lables, centoids = KMeans_Labels_Parallel(enhanced_x[0], 5, 700, true_labels)"
   ]
  },
  {
   "cell_type": "code",
   "execution_count": 89,
   "metadata": {},
   "outputs": [],
   "source": [
    "kmeans = KMeans(n_init='auto', n_clusters=num_clusters, random_state=653, init='k-means++')\n",
    "    # Fit the KMeans model to the data\n",
    "kmeans.fit(enhanced_x[0])\n",
    "    # Get the cluster assignments for each data point\n",
    "cluster_assignments = kmeans.labels_\n",
    "cluster_centers = kmeans.cluster_centers_"
   ]
  },
  {
   "cell_type": "code",
   "execution_count": 81,
   "metadata": {},
   "outputs": [
    {
     "name": "stdout",
     "output_type": "stream",
     "text": [
      "Purity: 1.0\n",
      "Silhouette Score: 0.1671772450208664\n",
      "ARI Score: 1.0\n",
      "NMI Score: 1.0\n"
     ]
    }
   ],
   "source": [
    "Evaluate(enhanced_x[0], true_labels, pred_lables)"
   ]
  },
  {
   "cell_type": "code",
   "execution_count": 82,
   "metadata": {},
   "outputs": [],
   "source": [
    "def visualize_clusters(X, cluster_assignments, cluster_centers,num_dimensions=2):\n",
    "    # Apply PCA to reduce the dimensions for visualization\n",
    "    pca = PCA(n_components=num_dimensions)\n",
    "    X_pca = pca.fit_transform(X)\n",
    "\n",
    "    # Combine data and cluster assignments into a DataFrame\n",
    "    data_with_clusters = pd.DataFrame(X_pca, columns=[f'PC{i}' for i in range(1, num_dimensions+1)])\n",
    "    data_with_clusters['Cluster'] = cluster_assignments\n",
    "\n",
    "    # Scatter plot with different colors for each cluster\n",
    "    plt.figure(figsize=(8, 6))\n",
    "    sns.scatterplot(x='PC1', y='PC2', hue='Cluster', data=data_with_clusters, palette='viridis', s=80, alpha=0.8)\n",
    "    \n",
    "    # Plot cluster centers if available\n",
    "    centers = pca.transform(cluster_centers)\n",
    "    plt.scatter(centers[:, 0], centers[:, 1], c='red', marker='X', s=200, label='Cluster Centers')\n",
    "    \n",
    "    plt.title('Cluster Visualization (PCA)')\n",
    "    plt.xlabel('Principal Component 1')\n",
    "    plt.ylabel('Principal Component 2')\n",
    "    plt.legend()\n",
    "    plt.show()\n"
   ]
  },
  {
   "cell_type": "code",
   "execution_count": 83,
   "metadata": {},
   "outputs": [
    {
     "data": {
      "image/png": "[encoded data removed]",
      "text/plain": [
       "<Figure size 800x600 with 1 Axes>"
      ]
     },
     "metadata": {},
     "output_type": "display_data"
    }
   ],
   "source": [
    "visualize_clusters(enhanced_x[0], pred_lables, cluster_centers=centoids, num_dimensions=2)"
   ]
  },
  {
   "cell_type": "code",
   "execution_count": 92,
   "metadata": {},
   "outputs": [
    {
     "data": {
      "text/plain": [
       "(array([4, 4, 4, 4, 4, 4, 4, 4, 4, 4, 0, 0, 0, 0, 0, 0, 0, 0, 0, 0, 1, 1,\n",
       "        1, 1, 1, 1, 1, 1, 1, 1, 2, 2, 2, 2, 2, 2, 2, 2, 2, 2, 3, 3, 3, 3,\n",
       "        3, 3, 3, 3, 3, 3]),\n",
       " array([3, 3, 3, 3, 3, 3, 3, 3, 3, 3, 2, 2, 2, 2, 2, 2, 2, 2, 2, 2, 0, 0,\n",
       "        0, 0, 0, 0, 0, 0, 0, 0, 4, 4, 4, 4, 4, 4, 4, 4, 4, 4, 1, 1, 1, 1,\n",
       "        1, 1, 1, 1, 1, 1]))"
      ]
     },
     "execution_count": 92,
     "metadata": {},
     "output_type": "execute_result"
    }
   ],
   "source": [
    "np.array(true_labels), pred_lables"
   ]
  }
 ],
 "metadata": {
  "kernelspec": {
   "display_name": "Python 3 (ipykernel)",
   "language": "python",
   "name": "python3"
  },
  "language_info": {
   "codemirror_mode": {
    "name": "ipython",
    "version": 3
   },
   "file_extension": ".py",
   "mimetype": "text/x-python",
   "name": "python",
   "nbconvert_exporter": "python",
   "pygments_lexer": "ipython3",
   "version": "3.10.11"
  }
 },
 "nbformat": 4,
 "nbformat_minor": 4
}
