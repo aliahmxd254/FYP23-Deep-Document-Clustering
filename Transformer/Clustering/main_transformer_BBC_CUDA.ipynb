{
 "cells": [
  {
   "cell_type": "code",
   "execution_count": 1,
   "metadata": {},
   "outputs": [],
   "source": [
    "import time\n",
    "start = time.time()"
   ]
  },
  {
   "cell_type": "code",
   "execution_count": 2,
   "metadata": {},
   "outputs": [],
   "source": [
    "import sys\n",
    "transformer_path = 'D:\\FAST\\FYP\\FYP23-Deep-Document-Clustering\\Transformer' # ==== Path for transformer folder\n",
    "sys.path.insert(0, transformer_path)"
   ]
  },
  {
   "cell_type": "code",
   "execution_count": 3,
   "metadata": {},
   "outputs": [],
   "source": [
    "import os\n",
    "data_path = \"D:/FAST/FYP/FYP23-Deep-Document-Clustering/data/\" # ===== Path for data"
   ]
  },
  {
   "cell_type": "code",
   "execution_count": 4,
   "metadata": {},
   "outputs": [
    {
     "name": "stderr",
     "output_type": "stream",
     "text": [
      "c:\\Users\\Ali Ahmed\\AppData\\Local\\Programs\\Python\\Python310\\lib\\site-packages\\tqdm\\auto.py:21: TqdmWarning: IProgress not found. Please update jupyter and ipywidgets. See https://ipywidgets.readthedocs.io/en/stable/user_install.html\n",
      "  from .autonotebook import tqdm as notebook_tqdm\n"
     ]
    }
   ],
   "source": [
    "import numpy as np\n",
    "import pandas as pd\n",
    "import nltk\n",
    "import warnings\n",
    "from collections import defaultdict\n",
    "from sklearn.metrics import confusion_matrix\n",
    "from sklearn.cluster import KMeans\n",
    "from sklearn.decomposition import PCA\n",
    "from sklearn.preprocessing import Normalizer\n",
    "from nltk.corpus import wordnet as wn, stopwords\n",
    "from nltk.tokenize import word_tokenize\n",
    "from nltk.stem import WordNetLemmatizer\n",
    "from sklearn.feature_extraction.text import TfidfVectorizer\n",
    "from sklearn.metrics import silhouette_score\n",
    "from sklearn.metrics.cluster import normalized_mutual_info_score as nmi_score\n",
    "from sklearn.metrics import adjusted_rand_score as ari_score\n",
    "from sklearn.metrics import f1_score \n",
    "from concurrent.futures import ThreadPoolExecutor\n",
    "import matplotlib.pyplot as plt\n",
    "import seaborn as sns\n",
    "\n",
    "import pickle\n",
    "import torch\n",
    "import random\n",
    "\n",
    "from utils.PositionalEncoding import PositionalEncoding\n",
    "from utils.Encoder import Encoder\n",
    "\n",
    "os.environ['OMP_NUM_THREADS'] = '1'\n",
    "warnings.filterwarnings(\"ignore\", category=UserWarning, module=\"sklearn.cluster._kmeans\")\n",
    "warnings.filterwarnings(\"ignore\", category=UserWarning, module=\"sklearn.feature_extraction.text\")\n"
   ]
  },
  {
   "cell_type": "code",
   "execution_count": 5,
   "metadata": {},
   "outputs": [
    {
     "name": "stdout",
     "output_type": "stream",
     "text": [
      "Available GPU: NVIDIA GeForce RTX 4090\n"
     ]
    }
   ],
   "source": [
    "if torch.cuda.is_available():\n",
    "    print(f\"Available GPU: {torch.cuda.get_device_name(0)}\")\n",
    "else:\n",
    "    print(\"Using CPU\")"
   ]
  },
  {
   "cell_type": "code",
   "execution_count": 6,
   "metadata": {},
   "outputs": [
    {
     "data": {
      "text/plain": [
       "0"
      ]
     },
     "execution_count": 6,
     "metadata": {},
     "output_type": "execute_result"
    }
   ],
   "source": [
    "torch.cuda.memory_allocated()"
   ]
  },
  {
   "cell_type": "code",
   "execution_count": 7,
   "metadata": {},
   "outputs": [],
   "source": [
    "def reset_random_seeds(seed):\n",
    "   os.environ['PYTHONHASHSEED']=str(seed)\n",
    "   torch.manual_seed(seed)\n",
    "   np.random.seed(seed)\n",
    "   random.seed(seed)\n",
    "\n",
    "def Purity_Score(label_seq, pred_labels):\n",
    "    # Calculate the confusion matrix to compare true labels and cluster assignments\n",
    "    confusion = confusion_matrix(label_seq, pred_labels)\n",
    "    # Calculate the purity\n",
    "    purity = np.sum(np.max(confusion, axis=0)) / np.sum(confusion)\n",
    "    return purity\n",
    "\n",
    "def Evaluate(X, true_labels, predicted_labels):\n",
    "    purity = Purity_Score(true_labels, predicted_labels)\n",
    "    silhouette = silhouette_score(X, predicted_labels, metric='euclidean')\n",
    "    ari = ari_score(true_labels, predicted_labels)\n",
    "    nmi = nmi_score(true_labels, predicted_labels)\n",
    "    \n",
    "    print(f\"Purity: {purity}\")\n",
    "    print(f\"Silhouette Score: {silhouette}\")\n",
    "    print(f\"ARI Score: {ari}\")\n",
    "    print(f\"NMI Score: {nmi}\")\n",
    "\n",
    "def SaveFeatures(X, file_name):\n",
    "    pickle_path = open(file_name, 'wb')\n",
    "    pickle.dump(X, pickle_path)\n",
    "    pickle_path.close()\n",
    "\n",
    "def ReadFeatures(file_name):\n",
    "    pickle_read = open(file_name, 'rb')\n",
    "    x = pickle.load(pickle_read)\n",
    "    pickle_read.close()\n",
    "    return x"
   ]
  },
  {
   "cell_type": "code",
   "execution_count": 8,
   "metadata": {},
   "outputs": [],
   "source": [
    "os.chdir(data_path)"
   ]
  },
  {
   "cell_type": "code",
   "execution_count": 9,
   "metadata": {},
   "outputs": [],
   "source": [
    "x = np.loadtxt('bbc.txt', dtype=float)\n",
    "y = np.loadtxt('bbc_label.txt', dtype=int)"
   ]
  },
  {
   "cell_type": "code",
   "execution_count": 10,
   "metadata": {},
   "outputs": [],
   "source": [
    "x = torch.tensor(x, dtype=torch.float32)"
   ]
  },
  {
   "cell_type": "code",
   "execution_count": 11,
   "metadata": {},
   "outputs": [
    {
     "data": {
      "text/plain": [
       "device(type='cpu')"
      ]
     },
     "execution_count": 11,
     "metadata": {},
     "output_type": "execute_result"
    }
   ],
   "source": [
    "x.device"
   ]
  },
  {
   "cell_type": "code",
   "execution_count": 12,
   "metadata": {},
   "outputs": [
    {
     "data": {
      "text/plain": [
       "torch.Size([2225, 9635])"
      ]
     },
     "execution_count": 12,
     "metadata": {},
     "output_type": "execute_result"
    }
   ],
   "source": [
    "x.size()"
   ]
  },
  {
   "cell_type": "code",
   "execution_count": 13,
   "metadata": {},
   "outputs": [],
   "source": [
    "d_model = 9635\n",
    "num_heads = 1\n",
    "drop_prob = 0.1\n",
    "batch_size = 25\n",
    "max_sequence_length = 2225\n",
    "ffn_hidden = 2048\n",
    "num_layers = 5"
   ]
  },
  {
   "cell_type": "code",
   "execution_count": 14,
   "metadata": {},
   "outputs": [],
   "source": [
    "pe = PositionalEncoding(d_model=d_model, max_sequence_length=max_sequence_length)\n",
    "positional_encoding = pe.forward()"
   ]
  },
  {
   "cell_type": "code",
   "execution_count": 15,
   "metadata": {},
   "outputs": [
    {
     "data": {
      "text/plain": [
       "torch.Size([2225, 9635])"
      ]
     },
     "execution_count": 15,
     "metadata": {},
     "output_type": "execute_result"
    }
   ],
   "source": [
    "positional_encoding = positional_encoding[:,0:-1]\n",
    "positional_encoding.size()"
   ]
  },
  {
   "cell_type": "code",
   "execution_count": 16,
   "metadata": {},
   "outputs": [],
   "source": [
    "x = x + positional_encoding"
   ]
  },
  {
   "cell_type": "code",
   "execution_count": 17,
   "metadata": {},
   "outputs": [],
   "source": [
    "x = x.reshape(shape=(batch_size, x.size()[0] // batch_size, x.size()[1]))"
   ]
  },
  {
   "cell_type": "code",
   "execution_count": 18,
   "metadata": {},
   "outputs": [
    {
     "data": {
      "text/plain": [
       "torch.Size([25, 89, 9635])"
      ]
     },
     "execution_count": 18,
     "metadata": {},
     "output_type": "execute_result"
    }
   ],
   "source": [
    "x.size()"
   ]
  },
  {
   "cell_type": "code",
   "execution_count": 19,
   "metadata": {},
   "outputs": [],
   "source": [
    "x = x.cuda()"
   ]
  },
  {
   "cell_type": "code",
   "execution_count": 20,
   "metadata": {},
   "outputs": [
    {
     "data": {
      "text/plain": [
       "device(type='cuda', index=0)"
      ]
     },
     "execution_count": 20,
     "metadata": {},
     "output_type": "execute_result"
    }
   ],
   "source": [
    "x.device"
   ]
  },
  {
   "cell_type": "code",
   "execution_count": 21,
   "metadata": {},
   "outputs": [],
   "source": [
    "reset_random_seeds(42)"
   ]
  },
  {
   "cell_type": "code",
   "execution_count": 22,
   "metadata": {},
   "outputs": [],
   "source": [
    "encoder = Encoder(d_model=d_model, ffn_hidden=ffn_hidden, num_heads=num_heads, drop_prob=drop_prob, num_layers=num_layers).cuda()"
   ]
  },
  {
   "cell_type": "code",
   "execution_count": 23,
   "metadata": {},
   "outputs": [
    {
     "data": {
      "text/plain": [
       "8311347712"
      ]
     },
     "execution_count": 23,
     "metadata": {},
     "output_type": "execute_result"
    }
   ],
   "source": [
    "torch.cuda.memory_allocated()"
   ]
  },
  {
   "cell_type": "code",
   "execution_count": 24,
   "metadata": {},
   "outputs": [
    {
     "name": "stdout",
     "output_type": "stream",
     "text": [
      "True\n",
      "True\n",
      "True\n",
      "True\n",
      "True\n",
      "True\n",
      "True\n",
      "True\n",
      "True\n",
      "True\n",
      "True\n",
      "True\n",
      "True\n",
      "True\n",
      "True\n",
      "True\n",
      "True\n",
      "True\n",
      "True\n",
      "True\n",
      "True\n",
      "True\n",
      "True\n",
      "True\n",
      "True\n",
      "True\n",
      "True\n",
      "True\n",
      "True\n",
      "True\n",
      "True\n",
      "True\n",
      "True\n",
      "True\n",
      "True\n",
      "True\n",
      "True\n",
      "True\n",
      "True\n",
      "True\n",
      "True\n",
      "True\n",
      "True\n",
      "True\n",
      "True\n",
      "True\n",
      "True\n",
      "True\n",
      "True\n",
      "True\n",
      "True\n",
      "True\n",
      "True\n",
      "True\n",
      "True\n",
      "True\n",
      "True\n",
      "True\n",
      "True\n",
      "True\n"
     ]
    }
   ],
   "source": [
    "for i in encoder.parameters():\n",
    "    print(i.is_cuda)"
   ]
  },
  {
   "cell_type": "code",
   "execution_count": 25,
   "metadata": {
    "scrolled": true
   },
   "outputs": [
    {
     "name": "stdout",
     "output_type": "stream",
     "text": [
      "x.size(): torch.Size([25, 89, 9635])\n",
      "tensor([[[ 2.6300e-02,  1.0792e+00,  1.0320e-01,  ...,  0.0000e+00,\n",
      "           1.0000e+00,  0.0000e+00],\n",
      "         [ 8.4147e-01,  5.4030e-01,  8.9384e-01,  ...,  1.0029e-04,\n",
      "           1.0000e+00,  1.0010e-04],\n",
      "         [ 9.0930e-01, -3.4795e-01,  9.1088e-01,  ...,  2.0057e-04,\n",
      "           1.0000e+00,  2.0019e-04],\n",
      "         ...,\n",
      "         [-9.2346e-01, -3.8370e-01, -8.4828e-01,  ...,  8.6246e-03,\n",
      "           9.9996e-01,  8.6081e-03],\n",
      "         [-8.2182e-01,  6.0655e-01, -9.0474e-01,  ...,  8.7249e-03,\n",
      "           9.9996e-01,  8.7082e-03],\n",
      "         [ 3.5398e-02,  9.9937e-01, -7.8789e-02,  ...,  8.8252e-03,\n",
      "           9.9996e-01,  8.8083e-03]],\n",
      "\n",
      "        [[ 8.6007e-01,  5.4248e-01,  8.1386e-01,  ...,  8.9254e-03,\n",
      "           9.9996e-01,  8.9084e-03],\n",
      "         [ 8.9400e-01, -4.1507e-01,  9.5746e-01,  ...,  9.0257e-03,\n",
      "           9.9996e-01,  9.0085e-03],\n",
      "         [ 1.0599e-01, -9.9437e-01,  2.7636e-01,  ...,  9.1260e-03,\n",
      "           9.9996e-01,  9.1086e-03],\n",
      "         ...,\n",
      "         [-7.7223e-01,  5.9848e-01, -9.5314e-01,  ...,  1.7549e-02,\n",
      "           9.9985e-01,  1.7516e-02],\n",
      "         [ 9.9452e-02,  1.0147e+00, -2.6225e-01,  ...,  1.7650e-02,\n",
      "           9.9984e-01,  1.7616e-02],\n",
      "         [ 8.7759e-01,  4.7941e-01,  6.6891e-01,  ...,  1.7750e-02,\n",
      "           9.9984e-01,  1.7716e-02]],\n",
      "\n",
      "        [[ 8.7758e-01, -4.7944e-01,  9.8722e-01,  ...,  1.7850e-02,\n",
      "           9.9984e-01,  1.7816e-02],\n",
      "         [ 9.8422e-02, -9.9750e-01,  4.5526e-01,  ...,  1.7950e-02,\n",
      "           9.9984e-01,  1.7916e-02],\n",
      "         [-8.0115e-01, -5.8246e-01, -5.5255e-01,  ...,  1.8051e-02,\n",
      "           9.9984e-01,  1.8016e-02],\n",
      "         ...,\n",
      "         [ 1.0602e-01,  9.9436e-01, -3.8760e-01,  ...,  2.6473e-02,\n",
      "           9.9965e-01,  2.6422e-02],\n",
      "         [ 8.9401e-01,  4.4805e-01,  5.6469e-01,  ...,  2.6573e-02,\n",
      "           9.9965e-01,  2.6522e-02],\n",
      "         [ 8.6005e-01, -4.5580e-01,  9.9963e-01,  ...,  2.6673e-02,\n",
      "           9.9964e-01,  2.6622e-02]],\n",
      "\n",
      "        ...,\n",
      "\n",
      "        [[-7.0879e-01, -7.0542e-01,  1.8849e-01,  ...,  1.9510e-01,\n",
      "           9.8078e-01,  1.9473e-01],\n",
      "         [-9.4775e-01,  2.1528e-01,  9.2750e-01,  ...,  1.9520e-01,\n",
      "           9.8076e-01,  1.9483e-01],\n",
      "         [-3.4648e-01,  9.3806e-01,  8.1682e-01,  ...,  1.9530e-01,\n",
      "           9.8074e-01,  1.9493e-01],\n",
      "         ...,\n",
      "         [ 9.5139e-01, -3.8387e-01, -9.3288e-01,  ...,  2.0355e-01,\n",
      "           9.7906e-01,  2.0317e-01],\n",
      "         [ 2.0100e-01, -9.8441e-01, -8.0828e-01,  ...,  2.0365e-01,\n",
      "           9.7904e-01,  2.0327e-01],\n",
      "         [-7.3331e-01, -6.7989e-01,  5.6907e-02,  ...,  2.0375e-01,\n",
      "           9.7902e-01,  2.0337e-01]],\n",
      "\n",
      "        [[-9.6832e-01,  2.8362e-01,  9.2499e-01,  ...,  2.0385e-01,\n",
      "           9.7900e-01,  2.0347e-01],\n",
      "         [-3.1306e-01,  9.4973e-01,  8.8596e-01,  ...,  2.0395e-01,\n",
      "           9.7898e-01,  2.0356e-01],\n",
      "         [ 6.3003e-01,  7.7657e-01,  9.0269e-02,  ...,  2.0405e-01,\n",
      "           9.7896e-01,  2.0366e-01],\n",
      "         ...,\n",
      "         [ 1.6834e-01, -9.9002e-01, -8.7902e-01,  ...,  2.1228e-01,\n",
      "           9.7721e-01,  2.1189e-01],\n",
      "         [-7.5692e-01, -6.5351e-01, -7.5674e-02,  ...,  2.1238e-01,\n",
      "           9.7719e-01,  2.1198e-01],\n",
      "         [-9.5887e-01,  2.8384e-01,  7.9699e-01,  ...,  2.1248e-01,\n",
      "           9.7717e-01,  2.1208e-01]],\n",
      "\n",
      "        [[-2.5494e-01,  9.6022e-01,  9.3953e-01,  ...,  2.1258e-01,\n",
      "           9.7714e-01,  2.1218e-01],\n",
      "         [ 6.5712e-01,  7.5378e-01,  2.2135e-01,  ...,  2.1268e-01,\n",
      "           9.7712e-01,  2.1228e-01],\n",
      "         [ 9.8933e-01, -1.4568e-01, -6.9978e-01,  ...,  2.1277e-01,\n",
      "           9.7710e-01,  2.1237e-01],\n",
      "         ...,\n",
      "         [-7.7958e-01, -6.2630e-01, -2.0705e-01,  ...,  2.2100e-01,\n",
      "           9.7527e-01,  2.2058e-01],\n",
      "         [-9.4822e-01,  3.1760e-01,  7.1017e-01,  ...,  2.2110e-01,\n",
      "           9.7525e-01,  2.2068e-01],\n",
      "         [-2.4508e-01,  9.8140e-01,  9.7655e-01,  ...,  2.2119e-01,\n",
      "           9.7523e-01,  2.2078e-01]]], device='cuda:0')\n",
      "qkv.size(): torch.Size([25, 89, 28905])\n",
      "25, 89, 1, 9635\n",
      "qkv.size(): torch.Size([25, 89, 1, 28905])\n",
      "q.size(): torch.Size([25, 1, 89, 9635]), k.size(): torch.Size([25, 1, 89, 9635]), v.size(): torch.Size([25, 1, 89, 9635])\n",
      "values.size(): torch.Size([25, 1, 89, 9635]), attention.size(): torch.Size([25, 1, 89, 89])\n",
      "x.size(): torch.Size([25, 89, 9635])\n",
      "tensor([[[-0.9151,  0.7258, -0.8780,  ..., -1.1592,  0.8669, -0.6920],\n",
      "         [ 0.3613, -0.4957,  0.6807,  ..., -1.2431,  0.7035, -0.8628],\n",
      "         [ 0.2803, -2.1496,  0.4691,  ..., -1.1439,  1.1807, -0.6909],\n",
      "         ...,\n",
      "         [-2.1119, -1.4280, -1.7704,  ..., -0.9114,  1.2113, -0.1392],\n",
      "         [-2.0962,  0.0934, -1.6474,  ..., -0.9027,  1.1077, -0.2274],\n",
      "         [-0.7929,  0.6419, -0.5926,  ..., -0.7262,  1.1720, -0.1348]],\n",
      "\n",
      "        [[ 0.6849, -0.3542,  0.4019,  ..., -0.3397,  0.9028, -0.0773],\n",
      "         [ 0.5586, -1.7454,  1.0081,  ..., -0.1503,  1.1725, -0.1607],\n",
      "         [-0.5329, -2.5102, -0.4030,  ..., -0.5166,  1.1844,  0.2603],\n",
      "         ...,\n",
      "         [-1.5056,  0.0326, -2.1425,  ..., -0.2509,  1.1225, -0.0142],\n",
      "         [-0.2359,  0.4382, -0.8389,  ..., -0.3489,  1.0305,  0.0342],\n",
      "         [ 0.9355, -0.3595,  0.4537,  ..., -0.1043,  1.0452, -0.5381]],\n",
      "\n",
      "        [[ 0.8243, -1.9306,  0.9254,  ..., -0.1828,  1.1676, -0.2892],\n",
      "         [-0.3214, -2.6343,  0.4592,  ..., -0.1122,  1.0389, -0.4428],\n",
      "         [-1.3230, -2.0020, -0.8796,  ..., -0.3591,  1.4096, -0.4028],\n",
      "         ...,\n",
      "         [-0.2219,  0.2878, -1.1374,  ..., -0.3158,  1.6184, -0.4270],\n",
      "         [ 0.7941, -0.4668,  0.5425,  ..., -0.1195,  1.6182, -0.1243],\n",
      "         [ 0.7547, -1.7513,  1.2568,  ..., -0.1304,  1.6669, -0.1505]],\n",
      "\n",
      "        ...,\n",
      "\n",
      "        [[-1.4851, -1.4064,  0.0421,  ..., -0.3164,  0.5155,  0.2014],\n",
      "         [-1.5944, -0.0561,  0.8926,  ..., -0.1938,  0.4448,  0.4663],\n",
      "         [-1.0182,  0.9645,  0.7312,  ..., -0.4828,  0.4867,  0.1703],\n",
      "         ...,\n",
      "         [ 0.7831, -0.3880, -1.5683,  ..., -0.2161,  0.7726,  0.0402],\n",
      "         [-0.2694, -1.7259, -1.5821,  ..., -0.0217,  0.7777,  0.1794],\n",
      "         [-1.7097, -1.3158, -0.2729,  ..., -0.1723,  0.6616,  0.1860]],\n",
      "\n",
      "        [[-1.6105, -0.1860,  0.6264,  ..., -0.1989,  1.0090,  0.1776],\n",
      "         [-0.8022,  0.7139,  0.4886,  ..., -0.3425,  1.3379,  0.1961],\n",
      "         [ 0.1957,  0.6135, -0.4500,  ..., -0.1653,  0.8906,  0.3114],\n",
      "         ...,\n",
      "         [-0.2662, -1.8118, -1.8717,  ..., -0.2394,  0.6638,  0.3048],\n",
      "         [-1.3290, -1.5342, -0.9466,  ..., -0.0126,  0.8766,  0.1393],\n",
      "         [-1.5553,  0.0772,  0.5663,  ..., -0.0556,  0.7807,  0.1844]],\n",
      "\n",
      "        [[-0.4631,  0.8892,  0.9822,  ..., -0.0257,  1.1402,  0.2131],\n",
      "         [ 1.1599,  0.8189,  0.1260,  ...,  0.3471,  0.9543,  0.1473],\n",
      "         [ 1.5026, -0.8885, -1.0633,  ...,  0.1338,  0.8671,  0.1476],\n",
      "         ...,\n",
      "         [-1.0729, -1.4063, -0.5960,  ..., -0.0049,  1.0067,  0.3181],\n",
      "         [-1.4480, -0.0653,  0.5969,  ..., -0.1369,  1.0343,  0.1741],\n",
      "         [-0.2333,  1.2296,  0.8916,  ..., -0.0190,  0.9583,  0.1623]]],\n",
      "       device='cuda:0', grad_fn=<AddBackward0>)\n",
      "qkv.size(): torch.Size([25, 89, 28905])\n",
      "25, 89, 1, 9635\n",
      "qkv.size(): torch.Size([25, 89, 1, 28905])\n",
      "q.size(): torch.Size([25, 1, 89, 9635]), k.size(): torch.Size([25, 1, 89, 9635]), v.size(): torch.Size([25, 1, 89, 9635])\n",
      "values.size(): torch.Size([25, 1, 89, 9635]), attention.size(): torch.Size([25, 1, 89, 89])\n",
      "x.size(): torch.Size([25, 89, 9635])\n",
      "tensor([[[-0.9923,  1.0758, -0.4810,  ..., -1.8922,  0.9916, -1.0982],\n",
      "         [ 0.2499, -0.2771,  0.8983,  ..., -1.6834,  1.0214, -1.3068],\n",
      "         [ 0.3307, -1.6092,  0.5697,  ..., -1.7559,  0.9311, -1.0996],\n",
      "         ...,\n",
      "         [-1.8145, -1.2053, -1.2790,  ..., -1.0717,  1.1188, -0.4987],\n",
      "         [-2.0263, -0.0568, -1.1523,  ..., -1.0758,  1.0064, -0.6104],\n",
      "         [-0.8777,  0.5020, -0.3881,  ..., -0.9461,  1.2064, -0.5371]],\n",
      "\n",
      "        [[ 0.6235, -0.9741,  0.6605,  ..., -0.4550,  1.1273, -0.6651],\n",
      "         [ 0.4695, -2.1477,  1.2830,  ..., -0.3310,  1.4572, -0.7352],\n",
      "         [-0.6386, -2.9508, -0.0341,  ..., -0.9177,  1.3473, -0.1907],\n",
      "         ...,\n",
      "         [-1.3423, -0.3894, -2.0709,  ..., -0.4558,  1.4839, -0.4436],\n",
      "         [-0.5676,  0.0096, -0.6508,  ..., -1.0153,  1.2096, -0.3883],\n",
      "         [ 0.6511, -0.6204,  0.5025,  ..., -0.4462,  1.2564, -1.0264]],\n",
      "\n",
      "        [[ 0.5799, -1.6079,  1.0514,  ..., -0.5802,  0.8557, -0.7444],\n",
      "         [-0.6632, -2.4278,  0.6585,  ..., -0.7871,  0.7990, -0.6676],\n",
      "         [-1.5206, -1.6795, -0.6836,  ..., -1.2670,  1.2305, -0.3733],\n",
      "         ...,\n",
      "         [-0.6870,  0.3402, -0.6643,  ..., -0.7133,  1.6805, -0.2147],\n",
      "         [ 0.3492, -0.4114,  0.6989,  ..., -0.4026,  1.6496, -0.4056],\n",
      "         [ 0.4488, -1.7585,  1.4132,  ..., -0.4766,  1.6302, -0.5681]],\n",
      "\n",
      "        ...,\n",
      "\n",
      "        [[-1.1741, -1.2948, -0.2538,  ..., -0.2391,  0.5847, -0.7336],\n",
      "         [-1.2865,  0.4678,  0.4869,  ...,  0.0085,  0.7057, -0.6093],\n",
      "         [-0.4433,  0.8692,  0.1384,  ..., -0.3920,  0.6479, -0.3996],\n",
      "         ...,\n",
      "         [ 0.9269, -0.1731, -1.5888,  ..., -0.1925,  0.5443, -1.0280],\n",
      "         [-0.4056, -1.7380, -1.6503,  ..., -0.1647,  0.4779, -0.9042],\n",
      "         [-1.5798, -0.9578, -0.4876,  ...,  0.2258,  0.6317, -0.7355]],\n",
      "\n",
      "        [[-1.0523, -0.2858,  0.2888,  ..., -0.2777,  0.9177, -0.3829],\n",
      "         [-0.6664,  0.7805,  0.2758,  ..., -0.7381,  1.0879, -0.4169],\n",
      "         [ 0.0105,  0.5410, -0.4785,  ..., -0.3618,  0.8988, -0.3421],\n",
      "         ...,\n",
      "         [ 0.2957, -1.9067, -2.1419,  ..., -0.1750,  0.2206, -0.4198],\n",
      "         [-0.8529, -1.4462, -1.2361,  ...,  0.3798,  0.5873, -0.4846],\n",
      "         [-1.0257,  0.0368,  0.4647,  ...,  0.0816,  0.6755, -0.5183]],\n",
      "\n",
      "        [[-0.1244,  0.3555,  1.0887,  ...,  0.2252,  1.1719, -0.4145],\n",
      "         [ 1.3675,  0.3371,  0.2235,  ...,  0.0210,  0.8130, -0.2262],\n",
      "         [ 1.7047, -1.3508, -0.8236,  ...,  0.3473,  0.7875, -0.3045],\n",
      "         ...,\n",
      "         [-1.0569, -1.8191, -0.3740,  ..., -0.1101,  1.1815,  0.2973],\n",
      "         [-1.3698, -0.6548,  0.6849,  ..., -0.2717,  1.0812, -0.3703],\n",
      "         [-0.1825,  0.6371,  1.0517,  ..., -0.1767,  0.9329, -0.3753]]],\n",
      "       device='cuda:0', grad_fn=<AddBackward0>)\n",
      "qkv.size(): torch.Size([25, 89, 28905])\n",
      "25, 89, 1, 9635\n",
      "qkv.size(): torch.Size([25, 89, 1, 28905])\n",
      "q.size(): torch.Size([25, 1, 89, 9635]), k.size(): torch.Size([25, 1, 89, 9635]), v.size(): torch.Size([25, 1, 89, 9635])\n",
      "values.size(): torch.Size([25, 1, 89, 9635]), attention.size(): torch.Size([25, 1, 89, 89])\n",
      "x.size(): torch.Size([25, 89, 9635])\n",
      "tensor([[[-8.1330e-01,  4.0494e-01, -9.3826e-01,  ..., -1.7298e+00,\n",
      "           1.3792e+00, -1.1195e+00],\n",
      "         [ 5.0080e-01, -1.0692e+00,  4.7618e-01,  ..., -1.2028e+00,\n",
      "           1.3841e+00, -1.1404e+00],\n",
      "         [ 4.8146e-01, -2.1987e+00,  2.4881e-01,  ..., -1.3198e+00,\n",
      "           9.6873e-01, -1.0098e+00],\n",
      "         ...,\n",
      "         [-1.4434e+00, -1.8719e+00, -1.5514e+00,  ..., -9.3869e-01,\n",
      "           1.3783e+00, -6.1327e-01],\n",
      "         [-1.4969e+00, -1.1378e+00, -1.4374e+00,  ..., -1.0565e+00,\n",
      "           1.3915e+00, -7.0990e-01],\n",
      "         [-6.2117e-01, -3.9060e-01, -4.4817e-01,  ..., -6.9744e-01,\n",
      "           1.4392e+00, -6.3570e-01]],\n",
      "\n",
      "        [[ 8.2017e-01, -2.1906e+00,  3.0704e-01,  ...,  1.5754e-01,\n",
      "           1.1380e+00, -3.8985e-01],\n",
      "         [ 3.1747e-01, -3.2479e+00,  1.0170e+00,  ...,  1.7492e-01,\n",
      "           1.2610e+00, -4.7716e-01],\n",
      "         [-7.0780e-01, -3.4871e+00, -1.9066e-01,  ..., -4.8701e-01,\n",
      "           1.2248e+00, -6.0283e-02],\n",
      "         ...,\n",
      "         [-1.6376e+00, -1.0933e+00, -2.2037e+00,  ..., -1.3592e-01,\n",
      "           1.3714e+00, -4.8898e-01],\n",
      "         [-9.0937e-01, -1.1409e+00, -7.8622e-01,  ..., -6.2609e-01,\n",
      "           9.7484e-01, -2.4854e-01],\n",
      "         [ 1.5637e-01, -1.9569e+00,  3.8563e-01,  ...,  1.4742e-01,\n",
      "           1.2364e+00, -1.0138e+00]],\n",
      "\n",
      "        [[ 6.1519e-01, -2.4094e+00,  7.2805e-01,  ...,  2.0972e-02,\n",
      "           8.4428e-01, -8.7366e-01],\n",
      "         [-5.8890e-01, -2.7761e+00,  3.1567e-01,  ..., -4.0791e-01,\n",
      "           8.9591e-01, -6.7963e-01],\n",
      "         [-1.5664e+00, -2.4165e+00, -9.4034e-01,  ..., -8.5232e-01,\n",
      "           1.1851e+00, -5.8515e-01],\n",
      "         ...,\n",
      "         [-9.9343e-01, -7.8701e-01, -4.0779e-01,  ...,  8.2174e-04,\n",
      "           1.5928e+00,  3.1238e-02],\n",
      "         [-7.8905e-02, -8.2454e-01,  5.5847e-01,  ...,  1.2762e-01,\n",
      "           1.4781e+00, -5.0783e-01],\n",
      "         [ 1.8899e-01, -2.6547e+00,  1.4097e+00,  ...,  2.5582e-02,\n",
      "           1.6498e+00, -6.9008e-01]],\n",
      "\n",
      "        ...,\n",
      "\n",
      "        [[-1.0842e+00, -1.4047e+00, -8.2251e-01,  ..., -5.3900e-01,\n",
      "           3.9087e-01, -6.3664e-01],\n",
      "         [-1.1745e+00,  1.2954e-01, -7.5031e-02,  ..., -1.8348e-01,\n",
      "           5.5978e-01, -4.4057e-01],\n",
      "         [-4.8575e-01,  7.2294e-01, -7.5332e-02,  ..., -6.3518e-01,\n",
      "           6.7993e-01, -3.7614e-01],\n",
      "         ...,\n",
      "         [ 4.4323e-01, -5.5015e-01, -2.0472e+00,  ...,  1.7582e-01,\n",
      "           7.0075e-01, -4.8469e-01],\n",
      "         [-8.7949e-01, -1.7008e+00, -2.1459e+00,  ...,  5.4924e-01,\n",
      "           3.6588e-01, -6.2948e-01],\n",
      "         [-1.7803e+00, -1.3323e+00, -1.2167e+00,  ..., -3.6772e-02,\n",
      "           7.5445e-01, -3.0044e-01]],\n",
      "\n",
      "        [[-1.6487e+00, -4.4440e-01, -8.0133e-01,  ..., -2.0131e-01,\n",
      "           1.0699e+00,  1.2370e-01],\n",
      "         [-1.2514e+00,  4.7081e-01, -8.3597e-01,  ..., -4.7241e-01,\n",
      "           1.4264e+00,  2.7971e-01],\n",
      "         [-2.2783e-01,  3.8439e-01, -1.6658e+00,  ..., -3.6442e-01,\n",
      "           1.0705e+00,  4.1570e-02],\n",
      "         ...,\n",
      "         [-2.6104e-01, -1.5771e+00, -2.4323e+00,  ..., -5.3847e-01,\n",
      "           3.0269e-01, -3.0156e-02],\n",
      "         [-1.3234e+00, -1.6212e+00, -2.0851e+00,  ...,  7.4210e-02,\n",
      "           5.1332e-01,  9.5933e-02],\n",
      "         [-1.5595e+00, -5.9193e-01, -2.9450e-01,  ..., -3.2459e-01,\n",
      "           4.3147e-01, -1.0314e-01]],\n",
      "\n",
      "        [[-6.3447e-01,  6.8945e-01,  2.9597e-01,  ..., -1.4268e-02,\n",
      "           9.7769e-01, -3.4457e-01],\n",
      "         [ 1.0307e+00,  4.9365e-02, -1.5537e-01,  ..., -2.2169e-01,\n",
      "           5.1193e-01, -1.2563e-01],\n",
      "         [ 1.0497e+00, -1.7458e+00, -1.1518e+00,  ...,  1.9960e-02,\n",
      "           2.9425e-01, -2.7409e-01],\n",
      "         ...,\n",
      "         [-1.3498e+00, -1.6567e+00, -1.0045e+00,  ..., -8.5527e-01,\n",
      "           1.2764e+00,  1.3672e-01],\n",
      "         [-1.6824e+00, -1.0209e+00,  1.3563e-01,  ..., -1.0535e+00,\n",
      "           8.5557e-01, -3.7888e-01],\n",
      "         [-4.6605e-01,  4.0038e-01,  5.7615e-01,  ..., -8.5797e-01,\n",
      "           8.6944e-01, -2.2407e-01]]], device='cuda:0', grad_fn=<AddBackward0>)\n",
      "qkv.size(): torch.Size([25, 89, 28905])\n",
      "25, 89, 1, 9635\n",
      "qkv.size(): torch.Size([25, 89, 1, 28905])\n",
      "q.size(): torch.Size([25, 1, 89, 9635]), k.size(): torch.Size([25, 1, 89, 9635]), v.size(): torch.Size([25, 1, 89, 9635])\n",
      "values.size(): torch.Size([25, 1, 89, 9635]), attention.size(): torch.Size([25, 1, 89, 89])\n",
      "x.size(): torch.Size([25, 89, 9635])\n",
      "tensor([[[-7.8552e-01,  2.3268e-01, -1.6002e+00,  ..., -1.7924e+00,\n",
      "           1.9919e+00, -1.0221e+00],\n",
      "         [ 1.1959e-01, -9.2030e-01, -3.5995e-01,  ..., -1.1581e+00,\n",
      "           1.9279e+00, -1.0263e+00],\n",
      "         [-1.1197e-01, -2.2338e+00, -2.8463e-01,  ..., -1.1382e+00,\n",
      "           1.2901e+00, -1.2511e+00],\n",
      "         ...,\n",
      "         [-1.4218e+00, -1.6578e+00, -2.4274e+00,  ..., -6.5569e-01,\n",
      "           1.7083e+00, -5.2055e-01],\n",
      "         [-1.2563e+00, -7.6323e-01, -2.4505e+00,  ..., -6.6056e-01,\n",
      "           1.7463e+00, -7.9240e-01],\n",
      "         [-4.2742e-01, -1.9455e-01, -1.3221e+00,  ..., -5.5056e-01,\n",
      "           1.8820e+00, -6.2932e-01]],\n",
      "\n",
      "        [[ 2.7541e-01, -1.8118e+00, -4.8715e-01,  ...,  2.5417e-01,\n",
      "           9.6255e-01, -4.4470e-01],\n",
      "         [ 1.2991e-01, -2.7052e+00,  3.3661e-02,  ..., -5.8685e-02,\n",
      "           1.3274e+00, -5.3027e-01],\n",
      "         [-6.3992e-01, -2.9454e+00, -9.7090e-01,  ..., -6.4889e-01,\n",
      "           1.1389e+00, -1.1616e-03],\n",
      "         ...,\n",
      "         [-1.5100e+00, -4.1551e-01, -2.4968e+00,  ..., -6.7527e-01,\n",
      "           1.3082e+00, -5.5035e-01],\n",
      "         [-9.9535e-01, -8.2221e-01, -1.0804e+00,  ..., -9.5482e-01,\n",
      "           9.5714e-01, -3.6072e-01],\n",
      "         [ 3.0393e-01, -1.4286e+00, -4.0451e-01,  ..., -4.4852e-01,\n",
      "           1.2042e+00, -9.8047e-01]],\n",
      "\n",
      "        [[ 5.3703e-01, -2.2954e+00,  1.7068e-01,  ...,  1.3883e-02,\n",
      "           6.3293e-01, -1.0516e+00],\n",
      "         [-3.4088e-01, -2.6560e+00, -4.0558e-01,  ..., -7.3264e-01,\n",
      "           7.8973e-01, -8.7600e-01],\n",
      "         [-1.2874e+00, -2.1493e+00, -1.7619e+00,  ..., -1.2671e+00,\n",
      "           9.1079e-01, -8.3956e-01],\n",
      "         ...,\n",
      "         [-8.6198e-01, -6.1870e-01, -7.8600e-01,  ..., -1.2134e-01,\n",
      "           9.0610e-01, -2.4037e-01],\n",
      "         [-4.1018e-01, -7.8722e-01,  3.9002e-02,  ...,  2.3806e-02,\n",
      "           1.1740e+00, -4.5708e-01],\n",
      "         [-9.7535e-02, -2.4856e+00,  9.2731e-01,  ..., -2.6117e-01,\n",
      "           1.0599e+00, -7.2831e-01]],\n",
      "\n",
      "        ...,\n",
      "\n",
      "        [[-1.0015e+00, -1.3259e+00, -8.6190e-01,  ..., -7.6382e-01,\n",
      "           1.5423e-01, -6.8393e-01],\n",
      "         [-1.3803e+00, -4.9466e-02, -9.8787e-02,  ..., -5.8986e-01,\n",
      "           2.7145e-01, -3.1686e-01],\n",
      "         [-5.7341e-01,  6.5593e-01, -3.7256e-01,  ..., -8.9482e-01,\n",
      "           4.6918e-01, -2.7232e-01],\n",
      "         ...,\n",
      "         [ 5.2922e-01, -5.3102e-01, -2.3541e+00,  ..., -2.5539e-01,\n",
      "           7.3338e-01, -6.0161e-01],\n",
      "         [-6.7784e-01, -1.3953e+00, -2.4060e+00,  ...,  1.9317e-01,\n",
      "           4.1380e-01, -8.2070e-01],\n",
      "         [-1.5788e+00, -1.0610e+00, -1.4431e+00,  ..., -4.4836e-01,\n",
      "           6.0949e-01, -4.5424e-01]],\n",
      "\n",
      "        [[-1.5994e+00, -2.2215e-01, -9.9991e-01,  ..., -4.2984e-01,\n",
      "           8.3035e-01,  2.2948e-01],\n",
      "         [-1.1760e+00,  5.6878e-01, -1.1441e+00,  ..., -1.1060e-01,\n",
      "           8.3269e-01,  1.0463e-01],\n",
      "         [-7.8256e-02,  5.1642e-01, -1.7538e+00,  ..., -2.3267e-02,\n",
      "           8.4486e-01, -3.8431e-02],\n",
      "         ...,\n",
      "         [-1.2505e-01, -1.2463e+00, -2.5417e+00,  ..., -1.0890e+00,\n",
      "           2.2394e-01,  1.9936e-01],\n",
      "         [-1.0806e+00, -1.4657e+00, -2.0032e+00,  ..., -9.9378e-02,\n",
      "           5.9603e-01,  3.5128e-01],\n",
      "         [-1.4602e+00, -6.4845e-01, -3.6785e-01,  ..., -1.0102e+00,\n",
      "           4.3479e-01,  1.0760e-01]],\n",
      "\n",
      "        [[-5.7792e-01,  4.9373e-01, -6.1452e-02,  ..., -6.1929e-01,\n",
      "           6.5937e-01, -1.2831e-01],\n",
      "         [ 9.1790e-01,  2.5638e-01, -6.5320e-01,  ..., -9.2269e-01,\n",
      "           2.4703e-01, -7.7680e-02],\n",
      "         [ 1.0535e+00, -1.8261e+00, -1.4426e+00,  ..., -3.6384e-01,\n",
      "          -1.1279e-01, -3.4736e-01],\n",
      "         ...,\n",
      "         [-1.2370e+00, -1.3657e+00, -1.3841e+00,  ..., -9.9992e-01,\n",
      "           5.4884e-01, -3.4352e-01],\n",
      "         [-1.2456e+00, -6.6457e-01,  3.1737e-01,  ..., -1.3520e+00,\n",
      "           5.6302e-01, -4.4274e-01],\n",
      "         [-4.1724e-01,  7.4188e-01,  2.7638e-01,  ..., -1.2460e+00,\n",
      "           6.0675e-01, -2.7749e-01]]], device='cuda:0', grad_fn=<AddBackward0>)\n",
      "qkv.size(): torch.Size([25, 89, 28905])\n",
      "25, 89, 1, 9635\n",
      "qkv.size(): torch.Size([25, 89, 1, 28905])\n",
      "q.size(): torch.Size([25, 1, 89, 9635]), k.size(): torch.Size([25, 1, 89, 9635]), v.size(): torch.Size([25, 1, 89, 9635])\n",
      "values.size(): torch.Size([25, 1, 89, 9635]), attention.size(): torch.Size([25, 1, 89, 89])\n"
     ]
    }
   ],
   "source": [
    "out = encoder(x)"
   ]
  },
  {
   "cell_type": "code",
   "execution_count": 26,
   "metadata": {},
   "outputs": [],
   "source": [
    "del encoder"
   ]
  },
  {
   "cell_type": "code",
   "execution_count": 27,
   "metadata": {},
   "outputs": [],
   "source": [
    "def KMeans_Labels(X, n, rstate_limit, true_labels):\n",
    "    # Specify the number of clusters (you can choose an appropriate value)\n",
    "    num_clusters = n\n",
    "    \n",
    "    # find centoids which give maximum purity\n",
    "    purity_collection = {}\n",
    "    for i in range(rstate_limit):\n",
    "        clusters = KMeans(n_init='auto', n_clusters=num_clusters, random_state=i, init='k-means++').fit(X).labels_\n",
    "        purity_collection[i] = Purity_Score(true_labels, clusters)\n",
    "    \n",
    "    max_rand_state = max(purity_collection, key=purity_collection.get)\n",
    "    print(f\"Maximum purity of {purity_collection[max_rand_state]} found on random state {max_rand_state}\")\n",
    "\n",
    "    plot_graph(purity_collection.keys(), purity_collection.values())\n",
    "    \n",
    "    # Create a KMeans model\n",
    "    kmeans = KMeans(n_init='auto', n_clusters=num_clusters, random_state=max_rand_state, init='k-means++')\n",
    "    # Fit the KMeans model to the TF-IDF data\n",
    "    kmeans.fit(X)\n",
    "    # Get the cluster assignments for each document\n",
    "    cluster_assignments = kmeans.labels_\n",
    "    \n",
    "    return cluster_assignments\n",
    "\n",
    "def plot_graph(x, y):\n",
    "    plt.scatter(x, y, marker = \"o\")\n",
    "    plt.title(\"Purity x Random State\")\n",
    "    plt.ylabel(\"Purity\")\n",
    "    plt.xlabel(\"Random State\")\n",
    "    plt.show()\n",
    "\n",
    "def calculate_purity(random_state, X, true_labels):\n",
    "    clusters = KMeans(n_init='auto', n_clusters=num_clusters, random_state=random_state, init='k-means++').fit(X).labels_\n",
    "    purity = Purity_Score(true_labels, clusters)\n",
    "    return random_state, purity\n",
    "\n",
    "def KMeans_Labels_Parallel(X, n, rstate_limit, true_labels):\n",
    "    # Specify the number of clusters (you can choose an appropriate value)\n",
    "    global num_clusters\n",
    "    num_clusters = n\n",
    "    \n",
    "    # Use ThreadPoolExecutor to parallelize purity calculations\n",
    "    with ThreadPoolExecutor() as executor:\n",
    "        futures = {executor.submit(calculate_purity, i, X, true_labels): i for i in range(rstate_limit)}\n",
    "\n",
    "    purity_collection = {future.result()[0]: future.result()[1] for future in futures}\n",
    "\n",
    "    max_rand_state = max(purity_collection, key=purity_collection.get)\n",
    "    print(f\"Maximum purity of {purity_collection[max_rand_state]} found on random state {max_rand_state}\")\n",
    "\n",
    "    plot_graph(purity_collection.keys(), purity_collection.values())\n",
    "    \n",
    "    # Create a KMeans model\n",
    "    kmeans = KMeans(n_init='auto', n_clusters=num_clusters, random_state=max_rand_state, init='k-means++')\n",
    "    # Fit the KMeans model to the data\n",
    "    kmeans.fit(X)\n",
    "    # Get the cluster assignments for each data point\n",
    "    cluster_assignments = kmeans.labels_\n",
    "    cluster_centers = kmeans.cluster_centers_\n",
    "    \n",
    "    return cluster_assignments, cluster_centers\n"
   ]
  },
  {
   "cell_type": "code",
   "execution_count": 28,
   "metadata": {},
   "outputs": [],
   "source": [
    "reshaped_out = out.reshape(out.size()[0] * out.size()[1], out.size()[2])"
   ]
  },
  {
   "cell_type": "code",
   "execution_count": 29,
   "metadata": {},
   "outputs": [
    {
     "name": "stdout",
     "output_type": "stream",
     "text": [
      "Maximum purity of 0.9568539325842697 found on random state 83\n"
     ]
    },
    {
     "data": {
      "image/png": "[encoded data removed]",
      "text/plain": [
       "<Figure size 640x480 with 1 Axes>"
      ]
     },
     "metadata": {},
     "output_type": "display_data"
    }
   ],
   "source": [
    "enhanced_x = reshaped_out.cpu().detach().numpy()\n",
    "true_labels = y\n",
    "pred_lables, centoids = KMeans_Labels_Parallel(enhanced_x, 5, 700, true_labels)"
   ]
  },
  {
   "cell_type": "code",
   "execution_count": 30,
   "metadata": {},
   "outputs": [
    {
     "name": "stdout",
     "output_type": "stream",
     "text": [
      "Purity: 0.9568539325842697\n",
      "Silhouette Score: 0.10930003970861435\n",
      "ARI Score: 0.8964100017894705\n",
      "NMI Score: 0.8990337694021349\n"
     ]
    }
   ],
   "source": [
    "Evaluate(enhanced_x, true_labels, pred_lables)"
   ]
  },
  {
   "cell_type": "code",
   "execution_count": 31,
   "metadata": {},
   "outputs": [],
   "source": [
    "def visualize_clusters(X, cluster_assignments, cluster_centers, num_dimensions=2):\n",
    "    # Apply PCA to reduce the dimensions for visualization\n",
    "    pca = PCA(n_components=num_dimensions)\n",
    "    X_pca = pca.fit_transform(X)\n",
    "\n",
    "    # Combine data and cluster assignments into a DataFrame\n",
    "    data_with_clusters = pd.DataFrame(X_pca, columns=[f'PC{i}' for i in range(1, num_dimensions+1)])\n",
    "    data_with_clusters['Cluster'] = cluster_assignments\n",
    "\n",
    "    # Scatter plot with different colors for each cluster\n",
    "    plt.figure(figsize=(8, 6))\n",
    "    sns.scatterplot(x='PC1', y='PC2', hue='Cluster', data=data_with_clusters, palette='viridis', s=80, alpha=0.8)\n",
    "    \n",
    "    # Plot cluster centers if available\n",
    "    centers = pca.transform(cluster_centers)\n",
    "    plt.scatter(centers[:, 0], centers[:, 1], c='red', marker='X', s=200, label='Cluster Centers')\n",
    "    \n",
    "    plt.title('Cluster Visualization (PCA)')\n",
    "    plt.xlabel('Principal Component 1')\n",
    "    plt.ylabel('Principal Component 2')\n",
    "    plt.legend()\n",
    "    plt.show()\n"
   ]
  },
  {
   "cell_type": "code",
   "execution_count": 32,
   "metadata": {},
   "outputs": [
    {
     "data": {
      "image/png": "[encoded data removed]",
      "text/plain": [
       "<Figure size 800x600 with 1 Axes>"
      ]
     },
     "metadata": {},
     "output_type": "display_data"
    }
   ],
   "source": [
    "visualize_clusters(enhanced_x, pred_lables, cluster_centers=centoids, num_dimensions=2)"
   ]
  },
  {
   "cell_type": "code",
   "execution_count": 33,
   "metadata": {},
   "outputs": [
    {
     "name": "stdout",
     "output_type": "stream",
     "text": [
      "From 0 - 300\n",
      "[0 0 0 0 0 0 0 0 0 0 0 0 0 0 0 0 0 0 0 0 0 0 0 0 0 0 0 0 0 0 0 0 0 0 0 0 0\n",
      " 0 0 0 0 0 0 0 0 0 0 0 0 0 0 0 0 0 0 0 0 0 0 0 0 0 0 0 0 0 0 0 0 0 0 0 0 0\n",
      " 0 0 0 0 0 0 0 0 0 0 0 0 0 0 0 0 0 0 0 0 0 0 0 0 0 0 0 0 0 0 0 0 0 0 0 0 0\n",
      " 0 0 0 0 0 0 0 0 0 0 0 0 0 0 0 0 0 0 0 0 0 0 0 0 0 0 0 0 0 0 0 0 0 0 0 0 0\n",
      " 0 0 0 0 0 0 0 0 0 0 0 0 0 0 0 0 0 0 0 0 0 0 0 0 0 0 0 0 0 0 0 0 0 0 0 0 0\n",
      " 0 0 0 0 0 0 0 0 0 0 0 0 0 0 0 0 0 0 0 0 0 0 0 0 0 0 0 0 0 0 0 0 0 0 0 0 0\n",
      " 0 0 0 0 0 0 0 0 0 0 0 0 0 0 0 0 0 0 0 0 0 0 0 0 0 0 0 0 0 0 0 0 0 0 0 0 0\n",
      " 0 0 0 0 0 0 0 0 0 0 0 0 0 0 0 0 0 0 0 0 0 0 0 0 0 0 0 0 0 0 0 0 0 0 0 0 0\n",
      " 0 0 0 0]\n",
      "[0 0 0 0 0 0 0 0 0 0 0 0 0 0 0 0 0 0 0 0 0 0 0 0 0 0 0 0 0 0 0 0 0 0 0 0 0\n",
      " 0 0 0 0 0 0 0 0 0 0 0 0 0 0 0 0 0 0 0 0 0 0 0 0 0 0 0 0 0 0 0 0 0 0 0 0 0\n",
      " 0 0 0 0 0 0 0 0 0 0 0 0 0 0 0 0 0 0 0 0 0 0 0 0 0 0 0 0 0 0 0 0 0 0 0 0 0\n",
      " 0 0 0 0 0 0 0 0 0 0 0 0 0 0 0 0 0 0 0 0 0 0 0 0 0 0 0 0 0 0 0 0 0 0 0 0 0\n",
      " 0 0 0 0 0 0 0 0 0 0 0 0 0 0 0 0 0 0 0 0 0 0 0 0 0 0 0 0 0 0 0 0 0 0 0 0 0\n",
      " 0 0 0 0 0 0 0 0 0 0 0 0 0 0 0 0 0 0 0 0 0 0 0 0 0 0 0 0 0 0 0 0 0 0 0 0 0\n",
      " 0 0 0 0 0 0 0 0 0 0 0 0 0 0 0 0 0 0 0 0 0 0 0 0 0 0 0 0 0 0 0 0 0 0 0 0 0\n",
      " 0 0 0 0 0 0 0 0 0 0 0 0 0 0 0 0 0 0 0 0 0 0 0 0 0 0 0 0 0 0 0 0 0 0 0 0 0\n",
      " 0 0 0 0]\n",
      "From 300 - 600\n",
      "[0 0 0 0 0 0 0 0 0 0 0 0 0 0 0 0 0 0 0 0 0 0 0 0 0 0 0 0 0 0 0 0 0 0 0 0 0\n",
      " 0 0 0 0 0 0 0 0 0 0 0 0 0 0 0 0 0 0 0 0 0 0 0 0 0 0 0 0 0 0 0 0 0 0 0 0 0\n",
      " 0 0 0 0 0 0 0 0 0 0 0 0 0 0 0 0 0 0 0 0 0 0 0 0 0 0 0 0 0 0 0 0 0 0 0 0 0\n",
      " 0 0 0 0 0 0 0 0 0 0 0 0 0 0 0 0 0 0 0 0 0 0 0 0 0 0 0 0 0 0 0 0 0 0 0 0 0\n",
      " 0 0 0 0 0 0 0 0 0 0 0 0 0 0 0 0 0 0 0 0 0 0 0 0 0 0 0 0 0 0 0 0 0 0 0 0 0\n",
      " 0 0 0 0 0 0 0 0 0 0 0 0 0 0 0 0 0 0 0 0 0 0 0 0 0 1 1 1 1 1 1 1 1 1 1 1 1\n",
      " 1 1 1 1 1 1 1 1 1 1 1 1 1 1 1 1 1 1 1 1 1 1 1 1 1 1 1 1 1 1 1 1 1 1 1 1 1\n",
      " 1 1 1 1 1 1 1 1 1 1 1 1 1 1 1 1 1 1 1 1 1 1 1 1 1 1 1 1 1 1 1 1 1 1 1 1 1\n",
      " 1 1 1 1]\n",
      "[0 0 0 0 0 0 0 0 0 0 0 0 0 0 0 0 0 0 0 0 0 0 0 0 0 0 0 0 0 0 0 0 0 0 0 0 0\n",
      " 0 0 0 0 0 0 0 0 0 0 0 0 0 0 0 0 0 0 0 0 0 0 0 0 0 0 0 0 0 0 0 0 0 0 0 0 0\n",
      " 0 0 0 0 0 0 0 0 0 0 0 0 0 0 0 0 0 0 0 0 0 0 0 0 0 0 0 0 0 0 0 0 0 0 0 0 0\n",
      " 0 0 0 0 0 0 0 0 0 0 0 0 0 0 0 0 0 0 0 0 0 0 0 0 0 0 0 0 0 0 0 0 0 0 0 0 0\n",
      " 0 0 0 0 0 0 0 0 0 0 0 0 0 0 0 0 0 0 0 0 0 0 0 0 0 0 0 0 0 0 0 0 0 0 0 0 0\n",
      " 0 0 0 0 0 0 0 0 0 0 0 0 0 0 0 0 0 0 0 0 0 0 0 0 0 0 0 0 0 0 0 0 0 0 0 0 0\n",
      " 0 0 0 0 0 0 0 0 0 0 0 0 3 3 3 3 3 3 3 3 3 3 3 3 3 3 3 3 3 3 3 3 3 3 3 3 3\n",
      " 3 3 3 3 3 3 3 3 3 3 3 3 3 3 3 3 3 3 3 3 3 3 3 3 3 3 3 3 3 3 3 3 3 3 3 3 3\n",
      " 3 3 3 3]\n",
      "From 600 - 900\n",
      "[1 1 1 1 1 1 1 1 1 1 1 1 1 1 1 1 1 1 1 1 1 1 1 1 1 1 1 1 1 1 1 1 1 1 1 1 1\n",
      " 1 1 1 1 1 1 1 1 1 1 1 1 1 1 1 1 1 1 1 1 1 1 1 1 1 1 1 1 1 1 1 1 1 1 1 1 1\n",
      " 1 1 1 1 1 1 1 1 1 1 1 1 1 1 1 1 1 1 1 1 1 1 1 1 1 1 1 1 1 1 1 1 1 1 1 1 1\n",
      " 1 1 1 1 1 1 1 1 1 1 1 1 1 1 1 1 1 1 1 1 1 1 1 1 1 1 1 1 1 1 1 1 1 1 1 1 1\n",
      " 1 1 1 1 1 1 1 1 1 1 1 1 1 1 1 1 1 1 1 1 1 1 1 1 1 1 1 1 1 1 1 1 1 1 1 1 1\n",
      " 1 1 1 1 1 1 1 1 1 1 1 1 1 1 1 1 1 1 1 1 1 1 1 1 1 1 1 1 1 1 1 1 1 1 1 1 1\n",
      " 1 1 1 1 1 1 1 1 1 1 1 1 1 1 1 1 1 1 1 1 1 1 1 1 1 1 1 1 1 1 1 1 1 1 1 1 1\n",
      " 1 1 1 1 1 1 1 1 1 1 1 1 1 1 1 1 1 1 1 1 1 1 1 1 1 1 1 1 1 1 1 1 1 1 1 1 1\n",
      " 2 2 2 2]\n",
      "[3 3 3 3 3 3 3 3 3 3 3 3 3 3 3 3 3 3 3 3 3 3 3 3 3 3 3 3 3 3 3 3 3 3 3 3 3\n",
      " 3 3 3 3 3 3 3 3 3 3 3 3 3 3 3 3 3 3 3 3 3 3 3 3 3 3 3 3 3 3 3 3 3 3 3 3 3\n",
      " 3 3 3 3 3 3 3 3 3 3 3 3 3 3 3 3 3 3 3 3 3 3 3 3 3 3 3 3 3 3 3 3 3 3 3 3 3\n",
      " 3 3 3 3 3 3 3 3 3 3 3 3 3 3 3 3 3 3 3 3 3 3 3 3 3 3 3 3 3 3 3 3 3 3 3 3 3\n",
      " 3 3 3 3 3 3 3 3 3 3 3 3 3 3 3 3 3 3 3 3 3 3 3 3 3 3 3 3 3 3 3 3 3 3 3 3 3\n",
      " 3 3 3 3 3 3 3 3 3 3 3 3 3 3 3 3 3 3 3 3 3 3 3 3 3 3 3 3 3 3 3 3 3 3 3 3 3\n",
      " 3 3 3 3 3 3 3 3 3 3 3 3 3 3 3 3 3 3 3 3 3 3 3 3 3 3 3 3 3 3 3 3 3 3 3 3 3\n",
      " 3 3 3 3 3 3 3 3 3 3 3 3 3 3 3 3 3 3 3 3 3 3 3 3 3 3 3 3 3 3 3 4 4 4 4 4 4\n",
      " 4 4 4 4]\n",
      "From 900 - 1200\n",
      "[2 2 2 2 2 2 2 2 2 2 2 2 2 2 2 2 2 2 2 2 2 2 2 2 2 2 2 2 2 2 2 2 2 2 2 2 2\n",
      " 2 2 2 2 2 2 2 2 2 2 2 2 2 2 2 2 2 2 2 2 2 2 2 2 2 2 2 2 2 2 2 2 2 2 2 2 2\n",
      " 2 2 2 2 2 2 2 2 2 2 2 2 2 2 2 2 2 2 2 2 2 2 2 2 2 2 2 2 2 2 2 2 2 2 2 2 2\n",
      " 2 2 2 2 2 2 2 2 2 2 2 2 2 2 2 2 2 2 2 2 2 2 2 2 2 2 2 2 2 2 2 2 2 2 2 2 2\n",
      " 2 2 2 2 2 2 2 2 2 2 2 2 2 2 2 2 2 2 2 2 2 2 2 2 2 2 2 2 2 2 2 2 2 2 2 2 2\n",
      " 2 2 2 2 2 2 2 2 2 2 2 2 2 2 2 2 2 2 2 2 2 2 2 2 2 2 2 2 2 2 2 2 2 2 2 2 2\n",
      " 2 2 2 2 2 2 2 2 2 2 2 2 2 2 2 2 2 2 2 2 2 2 2 2 2 2 2 2 2 2 2 2 2 2 2 2 2\n",
      " 2 2 2 2 2 2 2 2 2 2 2 2 2 2 2 2 2 2 2 2 2 2 2 2 2 2 2 2 2 2 2 2 2 2 2 2 2\n",
      " 2 2 2 2]\n",
      "[4 4 4 4 4 4 4 4 4 4 4 4 4 4 4 4 4 4 4 4 4 4 4 4 4 4 4 4 4 4 4 4 4 4 4 4 4\n",
      " 4 4 4 4 4 4 4 4 4 4 4 4 4 4 4 4 4 4 4 4 4 4 4 4 4 4 4 4 4 4 4 4 4 4 4 4 4\n",
      " 4 4 4 4 4 4 4 4 4 4 4 4 4 4 4 4 4 4 4 4 4 4 4 4 4 4 4 4 4 4 4 4 4 4 4 4 4\n",
      " 4 4 4 4 4 4 4 4 4 4 4 4 4 4 4 4 4 4 4 4 4 4 4 4 4 4 4 4 4 4 4 4 4 4 4 4 4\n",
      " 4 4 4 4 4 4 4 4 4 4 4 4 4 4 4 4 4 4 4 4 4 4 4 4 4 4 4 4 4 4 4 4 4 4 4 4 4\n",
      " 4 4 4 4 4 4 4 4 4 4 4 4 4 4 4 4 4 4 4 4 4 4 4 4 4 4 4 4 4 4 4 4 4 4 4 4 4\n",
      " 4 4 4 4 4 4 4 4 4 4 4 4 4 4 4 4 4 4 4 4 4 4 4 4 4 4 4 4 4 4 4 4 4 4 4 4 4\n",
      " 4 4 4 4 4 4 4 4 4 4 4 4 4 4 4 4 4 4 4 4 4 4 4 4 4 4 4 4 4 4 4 4 4 4 4 4 4\n",
      " 4 4 4 4]\n",
      "From 1200 - 1500\n",
      "[2 2 2 2 2 2 2 2 2 2 2 2 2 2 2 2 2 2 2 2 2 2 2 2 2 2 2 2 2 2 2 2 2 2 2 2 2\n",
      " 2 2 2 2 2 2 2 2 2 2 2 2 2 2 2 2 2 2 2 2 2 2 2 2 2 2 2 2 2 2 2 2 2 2 2 2 2\n",
      " 2 2 2 2 2 2 2 2 2 2 2 2 2 2 2 2 2 2 2 2 2 2 2 2 2 2 2 2 2 2 2 2 2 2 2 2 2\n",
      " 2 2 3 3 3 3 3 3 3 3 3 3 3 3 3 3 3 3 3 3 3 3 3 3 3 3 3 3 3 3 3 3 3 3 3 3 3\n",
      " 3 3 3 3 3 3 3 3 3 3 3 3 3 3 3 3 3 3 3 3 3 3 3 3 3 3 3 3 3 3 3 3 3 3 3 3 3\n",
      " 3 3 3 3 3 3 3 3 3 3 3 3 3 3 3 3 3 3 3 3 3 3 3 3 3 3 3 3 3 3 3 3 3 3 3 3 3\n",
      " 3 3 3 3 3 3 3 3 3 3 3 3 3 3 3 3 3 3 3 3 3 3 3 3 3 3 3 3 3 3 3 3 3 3 3 3 3\n",
      " 3 3 3 3 3 3 3 3 3 3 3 3 3 3 3 3 3 3 3 3 3 3 3 3 3 3 3 3 3 3 3 3 3 3 3 3 3\n",
      " 3 3 3 3]\n",
      "[4 4 4 4 4 4 4 4 4 4 4 4 4 4 4 4 4 4 4 4 4 4 4 4 4 4 4 4 4 4 4 4 4 4 4 4 4\n",
      " 4 4 4 4 4 4 4 4 4 4 4 4 4 4 4 4 4 4 4 4 4 4 4 4 4 4 4 4 4 4 4 4 4 4 4 4 4\n",
      " 4 4 4 4 4 4 4 4 4 4 4 4 4 4 4 4 4 4 4 4 4 4 4 4 4 4 4 4 4 4 4 4 4 4 4 4 4\n",
      " 4 4 4 4 4 4 4 4 4 4 4 4 4 4 4 4 4 4 4 4 4 4 4 4 1 1 1 1 1 1 1 1 1 1 1 1 1\n",
      " 1 1 1 1 1 1 1 1 1 1 1 1 1 1 1 1 1 1 1 1 1 1 1 1 1 1 1 1 1 1 1 1 1 1 1 1 1\n",
      " 1 1 1 1 1 1 1 1 1 1 1 1 1 1 1 1 1 1 1 1 1 1 1 1 1 1 1 1 1 1 1 1 1 1 1 1 1\n",
      " 1 1 1 1 1 1 1 1 1 1 1 1 1 1 1 1 1 1 1 1 1 1 1 1 1 1 1 1 1 1 1 1 1 1 1 1 1\n",
      " 1 1 1 1 1 1 1 1 1 1 1 1 1 1 1 1 1 1 1 1 1 1 1 1 1 1 1 1 1 1 1 1 1 1 1 1 1\n",
      " 1 1 1 1]\n",
      "From 1500 - 1800\n",
      "[3 3 3 3 3 3 3 3 3 3 3 3 3 3 3 3 3 3 3 3 3 3 3 3 3 3 3 3 3 3 3 3 3 3 3 3 3\n",
      " 3 3 3 3 3 3 3 3 3 3 3 3 3 3 3 3 3 3 3 3 3 3 3 3 3 3 3 3 3 3 3 3 3 3 3 3 3\n",
      " 3 3 3 3 3 3 3 3 3 3 3 3 3 3 3 3 3 3 3 3 3 3 3 3 3 3 3 3 3 3 3 3 3 3 3 3 3\n",
      " 3 3 3 3 3 3 3 3 3 3 3 3 3 3 3 3 3 3 3 3 3 3 3 3 3 3 3 3 3 3 3 3 3 3 3 3 3\n",
      " 3 3 3 3 3 3 3 3 3 3 3 3 3 3 3 3 3 3 3 3 3 3 3 3 3 3 3 3 3 3 3 3 3 3 3 3 3\n",
      " 3 3 3 3 3 3 3 3 3 3 3 3 3 3 3 3 3 3 3 3 3 3 3 3 3 3 3 3 3 3 3 3 3 3 3 3 3\n",
      " 3 3 3 3 3 3 3 3 3 3 3 3 3 3 3 3 3 3 3 3 3 3 3 3 3 3 3 3 3 3 3 3 3 3 3 3 3\n",
      " 3 3 3 3 3 3 3 3 3 3 3 3 3 3 3 3 3 3 3 3 3 3 3 3 3 3 3 3 3 3 3 3 3 3 3 3 3\n",
      " 3 3 3 3]\n",
      "[1 1 1 1 1 1 1 1 1 1 1 1 1 1 1 1 1 1 1 1 1 1 1 1 1 1 1 1 1 1 1 1 1 1 1 1 1\n",
      " 1 1 1 1 1 1 1 1 1 1 1 1 1 1 1 1 1 1 1 1 1 1 1 1 1 1 1 1 1 1 1 1 1 1 1 1 1\n",
      " 1 1 1 1 1 1 1 1 1 1 1 1 1 1 1 1 1 1 1 1 1 1 1 1 1 1 1 1 1 1 1 1 1 1 1 1 1\n",
      " 1 1 1 1 1 1 1 1 1 1 1 1 1 1 1 1 1 1 1 1 1 1 1 1 1 1 1 1 1 1 1 1 1 1 1 1 1\n",
      " 1 1 1 1 1 1 1 1 1 1 1 1 1 1 1 1 1 1 1 1 1 1 1 1 1 1 1 1 1 1 1 1 1 1 1 1 1\n",
      " 1 1 1 1 1 1 1 1 1 1 1 1 1 1 1 1 1 1 1 1 1 1 1 1 1 1 1 1 1 1 1 1 1 1 1 1 1\n",
      " 1 1 1 1 1 1 1 1 1 1 1 1 1 1 1 1 1 1 1 1 1 1 1 1 1 1 1 1 1 1 1 1 1 1 1 1 1\n",
      " 1 1 1 1 1 1 1 1 1 1 1 1 1 1 1 1 1 1 1 1 1 2 2 2 2 2 2 2 2 2 2 2 2 2 2 2 2\n",
      " 2 2 2 2]\n",
      "From 1800 - 2100\n",
      "[3 3 3 3 3 3 3 3 3 3 3 3 3 3 3 3 3 3 3 3 3 3 3 3 4 4 4 4 4 4 4 4 4 4 4 4 4\n",
      " 4 4 4 4 4 4 4 4 4 4 4 4 4 4 4 4 4 4 4 4 4 4 4 4 4 4 4 4 4 4 4 4 4 4 4 4 4\n",
      " 4 4 4 4 4 4 4 4 4 4 4 4 4 4 4 4 4 4 4 4 4 4 4 4 4 4 4 4 4 4 4 4 4 4 4 4 4\n",
      " 4 4 4 4 4 4 4 4 4 4 4 4 4 4 4 4 4 4 4 4 4 4 4 4 4 4 4 4 4 4 4 4 4 4 4 4 4\n",
      " 4 4 4 4 4 4 4 4 4 4 4 4 4 4 4 4 4 4 4 4 4 4 4 4 4 4 4 4 4 4 4 4 4 4 4 4 4\n",
      " 4 4 4 4 4 4 4 4 4 4 4 4 4 4 4 4 4 4 4 4 4 4 4 4 4 4 4 4 4 4 4 4 4 4 4 4 4\n",
      " 4 4 4 4 4 4 4 4 4 4 4 4 4 4 4 4 4 4 4 4 4 4 4 4 4 4 4 4 4 4 4 4 4 4 4 4 4\n",
      " 4 4 4 4 4 4 4 4 4 4 4 4 4 4 4 4 4 4 4 4 4 4 4 4 4 4 4 4 4 4 4 4 4 4 4 4 4\n",
      " 4 4 4 4]\n",
      "[2 2 2 2 2 2 2 2 2 2 2 2 2 2 2 2 2 2 2 2 2 2 2 2 2 2 2 2 2 2 2 2 2 2 2 2 2\n",
      " 2 2 2 2 2 2 2 2 2 2 2 2 2 2 2 2 2 2 2 2 2 2 2 2 2 2 2 2 2 2 2 2 2 2 2 2 2\n",
      " 2 2 2 2 2 2 2 2 2 2 2 2 2 2 2 2 2 2 2 2 2 2 2 2 2 2 2 2 2 2 2 2 2 2 2 2 2\n",
      " 2 2 2 2 2 2 2 2 2 2 2 2 2 2 2 2 2 2 2 2 2 2 2 2 2 2 2 2 2 2 2 2 2 2 2 2 2\n",
      " 2 2 2 2 2 2 2 2 2 2 2 2 2 2 2 2 2 2 2 2 2 2 2 2 2 2 2 2 2 2 2 2 2 2 2 2 2\n",
      " 2 2 2 2 2 2 2 2 2 2 2 2 2 2 2 2 2 2 2 2 2 2 2 2 2 2 2 2 2 2 2 2 2 2 2 2 2\n",
      " 2 2 2 2 2 2 2 2 2 2 2 2 2 2 2 2 2 2 2 2 2 2 2 2 2 2 2 2 2 2 2 2 2 2 2 2 2\n",
      " 2 2 2 2 2 2 2 2 2 2 2 2 2 2 2 2 2 2 2 2 2 2 2 2 2 2 2 2 2 2 2 2 2 2 2 2 2\n",
      " 2 2 2 2]\n",
      "From 2100 - 2400\n",
      "[4 4 4 4 4 4 4 4 4 4 4 4 4 4 4 4 4 4 4 4 4 4 4 4 4 4 4 4 4 4 4 4 4 4 4 4 4\n",
      " 4 4 4 4 4 4 4 4 4 4 4 4 4 4 4 4 4 4 4 4 4 4 4 4 4 4 4 4 4 4 4 4 4 4 4 4 4\n",
      " 4 4 4 4 4 4 4 4 4 4 4 4 4 4 4 4 4 4 4 4 4 4 4 4 4 4 4 4 4 4 4 4 4 4 4 4 4\n",
      " 4 4 4 4 4 4 4 4 4 4 4 4 4 4]\n",
      "[2 2 2 2 2 2 2 2 2 2 2 2 2 2 2 2 2 2 2 2 2 2 2 2 2 2 2 2 2 2 2 2 2 2 2 2 2\n",
      " 2 2 2 2 2 2 2 2 2 2 2 2 2 2 2 2 2 2 2 2 2 2 2 2 2 2 2 2 2 2 2 2 2 2 2 2 2\n",
      " 2 2 2 2 2 2 2 2 2 2 2 2 2 2 2 2 2 2 2 2 2 2 2 2 2 2 2 2 2 2 2 2 2 2 2 2 2\n",
      " 2 2 2 2 2 2 2 2 2 2 2 2 2 2]\n"
     ]
    }
   ],
   "source": [
    "i=0\n",
    "while i<len(true_labels):\n",
    "    print(f\"From {i} - {i+300}\")\n",
    "    print(true_labels[i:i+300])\n",
    "    print(pred_lables[i:i+300])\n",
    "    i+=300"
   ]
  },
  {
   "cell_type": "code",
   "execution_count": 34,
   "metadata": {},
   "outputs": [],
   "source": [
    "end = time.time()\n",
    "time_taken = end - start"
   ]
  },
  {
   "cell_type": "code",
   "execution_count": 35,
   "metadata": {},
   "outputs": [
    {
     "name": "stdout",
     "output_type": "stream",
     "text": [
      "Time taken: 141.48s\n"
     ]
    }
   ],
   "source": [
    "print(f\"Time taken: {time_taken:.2f}s\")"
   ]
  }
 ],
 "metadata": {
  "kernelspec": {
   "display_name": "Python 3 (ipykernel)",
   "language": "python",
   "name": "python3"
  },
  "language_info": {
   "codemirror_mode": {
    "name": "ipython",
    "version": 3
   },
   "file_extension": ".py",
   "mimetype": "text/x-python",
   "name": "python",
   "nbconvert_exporter": "python",
   "pygments_lexer": "ipython3",
   "version": "3.10.11"
  }
 },
 "nbformat": 4,
 "nbformat_minor": 4
}
