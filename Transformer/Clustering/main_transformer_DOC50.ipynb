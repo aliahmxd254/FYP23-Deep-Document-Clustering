{
 "cells": [
  {
   "cell_type": "code",
   "execution_count": 1,
   "metadata": {},
   "outputs": [],
   "source": [
    "import time\n",
    "start = time.time()"
   ]
  },
  {
   "cell_type": "code",
   "execution_count": 2,
   "metadata": {},
   "outputs": [],
   "source": [
    "import sys\n",
    "transformer_path = 'D:\\FAST\\FYP\\FYP23-Deep-Document-Clustering\\Transformer' # ==== Path for transformer folder\n",
    "sys.path.insert(0, transformer_path)"
   ]
  },
  {
   "cell_type": "code",
   "execution_count": null,
   "metadata": {},
   "outputs": [],
   "source": [
    "import os\n",
    "data_path = \"D:/FAST/FYP/FYP23-Deep-Document-Clustering/data/\" # ===== Path for data"
   ]
  },
  {
   "cell_type": "code",
   "execution_count": 3,
   "metadata": {},
   "outputs": [
    {
     "name": "stderr",
     "output_type": "stream",
     "text": [
      "c:\\Users\\Ali Ahmed\\AppData\\Local\\Programs\\Python\\Python310\\lib\\site-packages\\tqdm\\auto.py:21: TqdmWarning: IProgress not found. Please update jupyter and ipywidgets. See https://ipywidgets.readthedocs.io/en/stable/user_install.html\n",
      "  from .autonotebook import tqdm as notebook_tqdm\n"
     ]
    }
   ],
   "source": [
    "import numpy as np\n",
    "import pandas as pd\n",
    "import os\n",
    "import nltk\n",
    "import warnings\n",
    "from collections import defaultdict\n",
    "from sklearn.metrics import confusion_matrix\n",
    "from sklearn.cluster import KMeans\n",
    "from sklearn.decomposition import PCA\n",
    "from sklearn.preprocessing import Normalizer\n",
    "from nltk.corpus import wordnet as wn, stopwords\n",
    "from nltk.tokenize import word_tokenize\n",
    "from nltk.stem import WordNetLemmatizer\n",
    "from sklearn.feature_extraction.text import TfidfVectorizer\n",
    "from sklearn.metrics import silhouette_score\n",
    "from sklearn.metrics.cluster import normalized_mutual_info_score as nmi_score\n",
    "from sklearn.metrics import adjusted_rand_score as ari_score\n",
    "from sklearn.metrics import f1_score \n",
    "from concurrent.futures import ThreadPoolExecutor\n",
    "import matplotlib.pyplot as plt\n",
    "import seaborn as sns\n",
    "\n",
    "import pickle\n",
    "import torch\n",
    "import random\n",
    "\n",
    "from utils.Encoder import Encoder\n",
    "from utils.PositionalEncoding import PositionalEncoding\n",
    "\n",
    "os.environ['OMP_NUM_THREADS'] = '1'\n",
    "warnings.filterwarnings(\"ignore\", category=UserWarning, module=\"sklearn.cluster._kmeans\")\n",
    "warnings.filterwarnings(\"ignore\", category=UserWarning, module=\"sklearn.feature_extraction.text\")\n"
   ]
  },
  {
   "cell_type": "code",
   "execution_count": 5,
   "metadata": {},
   "outputs": [],
   "source": [
    "def reset_random_seeds(seed):\n",
    "   os.environ['PYTHONHASHSEED']=str(seed)\n",
    "   torch.manual_seed(seed)\n",
    "   np.random.seed(seed)\n",
    "   random.seed(seed)\n",
    "\n",
    "def Purity_Score(label_seq, pred_labels):\n",
    "    # Calculate the confusion matrix to compare true labels and cluster assignments\n",
    "    confusion = confusion_matrix(label_seq, pred_labels)\n",
    "    # Calculate the purity\n",
    "    purity = np.sum(np.max(confusion, axis=0)) / np.sum(confusion)\n",
    "    return purity\n",
    "\n",
    "def Evaluate(X, true_labels, predicted_labels):\n",
    "    purity = Purity_Score(true_labels, predicted_labels)\n",
    "    silhouette = silhouette_score(X, predicted_labels, metric='euclidean')\n",
    "    ari = ari_score(true_labels, predicted_labels)\n",
    "    nmi = nmi_score(true_labels, predicted_labels)\n",
    "    \n",
    "    print(f\"Purity: {purity}\")\n",
    "    print(f\"Silhouette Score: {silhouette}\")\n",
    "    print(f\"ARI Score: {ari}\")\n",
    "    print(f\"NMI Score: {nmi}\")\n",
    "\n",
    "def SaveFeatures(X, file_name):\n",
    "    pickle_path = open(file_name, 'wb')\n",
    "    pickle.dump(X, pickle_path)\n",
    "    pickle_path.close()\n",
    "\n",
    "def ReadFeatures(file_name):\n",
    "    pickle_read = open(file_name, 'rb')\n",
    "    x = pickle.load(pickle_read)\n",
    "    pickle_read.close()\n",
    "    return x"
   ]
  },
  {
   "cell_type": "code",
   "execution_count": null,
   "metadata": {},
   "outputs": [],
   "source": [
    "os.chdir(data_path)"
   ]
  },
  {
   "cell_type": "code",
   "execution_count": 6,
   "metadata": {},
   "outputs": [],
   "source": [
    "x = np.loadtxt('doc50.txt', dtype=float)\n",
    "y = np.loadtxt('doc50_label.txt', dtype=int)"
   ]
  },
  {
   "cell_type": "code",
   "execution_count": 7,
   "metadata": {},
   "outputs": [
    {
     "data": {
      "text/plain": [
       "(50, 3885)"
      ]
     },
     "execution_count": 7,
     "metadata": {},
     "output_type": "execute_result"
    }
   ],
   "source": [
    "x.shape"
   ]
  },
  {
   "cell_type": "code",
   "execution_count": 8,
   "metadata": {},
   "outputs": [],
   "source": [
    "x = torch.tensor(x, dtype=torch.float32)"
   ]
  },
  {
   "cell_type": "code",
   "execution_count": 9,
   "metadata": {},
   "outputs": [],
   "source": [
    "d_model = 3885\n",
    "num_heads = 1\n",
    "drop_prob = 0.1\n",
    "batch_size = 1\n",
    "max_sequence_length = 50\n",
    "ffn_hidden = 2048\n",
    "num_layers = 5"
   ]
  },
  {
   "cell_type": "code",
   "execution_count": 10,
   "metadata": {},
   "outputs": [],
   "source": [
    "pe = PositionalEncoding(d_model=d_model, max_sequence_length=max_sequence_length)\n",
    "positional_encoding = pe.forward()"
   ]
  },
  {
   "cell_type": "code",
   "execution_count": 11,
   "metadata": {},
   "outputs": [
    {
     "data": {
      "text/plain": [
       "torch.Size([50, 3885])"
      ]
     },
     "execution_count": 11,
     "metadata": {},
     "output_type": "execute_result"
    }
   ],
   "source": [
    "positional_encoding = positional_encoding[:,0:-1]\n",
    "positional_encoding.size()"
   ]
  },
  {
   "cell_type": "code",
   "execution_count": 12,
   "metadata": {},
   "outputs": [],
   "source": [
    "x = x + positional_encoding"
   ]
  },
  {
   "cell_type": "code",
   "execution_count": 13,
   "metadata": {},
   "outputs": [
    {
     "data": {
      "text/plain": [
       "torch.Size([1, 50, 3885])"
      ]
     },
     "execution_count": 13,
     "metadata": {},
     "output_type": "execute_result"
    }
   ],
   "source": [
    "x = x.reshape(shape=(batch_size, x.size()[0] // batch_size, x.size()[1]))\n",
    "x.size()"
   ]
  },
  {
   "cell_type": "code",
   "execution_count": 14,
   "metadata": {},
   "outputs": [],
   "source": [
    "reset_random_seeds(42)\n",
    "encoder = Encoder(d_model=d_model, ffn_hidden=ffn_hidden, num_heads=num_heads, drop_prob=drop_prob, num_layers=num_layers)"
   ]
  },
  {
   "cell_type": "code",
   "execution_count": 15,
   "metadata": {},
   "outputs": [
    {
     "name": "stdout",
     "output_type": "stream",
     "text": [
      "x.size(): torch.Size([1, 50, 3885])\n",
      "tensor([[[ 0.0000e+00,  1.0000e+00,  0.0000e+00,  ...,  0.0000e+00,\n",
      "           1.0000e+00,  0.0000e+00],\n",
      "         [ 8.4147e-01,  5.4030e-01,  8.3891e-01,  ...,  1.0071e-04,\n",
      "           1.0000e+00,  1.0024e-04],\n",
      "         [ 9.0930e-01, -4.1615e-01,  9.1319e-01,  ...,  2.0143e-04,\n",
      "           1.0000e+00,  2.0047e-04],\n",
      "         ...,\n",
      "         [ 1.2357e-01, -9.9234e-01,  3.3934e-01,  ...,  4.7335e-03,\n",
      "           9.9999e-01,  4.7111e-03],\n",
      "         [-7.6825e-01, -6.4014e-01, -6.0443e-01,  ...,  4.8342e-03,\n",
      "           9.9999e-01,  4.8114e-03],\n",
      "         [-9.5375e-01,  3.0059e-01, -9.9730e-01,  ...,  4.9350e-03,\n",
      "           9.9999e-01,  4.9116e-03]]])\n",
      "qkv.size(): torch.Size([1, 50, 11655])\n",
      "1, 50, 1, 3885\n",
      "qkv.size(): torch.Size([1, 50, 1, 11655])\n",
      "q.size(): torch.Size([1, 1, 50, 3885]), k.size(): torch.Size([1, 1, 50, 3885]), v.size(): torch.Size([1, 1, 50, 3885])\n",
      "values.size(): torch.Size([1, 1, 50, 3885]), attention.size(): torch.Size([1, 1, 50, 50])\n",
      "x.size(): torch.Size([1, 50, 3885])\n",
      "tensor([[[ 0.0110,  0.4313, -0.9021,  ..., -0.8134,  1.6546, -0.3595],\n",
      "         [ 1.3336, -0.4356,  0.7240,  ..., -0.8432,  1.5280, -0.5312],\n",
      "         [ 1.5800, -2.2988,  1.2460,  ..., -0.9728,  1.2421, -0.5102],\n",
      "         ...,\n",
      "         [ 0.2522, -1.9874, -0.1852,  ..., -0.6846,  1.8230, -0.7245],\n",
      "         [-1.3187, -1.8670, -1.1768,  ..., -0.4776,  1.5023, -0.6679],\n",
      "         [-1.3585,  0.2916, -1.7460,  ..., -0.6183,  1.5224, -0.3972]]],\n",
      "       grad_fn=<AddBackward0>)\n",
      "qkv.size(): torch.Size([1, 50, 11655])\n",
      "1, 50, 1, 3885\n",
      "qkv.size(): torch.Size([1, 50, 1, 11655])\n",
      "q.size(): torch.Size([1, 1, 50, 3885]), k.size(): torch.Size([1, 1, 50, 3885]), v.size(): torch.Size([1, 1, 50, 3885])\n",
      "values.size(): torch.Size([1, 1, 50, 3885]), attention.size(): torch.Size([1, 1, 50, 50])\n",
      "x.size(): torch.Size([1, 50, 3885])\n",
      "tensor([[[ 0.1603,  0.7347, -0.6220,  ..., -0.5382,  1.3347, -0.7707],\n",
      "         [ 1.5321,  0.0165,  0.9360,  ..., -0.2153,  0.9013, -0.2831],\n",
      "         [ 1.6294, -1.7873,  1.4611,  ..., -0.3409,  0.7010, -0.1746],\n",
      "         ...,\n",
      "         [ 0.1395, -1.7943,  0.0338,  ..., -0.3439,  1.3402, -0.2783],\n",
      "         [-1.4423, -1.4782, -0.9568,  ..., -0.0503,  1.3110,  0.0064],\n",
      "         [-1.2046,  0.2658, -1.5715,  ..., -0.1007,  1.0186,  0.1306]]],\n",
      "       grad_fn=<AddBackward0>)\n",
      "qkv.size(): torch.Size([1, 50, 11655])\n",
      "1, 50, 1, 3885\n",
      "qkv.size(): torch.Size([1, 50, 1, 11655])\n",
      "q.size(): torch.Size([1, 1, 50, 3885]), k.size(): torch.Size([1, 1, 50, 3885]), v.size(): torch.Size([1, 1, 50, 3885])\n",
      "values.size(): torch.Size([1, 1, 50, 3885]), attention.size(): torch.Size([1, 1, 50, 50])\n",
      "x.size(): torch.Size([1, 50, 3885])\n",
      "tensor([[[ 0.4162,  0.2027, -0.4660,  ..., -0.6508,  0.7446, -0.7656],\n",
      "         [ 1.7842, -0.8316,  0.8801,  ..., -0.5100,  0.3989, -0.3915],\n",
      "         [ 1.7367, -2.1931,  1.4385,  ..., -0.3118,  0.3324, -0.3785],\n",
      "         ...,\n",
      "         [ 0.4428, -2.1180,  0.1093,  ..., -0.6030,  0.9176, -0.1487],\n",
      "         [-1.3462, -1.7344, -1.0412,  ..., -0.3981,  0.8668, -0.2620],\n",
      "         [-0.9245, -0.3452, -1.5151,  ..., -0.0843,  0.5488, -0.3918]]],\n",
      "       grad_fn=<AddBackward0>)\n",
      "qkv.size(): torch.Size([1, 50, 11655])\n",
      "1, 50, 1, 3885\n",
      "qkv.size(): torch.Size([1, 50, 1, 11655])\n",
      "q.size(): torch.Size([1, 1, 50, 3885]), k.size(): torch.Size([1, 1, 50, 3885]), v.size(): torch.Size([1, 1, 50, 3885])\n",
      "values.size(): torch.Size([1, 1, 50, 3885]), attention.size(): torch.Size([1, 1, 50, 50])\n",
      "x.size(): torch.Size([1, 50, 3885])\n",
      "tensor([[[ 1.2480, -0.3411, -0.1362,  ..., -0.4464,  1.0451, -0.8889],\n",
      "         [ 2.5364, -1.3344,  0.9625,  ..., -0.2919,  0.6589, -0.5336],\n",
      "         [ 2.1363, -2.7127,  1.5339,  ..., -0.0732,  0.5671, -0.5013],\n",
      "         ...,\n",
      "         [ 0.3858, -2.3552,  0.5493,  ..., -0.5051,  0.8188,  0.2289],\n",
      "         [-0.8368, -2.0485, -0.4063,  ..., -0.0999,  0.5525, -0.1244],\n",
      "         [-0.2539, -0.5991, -0.9727,  ...,  0.2949,  0.1110, -0.3068]]],\n",
      "       grad_fn=<AddBackward0>)\n",
      "qkv.size(): torch.Size([1, 50, 11655])\n",
      "1, 50, 1, 3885\n",
      "qkv.size(): torch.Size([1, 50, 1, 11655])\n",
      "q.size(): torch.Size([1, 1, 50, 3885]), k.size(): torch.Size([1, 1, 50, 3885]), v.size(): torch.Size([1, 1, 50, 3885])\n",
      "values.size(): torch.Size([1, 1, 50, 3885]), attention.size(): torch.Size([1, 1, 50, 50])\n"
     ]
    }
   ],
   "source": [
    "out = encoder(x)"
   ]
  },
  {
   "cell_type": "code",
   "execution_count": 16,
   "metadata": {},
   "outputs": [],
   "source": [
    "def KMeans_Labels(X, n, rstate_limit, true_labels):\n",
    "    print(X)\n",
    "    # Specify the number of clusters (you can choose an appropriate value)\n",
    "    num_clusters = n\n",
    "    \n",
    "    # find centoids which give maximum purity\n",
    "    purity_collection = {}\n",
    "    for i in range(rstate_limit):\n",
    "        clusters = KMeans(n_init='auto', n_clusters=num_clusters, random_state=i, init='k-means++').fit(X).labels_\n",
    "        purity_collection[i] = Purity_Score(true_labels, clusters)\n",
    "    \n",
    "    max_rand_state = max(purity_collection, key=purity_collection.get)\n",
    "    print(f\"Maximum purity of {purity_collection[max_rand_state]} found on random state {max_rand_state}\")\n",
    "\n",
    "    # Create a KMeans model\n",
    "    kmeans = KMeans(n_init='auto', n_clusters=num_clusters, random_state=max_rand_state, init='k-means++')\n",
    "    # Fit the KMeans model to the TF-IDF data\n",
    "    kmeans.fit(X)\n",
    "    # Get the cluster assignments for each document\n",
    "    cluster_assignments = kmeans.labels_\n",
    "    \n",
    "    return cluster_assignments\n",
    "\n",
    "def plot_graph(x, y):\n",
    "    plt.scatter(x, y, marker = \"o\")\n",
    "    plt.title(\"Purity x Random State\")\n",
    "    plt.ylabel(\"Purity\")\n",
    "    plt.xlabel(\"Random State\")\n",
    "    plt.show()\n",
    "\n",
    "def calculate_purity(random_state, X, true_labels):\n",
    "    clusters = KMeans(n_init='auto', n_clusters=num_clusters, random_state=random_state, init='k-means++').fit(X).labels_\n",
    "    purity = Purity_Score(true_labels, clusters)\n",
    "    return random_state, purity\n",
    "\n",
    "def KMeans_Labels_Parallel(X, n, rstate_limit, true_labels):\n",
    "    # Specify the number of clusters (you can choose an appropriate value)\n",
    "    global num_clusters\n",
    "    num_clusters = n\n",
    "    \n",
    "    # Use ThreadPoolExecutor to parallelize purity calculations\n",
    "    with ThreadPoolExecutor() as executor:\n",
    "        futures = {executor.submit(calculate_purity, i, X, true_labels): i for i in range(rstate_limit)}\n",
    "\n",
    "    purity_collection = {future.result()[0]: future.result()[1] for future in futures}\n",
    "\n",
    "    max_rand_state = max(purity_collection, key=purity_collection.get)\n",
    "    print(f\"Maximum purity of {purity_collection[max_rand_state]} found on random state {max_rand_state}\")\n",
    "\n",
    "    plot_graph(purity_collection.keys(), purity_collection.values())\n",
    "    \n",
    "    # Create a KMeans model\n",
    "    kmeans = KMeans(n_init='auto', n_clusters=num_clusters, random_state=max_rand_state, init='k-means++')\n",
    "    # Fit the KMeans model to the data\n",
    "    kmeans.fit(X)\n",
    "    # Get the cluster assignments for each data point\n",
    "    cluster_assignments = kmeans.labels_\n",
    "    cluster_centers = kmeans.cluster_centers_\n",
    "    \n",
    "    return cluster_assignments, cluster_centers \n"
   ]
  },
  {
   "cell_type": "code",
   "execution_count": 17,
   "metadata": {},
   "outputs": [],
   "source": [
    "del encoder"
   ]
  },
  {
   "cell_type": "code",
   "execution_count": 18,
   "metadata": {},
   "outputs": [],
   "source": [
    "reshaped_out = out.reshape(out.size()[0] * out.size()[1], out.size()[2])"
   ]
  },
  {
   "cell_type": "code",
   "execution_count": 19,
   "metadata": {},
   "outputs": [
    {
     "data": {
      "text/plain": [
       "torch.Size([50, 3885])"
      ]
     },
     "execution_count": 19,
     "metadata": {},
     "output_type": "execute_result"
    }
   ],
   "source": [
    "reshaped_out.size()"
   ]
  },
  {
   "cell_type": "code",
   "execution_count": 20,
   "metadata": {},
   "outputs": [
    {
     "name": "stdout",
     "output_type": "stream",
     "text": [
      "Maximum purity of 1.0 found on random state 653\n"
     ]
    },
    {
     "data": {
      "image/png": "[encoded data removed]",
      "text/plain": [
       "<Figure size 640x480 with 1 Axes>"
      ]
     },
     "metadata": {},
     "output_type": "display_data"
    }
   ],
   "source": [
    "enhanced_x = reshaped_out.cpu().detach().numpy()\n",
    "true_labels = y\n",
    "pred_lables, centoids = KMeans_Labels_Parallel(enhanced_x, 5, 700, true_labels)"
   ]
  },
  {
   "cell_type": "code",
   "execution_count": 21,
   "metadata": {},
   "outputs": [
    {
     "name": "stdout",
     "output_type": "stream",
     "text": [
      "Purity: 1.0\n",
      "Silhouette Score: 0.16752196848392487\n",
      "ARI Score: 1.0\n",
      "NMI Score: 1.0\n"
     ]
    }
   ],
   "source": [
    "Evaluate(enhanced_x, true_labels, pred_lables)"
   ]
  },
  {
   "cell_type": "code",
   "execution_count": 22,
   "metadata": {},
   "outputs": [],
   "source": [
    "def visualize_clusters(X, cluster_assignments, cluster_centers,num_dimensions=2):\n",
    "    # Apply PCA to reduce the dimensions for visualization\n",
    "    pca = PCA(n_components=num_dimensions)\n",
    "    X_pca = pca.fit_transform(X)\n",
    "\n",
    "    # Combine data and cluster assignments into a DataFrame\n",
    "    data_with_clusters = pd.DataFrame(X_pca, columns=[f'PC{i}' for i in range(1, num_dimensions+1)])\n",
    "    data_with_clusters['Cluster'] = cluster_assignments\n",
    "\n",
    "    # Scatter plot with different colors for each cluster\n",
    "    plt.figure(figsize=(8, 6))\n",
    "    sns.scatterplot(x='PC1', y='PC2', hue='Cluster', data=data_with_clusters, palette='viridis', s=80, alpha=0.8)\n",
    "    \n",
    "    # Plot cluster centers if available\n",
    "    centers = pca.transform(cluster_centers)\n",
    "    plt.scatter(centers[:, 0], centers[:, 1], c='red', marker='X', s=200, label='Cluster Centers')\n",
    "    \n",
    "    plt.title('Cluster Visualization (PCA)')\n",
    "    plt.xlabel('Principal Component 1')\n",
    "    plt.ylabel('Principal Component 2')\n",
    "    plt.legend()\n",
    "    plt.show()\n"
   ]
  },
  {
   "cell_type": "code",
   "execution_count": 23,
   "metadata": {},
   "outputs": [
    {
     "data": {
      "image/png": "[encoded data removed]",
      "text/plain": [
       "<Figure size 800x600 with 1 Axes>"
      ]
     },
     "metadata": {},
     "output_type": "display_data"
    }
   ],
   "source": [
    "visualize_clusters(enhanced_x, pred_lables, cluster_centers=centoids, num_dimensions=2)"
   ]
  },
  {
   "cell_type": "code",
   "execution_count": 24,
   "metadata": {},
   "outputs": [
    {
     "data": {
      "text/plain": [
       "(array([0, 0, 0, 0, 0, 0, 0, 0, 0, 0, 1, 1, 1, 1, 1, 1, 1, 1, 1, 1, 2, 2,\n",
       "        2, 2, 2, 2, 2, 2, 2, 2, 3, 3, 3, 3, 3, 3, 3, 3, 3, 3, 4, 4, 4, 4,\n",
       "        4, 4, 4, 4, 4, 4]),\n",
       " array([3, 3, 3, 3, 3, 3, 3, 3, 3, 3, 2, 2, 2, 2, 2, 2, 2, 2, 2, 2, 0, 0,\n",
       "        0, 0, 0, 0, 0, 0, 0, 0, 4, 4, 4, 4, 4, 4, 4, 4, 4, 4, 1, 1, 1, 1,\n",
       "        1, 1, 1, 1, 1, 1]))"
      ]
     },
     "execution_count": 24,
     "metadata": {},
     "output_type": "execute_result"
    }
   ],
   "source": [
    "np.array(true_labels), pred_lables"
   ]
  },
  {
   "cell_type": "code",
   "execution_count": 25,
   "metadata": {},
   "outputs": [],
   "source": [
    "end = time.time()\n",
    "time_taken = end - start"
   ]
  },
  {
   "cell_type": "code",
   "execution_count": 26,
   "metadata": {},
   "outputs": [
    {
     "name": "stdout",
     "output_type": "stream",
     "text": [
      "Time taken: 8.83s\n"
     ]
    }
   ],
   "source": [
    "print(f\"Time taken: {time_taken:.2f}s\")"
   ]
  }
 ],
 "metadata": {
  "kernelspec": {
   "display_name": "Python 3 (ipykernel)",
   "language": "python",
   "name": "python3"
  },
  "language_info": {
   "codemirror_mode": {
    "name": "ipython",
    "version": 3
   },
   "file_extension": ".py",
   "mimetype": "text/x-python",
   "name": "python",
   "nbconvert_exporter": "python",
   "pygments_lexer": "ipython3",
   "version": "3.10.11"
  }
 },
 "nbformat": 4,
 "nbformat_minor": 4
}
