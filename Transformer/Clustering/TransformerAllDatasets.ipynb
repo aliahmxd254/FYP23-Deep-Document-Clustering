{
 "cells": [
  {
   "cell_type": "code",
   "execution_count": 1,
   "metadata": {},
   "outputs": [],
   "source": [
    "data_choice = 3"
   ]
  },
  {
   "cell_type": "code",
   "execution_count": 2,
   "metadata": {},
   "outputs": [],
   "source": [
    "import time\n",
    "start = time.time()"
   ]
  },
  {
   "cell_type": "code",
   "execution_count": 3,
   "metadata": {},
   "outputs": [],
   "source": [
    "import sys\n",
    "transformer_path = 'D:\\FAST\\FYP\\FYP23-Deep-Document-Clustering\\Transformer' # ==== Path for transformer folder\n",
    "sys.path.insert(0, transformer_path)"
   ]
  },
  {
   "cell_type": "code",
   "execution_count": 4,
   "metadata": {},
   "outputs": [],
   "source": [
    "data_path = \"D:/FAST/FYP/FYP23-Deep-Document-Clustering/data/\" # ===== Path for data"
   ]
  },
  {
   "cell_type": "code",
   "execution_count": 5,
   "metadata": {},
   "outputs": [
    {
     "name": "stderr",
     "output_type": "stream",
     "text": [
      "c:\\Users\\Ali Ahmed\\AppData\\Local\\Programs\\Python\\Python310\\lib\\site-packages\\tqdm\\auto.py:21: TqdmWarning: IProgress not found. Please update jupyter and ipywidgets. See https://ipywidgets.readthedocs.io/en/stable/user_install.html\n",
      "  from .autonotebook import tqdm as notebook_tqdm\n"
     ]
    }
   ],
   "source": [
    "import numpy as np\n",
    "import pandas as pd\n",
    "import nltk\n",
    "import os\n",
    "import warnings\n",
    "from collections import defaultdict\n",
    "from sklearn.metrics import confusion_matrix\n",
    "from sklearn.cluster import KMeans\n",
    "from sklearn.decomposition import PCA\n",
    "from sklearn.preprocessing import Normalizer\n",
    "from nltk.corpus import wordnet as wn, stopwords\n",
    "from nltk.tokenize import word_tokenize\n",
    "from nltk.stem import WordNetLemmatizer\n",
    "from sklearn.feature_extraction.text import TfidfVectorizer\n",
    "from sklearn.metrics import silhouette_score\n",
    "from sklearn.metrics.cluster import normalized_mutual_info_score as nmi_score\n",
    "from sklearn.metrics import adjusted_rand_score as ari_score\n",
    "from sklearn.metrics import f1_score \n",
    "from concurrent.futures import ThreadPoolExecutor\n",
    "import matplotlib.pyplot as plt\n",
    "import seaborn as sns\n",
    "\n",
    "import pickle\n",
    "import torch\n",
    "import random\n",
    "\n",
    "from utils.Encoder import Encoder\n",
    "from utils.PositionalEncoding import PositionalEncoding\n",
    "\n",
    "os.environ['OMP_NUM_THREADS'] = '1'\n",
    "os.environ['OPENBLAS_NUM_THREADS'] = '1'\n",
    "warnings.filterwarnings(\"ignore\", category=UserWarning, module=\"sklearn.cluster._kmeans\")\n",
    "warnings.filterwarnings(\"ignore\", category=UserWarning, module=\"sklearn.feature_extraction.text\")\n"
   ]
  },
  {
   "cell_type": "code",
   "execution_count": 6,
   "metadata": {},
   "outputs": [
    {
     "name": "stdout",
     "output_type": "stream",
     "text": [
      "Available GPU: NVIDIA GeForce RTX 4090\n"
     ]
    }
   ],
   "source": [
    "if torch.cuda.is_available():\n",
    "    print(f\"Available GPU: {torch.cuda.get_device_name(0)}\")\n",
    "else:\n",
    "    print(\"Using CPU\")"
   ]
  },
  {
   "cell_type": "code",
   "execution_count": 7,
   "metadata": {},
   "outputs": [],
   "source": [
    "options = []\n",
    "choice = None"
   ]
  },
  {
   "cell_type": "code",
   "execution_count": 8,
   "metadata": {},
   "outputs": [],
   "source": [
    "def reset_random_seeds(seed):\n",
    "   os.environ['PYTHONHASHSEED']=str(seed)\n",
    "   torch.manual_seed(seed)\n",
    "   np.random.seed(seed)\n",
    "   random.seed(seed)\n",
    "\n",
    "def Purity_Score(label_seq, pred_labels):\n",
    "    # Calculate the confusion matrix to compare true labels and cluster assignments\n",
    "    confusion = confusion_matrix(label_seq, pred_labels)\n",
    "    # Calculate the purity\n",
    "    purity = np.sum(np.max(confusion, axis=0)) / np.sum(confusion)\n",
    "    return purity\n",
    "\n",
    "\n",
    "def Evaluate(X, true_labels, predicted_labels):\n",
    "    purity = Purity_Score(true_labels, predicted_labels)\n",
    "    silhouette = silhouette_score(X, predicted_labels, metric='euclidean')\n",
    "    ari = ari_score(true_labels, predicted_labels)\n",
    "    nmi = nmi_score(true_labels, predicted_labels)\n",
    "    \n",
    "    with open(\"D:\\FAST\\FYP\\FYP23-Deep-Document-Clustering\\Results.txt\", \"a\") as f:\n",
    "        f.write(f\"\\t Purity: {purity:.2f}\\n\"\n",
    "                f\"\\t Silhouette Score: {silhouette:.2f}\\n\"\n",
    "                f\"\\t NMI: {nmi:.2f}\\n\"\n",
    "                f\"\\t ARI: {ari:.2f}\\n\")\n",
    "    \n",
    "    print(f\"Purity: {purity}\")\n",
    "    print(f\"Silhouette Score: {silhouette}\")\n",
    "    print(f\"ARI Score: {ari}\")\n",
    "    print(f\"NMI Score: {nmi}\")\n",
    "\n",
    "def SaveFeatures(X, file_name):\n",
    "    pickle_path = open(file_name, 'wb')\n",
    "    pickle.dump(X, pickle_path)\n",
    "    pickle_path.close()\n",
    "\n",
    "def ReadFeatures(file_name):\n",
    "    pickle_read = open(file_name, 'rb')\n",
    "    x = pickle.load(pickle_read)\n",
    "    pickle_read.close()\n",
    "    return x"
   ]
  },
  {
   "cell_type": "code",
   "execution_count": 9,
   "metadata": {},
   "outputs": [
    {
     "name": "stdout",
     "output_type": "stream",
     "text": [
      "Select one of the following options:\n",
      "1. ACM\n",
      "2. BBC\n",
      "3. reut\n",
      "4. Cite\n",
      "5. Doc50\n",
      "You chose: reut\n"
     ]
    }
   ],
   "source": [
    "def display_options(options):\n",
    "    print(\"Select one of the following options:\")\n",
    "    for i, option in enumerate(options):\n",
    "        print(f\"{i + 1}. {option}\")\n",
    "\n",
    "def get_user_choice(options):\n",
    "    while True:\n",
    "        try:\n",
    "            choice = int(input(\"Enter the number corresponding to your choice: \"))\n",
    "            if 1 <= choice <= len(options):\n",
    "                return choice\n",
    "            else:\n",
    "                print(\"Invalid choice. Please enter a number within the range.\")\n",
    "        except ValueError:\n",
    "            print(\"Invalid input. Please enter a number.\")\n",
    "\n",
    "options = [\"ACM\", \"BBC\",\"reut\",\"Cite\", \"Doc50\"]  # Sample options\n",
    "display_options(options)\n",
    "# choice = get_user_choice(options)\n",
    "choice = data_choice\n",
    "print(f\"You chose: {options[choice - 1]}\")\n"
   ]
  },
  {
   "cell_type": "code",
   "execution_count": 10,
   "metadata": {},
   "outputs": [],
   "source": [
    "with open(\"D:\\FAST\\FYP\\FYP23-Deep-Document-Clustering\\Results.txt\", \"w\") as f:\n",
    "    f.write(f\"{options[choice - 1]}\\n\\n\")"
   ]
  },
  {
   "cell_type": "code",
   "execution_count": 11,
   "metadata": {},
   "outputs": [],
   "source": [
    "os.chdir(data_path)"
   ]
  },
  {
   "cell_type": "code",
   "execution_count": 12,
   "metadata": {},
   "outputs": [],
   "source": [
    "x = np.loadtxt(f\"{options[choice - 1]}.txt\", dtype=float)\n",
    "y = np.loadtxt(f\"{options[choice - 1]}_label.txt\", dtype=int)"
   ]
  },
  {
   "cell_type": "code",
   "execution_count": 13,
   "metadata": {},
   "outputs": [],
   "source": [
    "x = torch.tensor(x, dtype=torch.float32)"
   ]
  },
  {
   "cell_type": "code",
   "execution_count": 14,
   "metadata": {},
   "outputs": [
    {
     "data": {
      "text/plain": [
       "device(type='cpu')"
      ]
     },
     "execution_count": 14,
     "metadata": {},
     "output_type": "execute_result"
    }
   ],
   "source": [
    "x.device"
   ]
  },
  {
   "cell_type": "code",
   "execution_count": 15,
   "metadata": {},
   "outputs": [
    {
     "data": {
      "text/plain": [
       "torch.Size([10000, 2000])"
      ]
     },
     "execution_count": 15,
     "metadata": {},
     "output_type": "execute_result"
    }
   ],
   "source": [
    "x.size()"
   ]
  },
  {
   "cell_type": "code",
   "execution_count": 16,
   "metadata": {},
   "outputs": [],
   "source": [
    "# configurations for ACM\n",
    "if(choice == 1):\n",
    "   \n",
    "    d_model = 1870\n",
    "    num_heads = 1\n",
    "    drop_prob = 0.1\n",
    "    num_batches = 25\n",
    "    max_sequence_length = 3025\n",
    "    ffn_hidden = 2048\n",
    "    num_layers = 5\n",
    "    n_clusters = 3\n",
    "    random_states = 500\n",
    "    gpu = True\n",
    "\n",
    "# configurations for BBC\n",
    "elif(choice == 2):\n",
    "    \n",
    "    d_model = 9635\n",
    "    num_heads = 1\n",
    "    drop_prob = 0.1\n",
    "    num_batches = 25\n",
    "    max_sequence_length = 2225\n",
    "    ffn_hidden = 2048\n",
    "    num_layers = 5\n",
    "    n_clusters = 5\n",
    "    random_states = 500\n",
    "    gpu = True\n",
    "\n",
    "# configurations for Reuters\n",
    "elif(choice == 3):\n",
    "    \n",
    "    d_model = 2000\n",
    "    num_heads = 1\n",
    "    drop_prob = 0.1\n",
    "    num_batches = 25\n",
    "    max_sequence_length = 10000\n",
    "    ffn_hidden = 2048\n",
    "    num_layers = 3\n",
    "    n_clusters = 4\n",
    "    random_states = 8\n",
    "    gpu = True\n",
    "\n",
    "# configurations for Citeseer\n",
    "elif(choice == 4):\n",
    "    \n",
    "    d_model = 3703\n",
    "    num_heads = 1\n",
    "    drop_prob = 0.1\n",
    "    num_batches = 3\n",
    "    max_sequence_length = 3327\n",
    "    ffn_hidden = 2048\n",
    "    num_layers = 3\n",
    "    n_clusters = 6\n",
    "    random_states = 16\n",
    "    gpu = True\n",
    "\n",
    "# configurations for Doc50\n",
    "elif(choice == 5):\n",
    "    \n",
    "    d_model = 3885\n",
    "    num_heads = 1\n",
    "    drop_prob = 0.1\n",
    "    num_batches = 50\n",
    "    max_sequence_length = 50\n",
    "    ffn_hidden = 2048\n",
    "    num_layers = 5\n",
    "    n_clusters = 5\n",
    "    random_states = 500\n",
    "    gpu = False\n"
   ]
  },
  {
   "cell_type": "code",
   "execution_count": 17,
   "metadata": {},
   "outputs": [],
   "source": [
    "if gpu and not torch.cuda.is_available():\n",
    "    raise Exception(\"GPU is not available in this device\")"
   ]
  },
  {
   "cell_type": "code",
   "execution_count": 18,
   "metadata": {},
   "outputs": [],
   "source": [
    "pe = PositionalEncoding(d_model=d_model, max_sequence_length=max_sequence_length)\n",
    "positional_encoding = pe.forward()"
   ]
  },
  {
   "cell_type": "code",
   "execution_count": 19,
   "metadata": {},
   "outputs": [
    {
     "data": {
      "text/plain": [
       "torch.Size([10000, 2000])"
      ]
     },
     "execution_count": 19,
     "metadata": {},
     "output_type": "execute_result"
    }
   ],
   "source": [
    "dim_diff = d_model - positional_encoding.shape[1]  \n",
    "\n",
    "if dim_diff != 0:\n",
    "    positional_encoding = positional_encoding[:,0:dim_diff]\n",
    "\n",
    "positional_encoding.size()"
   ]
  },
  {
   "cell_type": "code",
   "execution_count": 20,
   "metadata": {},
   "outputs": [],
   "source": [
    "x = x + positional_encoding"
   ]
  },
  {
   "cell_type": "code",
   "execution_count": 21,
   "metadata": {},
   "outputs": [
    {
     "name": "stdout",
     "output_type": "stream",
     "text": [
      "25\n"
     ]
    }
   ],
   "source": [
    "print(num_batches)"
   ]
  },
  {
   "cell_type": "code",
   "execution_count": 22,
   "metadata": {},
   "outputs": [
    {
     "name": "stdout",
     "output_type": "stream",
     "text": [
      "torch.Size([25, 400, 2000])\n"
     ]
    }
   ],
   "source": [
    "try:\n",
    "    x = x.reshape(shape=(num_batches, x.size()[0] // num_batches, x.size()[1]))\n",
    "    print(x.size())\n",
    "except Exception as e:\n",
    "    raise Exception(e)"
   ]
  },
  {
   "cell_type": "code",
   "execution_count": 23,
   "metadata": {},
   "outputs": [
    {
     "name": "stdout",
     "output_type": "stream",
     "text": [
      "Moving feature tensor to GPU memory\n",
      "cuda:0\n"
     ]
    }
   ],
   "source": [
    "if gpu:\n",
    "    print(\"Moving feature tensor to GPU memory\")\n",
    "    x = x.cuda()\n",
    "    print(x.device)\n",
    "else:\n",
    "    print(\"Feature tensor stored in CPU memory\")\n",
    "    print(x.device)"
   ]
  },
  {
   "cell_type": "code",
   "execution_count": 24,
   "metadata": {},
   "outputs": [
    {
     "name": "stdout",
     "output_type": "stream",
     "text": [
      "Developing encoder for GPU\n",
      "CPU times: total: 141 ms\n",
      "Wall time: 228 ms\n"
     ]
    }
   ],
   "source": [
    "%%time\n",
    "reset_random_seeds(42)\n",
    "if gpu:\n",
    "    print(\"Developing encoder for GPU\")\n",
    "    encoder = Encoder(d_model=d_model, ffn_hidden=ffn_hidden, num_heads=num_heads, drop_prob=drop_prob, num_layers=num_layers).cuda()\n",
    "    torch.cuda.memory_allocated()\n",
    "else:\n",
    "    print(\"Developing encoder for CPU\")\n",
    "    encoder = Encoder(d_model=d_model, ffn_hidden=ffn_hidden, num_heads=num_heads, drop_prob=drop_prob, num_layers=num_layers)"
   ]
  },
  {
   "cell_type": "code",
   "execution_count": 25,
   "metadata": {
    "scrolled": true
   },
   "outputs": [
    {
     "name": "stdout",
     "output_type": "stream",
     "text": [
      "True\n",
      "True\n",
      "True\n",
      "True\n",
      "True\n",
      "True\n",
      "True\n",
      "True\n",
      "True\n",
      "True\n",
      "True\n",
      "True\n",
      "True\n",
      "True\n",
      "True\n",
      "True\n",
      "True\n",
      "True\n",
      "True\n",
      "True\n",
      "True\n",
      "True\n",
      "True\n",
      "True\n",
      "True\n",
      "True\n",
      "True\n",
      "True\n",
      "True\n",
      "True\n",
      "True\n",
      "True\n",
      "True\n",
      "True\n",
      "True\n",
      "True\n"
     ]
    }
   ],
   "source": [
    "if gpu:\n",
    "    for i in encoder.parameters():\n",
    "        print(i.is_cuda)\n",
    "else:\n",
    "    print(\"Encoder in CPU\")"
   ]
  },
  {
   "cell_type": "code",
   "execution_count": 26,
   "metadata": {
    "scrolled": true
   },
   "outputs": [
    {
     "name": "stdout",
     "output_type": "stream",
     "text": [
      "x.size(): torch.Size([25, 400, 2000])\n",
      "tensor([[[ 0.0000e+00,  1.0000e+00,  0.0000e+00,  ...,  1.0000e+00,\n",
      "           0.0000e+00,  1.0000e+00],\n",
      "         [ 8.4147e-01,  5.4030e-01,  8.3648e-01,  ...,  1.0000e+00,\n",
      "           1.0093e-04,  1.0000e+00],\n",
      "         [ 9.0930e-01, -4.1615e-01,  9.1677e-01,  ...,  1.0000e+00,\n",
      "           2.0185e-04,  1.0000e+00],\n",
      "         ...,\n",
      "         [ 9.1653e-01,  3.9996e-01, -6.1405e-01,  ...,  9.9918e-01,\n",
      "           4.0057e-02,  9.9920e-01],\n",
      "         [ 8.3176e-01, -5.5514e-01, -9.9670e-01,  ...,  9.9918e-01,\n",
      "           4.0157e-02,  9.9919e-01],\n",
      "         [-1.7732e-02, -9.9984e-01, -4.7831e-01,  ...,  9.9917e-01,\n",
      "           4.0258e-02,  9.9919e-01]],\n",
      "\n",
      "        [[-8.5092e-01, -5.2530e-01,  4.7247e-01,  ...,  9.9917e-01,\n",
      "           4.0359e-02,  9.9919e-01],\n",
      "         [-9.0178e-01,  4.3221e-01,  9.9614e-01,  ...,  9.9917e-01,\n",
      "           4.0460e-02,  9.9918e-01],\n",
      "         [-1.2354e-01,  9.9234e-01,  6.1929e-01,  ...,  9.9916e-01,\n",
      "           4.0561e-02,  9.9918e-01],\n",
      "         ...,\n",
      "         [-8.2178e-01,  5.6980e-01, -9.1411e-01,  ...,  9.9671e-01,\n",
      "           8.0351e-02,  9.9677e-01],\n",
      "         [ 3.5459e-02,  9.9937e-01, -8.4009e-01,  ...,  9.9670e-01,\n",
      "           8.0451e-02,  9.9676e-01],\n",
      "         [ 8.6010e-01,  5.1013e-01, -6.6660e-03,  ...,  9.9669e-01,\n",
      "           8.0552e-02,  9.9675e-01]],\n",
      "\n",
      "        [[ 8.9397e-01, -4.4813e-01,  8.3282e-01,  ...,  9.9668e-01,\n",
      "           8.0653e-02,  9.9674e-01],\n",
      "         [ 1.0593e-01, -9.9437e-01,  9.1941e-01,  ...,  9.9667e-01,\n",
      "           8.0753e-02,  9.9673e-01],\n",
      "         [-7.7950e-01, -6.2640e-01,  1.7482e-01,  ...,  9.9667e-01,\n",
      "           8.0854e-02,  9.9673e-01],\n",
      "         ...,\n",
      "         [-5.3174e-02, -9.9859e-01, -9.9722e-01,  ...,  9.9258e-01,\n",
      "           1.2051e-01,  9.9271e-01],\n",
      "         [-8.6901e-01, -4.9479e-01, -4.8418e-01,  ...,  9.9256e-01,\n",
      "           1.2061e-01,  9.9270e-01],\n",
      "         [-8.8588e-01,  4.6391e-01,  4.6658e-01,  ...,  9.9255e-01,\n",
      "           1.2071e-01,  9.9269e-01]],\n",
      "\n",
      "        ...,\n",
      "\n",
      "        [[-3.8848e-01, -9.2146e-01, -9.8573e-01,  ...,  6.2446e-01,\n",
      "           7.7590e-01,  6.3085e-01],\n",
      "         [-9.8528e-01, -1.7097e-01, -6.8141e-01,  ...,  6.2438e-01,\n",
      "           7.7596e-01,  6.3078e-01],\n",
      "         [-6.7622e-01,  7.3670e-01,  2.3919e-01,  ...,  6.2430e-01,\n",
      "           7.7603e-01,  6.3070e-01],\n",
      "         ...,\n",
      "         [-9.9992e-01, -1.2493e-02,  8.8132e-01,  ...,  5.9237e-01,\n",
      "           8.0055e-01,  5.9927e-01],\n",
      "         [-5.5077e-01,  8.3466e-01,  8.8298e-02,  ...,  5.9229e-01,\n",
      "           8.0061e-01,  5.9919e-01],\n",
      "         [ 4.0475e-01,  9.1443e-01, -7.8506e-01,  ...,  5.9221e-01,\n",
      "           8.0067e-01,  5.9911e-01]],\n",
      "\n",
      "        [[ 9.8815e-01,  1.5348e-01, -9.4853e-01,  ...,  5.9212e-01,\n",
      "           8.0073e-01,  5.9903e-01],\n",
      "         [ 6.6305e-01, -7.4858e-01, -2.5452e-01,  ...,  5.9204e-01,\n",
      "           8.0079e-01,  5.9894e-01],\n",
      "         [-2.7166e-01, -9.6239e-01,  6.6974e-01,  ...,  5.9196e-01,\n",
      "           8.0085e-01,  5.9886e-01],\n",
      "         ...,\n",
      "         [ 5.3589e-01, -8.4429e-01,  5.5411e-01,  ...,  5.5906e-01,\n",
      "           8.2408e-01,  5.6647e-01],\n",
      "         [-4.2091e-01, -9.0710e-01, -3.9303e-01,  ...,  5.5898e-01,\n",
      "           8.2414e-01,  5.6639e-01],\n",
      "         [-9.9072e-01, -1.3593e-01, -9.8461e-01,  ...,  5.5889e-01,\n",
      "           8.2420e-01,  5.6630e-01]],\n",
      "\n",
      "        [[-6.4967e-01,  7.6022e-01, -6.8618e-01,  ...,  5.5881e-01,\n",
      "           8.2425e-01,  5.6622e-01],\n",
      "         [ 2.8868e-01,  9.5742e-01,  2.3283e-01,  ...,  5.5872e-01,\n",
      "           8.2431e-01,  5.6614e-01],\n",
      "         [ 9.6162e-01,  2.7438e-01,  9.4088e-01,  ...,  5.5864e-01,\n",
      "           8.2437e-01,  5.6605e-01],\n",
      "         ...,\n",
      "         [ 4.3692e-01,  8.9950e-01,  9.4814e-02,  ...,  5.2483e-01,\n",
      "           8.4627e-01,  5.3275e-01],\n",
      "         [ 9.9297e-01,  1.1834e-01, -7.8099e-01,  ...,  5.2474e-01,\n",
      "           8.4633e-01,  5.3266e-01],\n",
      "         [ 6.3609e-01, -7.7162e-01, -9.5058e-01,  ...,  5.2465e-01,\n",
      "           8.4638e-01,  5.3258e-01]]], device='cuda:0')\n",
      "qkv.size(): torch.Size([25, 400, 6000])\n",
      "25, 400, 1, 2000\n",
      "qkv.size(): torch.Size([25, 400, 1, 6000])\n",
      "q.size(): torch.Size([25, 1, 400, 2000]), k.size(): torch.Size([25, 1, 400, 2000]), v.size(): torch.Size([25, 1, 400, 2000])\n",
      "values.size(): torch.Size([25, 1, 400, 2000]), attention.size(): torch.Size([25, 1, 400, 400])\n",
      "x.size(): torch.Size([25, 400, 2000])\n",
      "tensor([[[-4.4396e-01,  3.9338e-01, -4.7133e-01,  ...,  6.2289e-01,\n",
      "          -9.2489e-01,  6.4949e-01],\n",
      "         [-1.0765e-01,  1.9904e-02, -1.9767e-01,  ...,  1.1100e-01,\n",
      "          -3.4742e-01,  5.0980e-01],\n",
      "         [-1.2036e-01, -7.1844e-01,  3.5235e-01,  ..., -3.9335e-02,\n",
      "          -3.8628e-01,  7.8157e-01],\n",
      "         ...,\n",
      "         [-1.2000e-01,  8.8110e-02, -1.4320e+00,  ...,  3.0105e-01,\n",
      "          -4.5542e-01,  6.6503e-01],\n",
      "         [ 2.2214e-01, -4.8378e-01, -1.2729e+00,  ..., -4.2278e-01,\n",
      "          -1.3017e-01,  8.2004e-01],\n",
      "         [-4.6775e-01, -1.0364e+00, -1.2783e+00,  ...,  1.9431e-01,\n",
      "          -1.9627e-01,  3.4687e-01]],\n",
      "\n",
      "        [[-1.4295e+00, -5.1028e-01, -3.0039e-01,  ...,  4.6593e-01,\n",
      "          -2.1069e-01,  1.0748e+00],\n",
      "         [-1.2846e+00, -1.4670e-01,  4.0741e-01,  ...,  8.1506e-02,\n",
      "          -3.3915e-03,  6.5863e-01],\n",
      "         [-5.1419e-01,  9.9035e-01, -1.5756e-01,  ..., -8.4748e-02,\n",
      "           2.3053e-01,  1.2719e+00],\n",
      "         ...,\n",
      "         [-1.1920e+00,  5.6225e-01, -1.3497e+00,  ..., -1.2884e-03,\n",
      "          -2.5446e-01,  1.3801e+00],\n",
      "         [-6.1391e-01,  6.6524e-01, -1.0391e+00,  ...,  4.8908e-01,\n",
      "          -3.1226e-04,  1.3211e+00],\n",
      "         [ 4.5946e-01,  9.6961e-01, -3.5342e-01,  ...,  2.6175e-01,\n",
      "          -5.2223e-01,  1.3727e+00]],\n",
      "\n",
      "        [[ 1.9804e-01, -4.2179e-01,  4.0763e-01,  ...,  2.7700e-01,\n",
      "           5.3180e-02,  8.3821e-01],\n",
      "         [-5.2760e-01, -8.7323e-01,  3.8954e-01,  ...,  3.6726e-01,\n",
      "          -1.5712e-01,  7.5425e-01],\n",
      "         [-1.0083e+00, -4.5577e-01, -2.0935e-01,  ...,  1.9016e-01,\n",
      "          -3.7321e-02,  5.8805e-01],\n",
      "         ...,\n",
      "         [-6.7254e-01, -9.5215e-01, -1.0910e+00,  ...,  2.6476e-01,\n",
      "          -9.4200e-02,  5.5916e-01],\n",
      "         [-1.3451e+00, -4.2061e-01, -6.7859e-01,  ...,  8.0457e-02,\n",
      "           1.7603e-01,  8.3477e-01],\n",
      "         [-1.3892e+00,  5.1812e-01, -1.3222e-01,  ...,  2.0524e-01,\n",
      "           2.6618e-01,  1.2592e+00]],\n",
      "\n",
      "        ...,\n",
      "\n",
      "        [[-9.8682e-01, -8.4280e-01, -1.3595e+00,  ...,  2.4399e-01,\n",
      "           6.3985e-02,  2.8531e-01],\n",
      "         [-1.3765e+00, -5.1282e-03, -1.1975e+00,  ...,  1.9444e-01,\n",
      "           6.9916e-01,  7.1194e-02],\n",
      "         [-1.1833e+00,  5.9867e-01, -2.1865e-01,  ..., -4.6373e-03,\n",
      "           6.8220e-01,  5.8444e-01],\n",
      "         ...,\n",
      "         [-1.5054e+00, -4.0154e-01,  4.3389e-01,  ...,  1.0100e-01,\n",
      "           5.0137e-02,  3.4551e-02],\n",
      "         [-9.9837e-01,  3.1181e-01, -5.6736e-01,  ...,  3.5704e-01,\n",
      "           4.2328e-01,  4.6271e-01],\n",
      "         [-2.6698e-01,  6.7507e-01, -1.2186e+00,  ...,  3.0177e-01,\n",
      "           4.4656e-01,  4.2114e-01]],\n",
      "\n",
      "        [[ 1.8222e-01, -3.2878e-02, -1.1062e+00,  ...,  5.2788e-01,\n",
      "           7.8269e-01,  3.2707e-01],\n",
      "         [ 3.7470e-01, -8.9610e-01, -4.6732e-01,  ...,  2.0946e-01,\n",
      "           3.6921e-01,  4.9007e-01],\n",
      "         [-8.0305e-01, -1.0206e+00,  2.0879e-01,  ...,  1.3301e-01,\n",
      "           2.8801e-02,  4.8879e-01],\n",
      "         ...,\n",
      "         [ 2.0120e-02, -4.3945e-01, -7.1245e-02,  ..., -2.1413e-01,\n",
      "           6.8252e-01,  5.1087e-01],\n",
      "         [-9.7622e-01, -5.9336e-01, -9.4997e-01,  ...,  3.7632e-01,\n",
      "           6.0411e-01,  5.0061e-01],\n",
      "         [-9.1935e-01,  8.2652e-02, -1.2304e+00,  ...,  2.2068e-01,\n",
      "           7.2604e-01,  6.9325e-01]],\n",
      "\n",
      "        [[-1.1093e+00,  4.4491e-01, -1.0734e+00,  ...,  3.6548e-01,\n",
      "           3.9812e-01,  4.7249e-01],\n",
      "         [-1.2608e-01,  2.7442e-01, -2.2519e-01,  ...,  2.9628e-01,\n",
      "           3.7020e-01,  5.0265e-01],\n",
      "         [ 2.8522e-01,  4.7540e-01,  4.3656e-01,  ...,  1.3924e-01,\n",
      "           6.8064e-01,  1.3138e-01],\n",
      "         ...,\n",
      "         [ 9.6228e-02,  8.8318e-01, -7.3357e-01,  ...,  6.5665e-01,\n",
      "           3.5643e-01,  2.3634e-01],\n",
      "         [ 3.1052e-01, -6.0499e-02, -9.5682e-01,  ...,  2.0361e-01,\n",
      "           2.4447e-01,  5.8723e-01],\n",
      "         [-3.9839e-02, -8.6966e-01, -1.2335e+00,  ...,  2.7784e-01,\n",
      "          -1.9901e-01, -1.1166e-01]]], device='cuda:0', grad_fn=<AddBackward0>)\n",
      "qkv.size(): torch.Size([25, 400, 6000])\n",
      "25, 400, 1, 2000\n",
      "qkv.size(): torch.Size([25, 400, 1, 6000])\n",
      "q.size(): torch.Size([25, 1, 400, 2000]), k.size(): torch.Size([25, 1, 400, 2000]), v.size(): torch.Size([25, 1, 400, 2000])\n",
      "values.size(): torch.Size([25, 1, 400, 2000]), attention.size(): torch.Size([25, 1, 400, 400])\n",
      "x.size(): torch.Size([25, 400, 2000])\n",
      "tensor([[[-0.3715,  0.3655, -0.9293,  ...,  0.3646, -0.8276,  0.5730],\n",
      "         [-0.1775,  0.0067, -0.6719,  ..., -0.4571, -0.2509,  0.9434],\n",
      "         [-0.3394, -0.8460,  0.0115,  ...,  0.2039, -0.3025,  0.8746],\n",
      "         ...,\n",
      "         [-0.2902, -0.0312, -1.3984,  ...,  0.1955, -0.5708,  1.4893],\n",
      "         [ 0.2118, -0.5106, -1.5243,  ..., -0.6182,  0.3163,  1.2836],\n",
      "         [-0.7517, -0.9186, -1.7342,  ..., -0.1600,  0.0806,  0.3240]],\n",
      "\n",
      "        [[-1.2413, -0.2316, -0.4911,  ..., -0.0077, -0.3449,  0.8849],\n",
      "         [-1.3338,  0.2374, -0.0797,  ...,  0.0219, -0.1548,  0.6199],\n",
      "         [-0.3466,  0.9646, -0.3147,  ..., -0.5357,  0.0727,  1.2167],\n",
      "         ...,\n",
      "         [-1.2992,  0.5982, -1.3464,  ...,  0.3515, -0.1795,  1.5161],\n",
      "         [-0.7312,  0.7218, -1.1991,  ...,  0.1346, -0.1521,  1.4086],\n",
      "         [ 0.5185,  0.7222, -0.5764,  ...,  0.2509, -1.0607,  1.3175]],\n",
      "\n",
      "        [[ 0.1629, -0.3945,  0.4665,  ..., -0.3803, -0.6336,  1.0567],\n",
      "         [-0.3570, -0.7296,  0.1272,  ..., -0.2058, -0.3850,  0.6671],\n",
      "         [-1.1396, -0.4553, -0.7426,  ..., -0.4856, -0.0451,  0.3698],\n",
      "         ...,\n",
      "         [-0.0358, -1.1125, -1.3764,  ...,  0.6457, -0.0337,  0.6165],\n",
      "         [-0.8984, -0.4147, -0.8790,  ..., -0.1760,  0.0099,  0.6255],\n",
      "         [-0.7460,  0.4482, -0.7973,  ...,  0.1126,  0.2385,  0.8312]],\n",
      "\n",
      "        ...,\n",
      "\n",
      "        [[-1.5461, -0.7292, -1.3805,  ..., -0.3197,  0.0763,  0.2894],\n",
      "         [-1.4773, -0.0304, -0.9477,  ...,  0.3928,  0.5947,  0.2423],\n",
      "         [-1.6922,  0.7565, -0.1375,  ..., -0.2707,  0.4216,  0.7616],\n",
      "         ...,\n",
      "         [-1.8286, -0.6430,  0.7696,  ...,  0.1847, -0.2226,  0.3181],\n",
      "         [-1.0953,  0.1043, -0.5427,  ...,  0.6787,  0.3515,  0.8131],\n",
      "         [-0.6831,  0.7270, -1.1806,  ...,  0.0213,  0.1870,  0.7020]],\n",
      "\n",
      "        [[ 0.0298, -0.0249, -1.2142,  ...,  0.1699,  0.7054,  0.8342],\n",
      "         [ 0.2383, -0.6008, -0.3972,  ...,  0.5561,  0.5414,  0.4482],\n",
      "         [-0.9662, -1.0584, -0.1308,  ...,  0.0722,  0.0260,  1.0653],\n",
      "         ...,\n",
      "         [-0.3119, -0.8091, -0.1743,  ..., -0.3502,  0.7090,  0.8893],\n",
      "         [-1.1717, -0.3553, -1.0593,  ...,  0.0581,  0.4638,  0.6661],\n",
      "         [-1.2921, -0.3386, -1.3964,  ...,  0.0861,  0.4641,  0.5236]],\n",
      "\n",
      "        [[-1.4450,  0.0793, -0.9724,  ...,  0.2421,  0.1577,  0.8972],\n",
      "         [ 0.0344, -0.1184, -0.3581,  ...,  0.0152,  0.2992,  0.6293],\n",
      "         [-0.1143,  0.4544,  0.2356,  ...,  0.3129,  0.7332,  0.0068],\n",
      "         ...,\n",
      "         [-0.2923,  0.7870, -0.6726,  ...,  0.5717,  0.4633,  0.0155],\n",
      "         [-0.1820, -0.1091, -0.8698,  ...,  0.1779,  0.1964,  0.8956],\n",
      "         [-0.3078, -0.4022, -1.3164,  ...,  0.4555, -0.2826, -0.2856]]],\n",
      "       device='cuda:0', grad_fn=<AddBackward0>)\n",
      "qkv.size(): torch.Size([25, 400, 6000])\n",
      "25, 400, 1, 2000\n",
      "qkv.size(): torch.Size([25, 400, 1, 6000])\n",
      "q.size(): torch.Size([25, 1, 400, 2000]), k.size(): torch.Size([25, 1, 400, 2000]), v.size(): torch.Size([25, 1, 400, 2000])\n",
      "values.size(): torch.Size([25, 1, 400, 2000]), attention.size(): torch.Size([25, 1, 400, 400])\n",
      "CPU times: total: 3.08 s\n",
      "Wall time: 3.35 s\n"
     ]
    }
   ],
   "source": [
    "%%time\n",
    "out = encoder(x)\n",
    "\n",
    "# Assuming you have a model named 'model'\n",
    "# Example:\n",
    "# model = YourModelClass()\n",
    "\n",
    "\n",
    "# Save the model parameters\n",
    "torch.save(encoder.state_dict(), 'D:/FAST/FYP/FYP23-Deep-Document-Clustering/data/reut.pkl')"
   ]
  },
  {
   "cell_type": "code",
   "execution_count": 27,
   "metadata": {},
   "outputs": [],
   "source": [
    "def KMeans_Labels(X, n, rstate_limit, true_labels):\n",
    "    # Specify the number of clusters (you can choose an appropriate value)\n",
    "    num_clusters = n\n",
    "    \n",
    "    # find centoids which give maximum purity\n",
    "    purity_collection = {}\n",
    "    for i in range(rstate_limit):\n",
    "        clusters = KMeans(n_init='auto', n_clusters=num_clusters, random_state=i, init='k-means++').fit(X).labels_\n",
    "        purity_collection[i] = Purity_Score(true_labels, clusters)\n",
    "    \n",
    "    max_rand_state = max(purity_collection, key=purity_collection.get)\n",
    "    print(f\"Maximum purity of {purity_collection[max_rand_state]} found on random state {max_rand_state}\")\n",
    "\n",
    "    plot_graph(purity_collection.keys(), purity_collection.values())\n",
    "    \n",
    "    # Create a KMeans model\n",
    "    kmeans = KMeans(n_init='auto', n_clusters=num_clusters, random_state=max_rand_state, init='k-means++')\n",
    "    # Fit the KMeans model to the TF-IDF data\n",
    "    kmeans.fit(X)\n",
    "    # Get the cluster assignments for each document\n",
    "    cluster_assignments = kmeans.labels_\n",
    "    \n",
    "    return cluster_assignments\n",
    "\n",
    "def plot_graph(x, y):\n",
    "    plt.scatter(x, y, marker = \"o\")\n",
    "    plt.title(\"Purity x Random State\")\n",
    "    plt.ylabel(\"Purity\")\n",
    "    plt.xlabel(\"Random State\")\n",
    "    purity_save_path = \"D:\\FAST\\FYP\\FYP23-Deep-Document-Clustering\\Purity_Image.png\"\n",
    "    with open(purity_save_path, \"w\") as f:\n",
    "        plt.savefig(purity_save_path)\n",
    "    plt.show()\n",
    "\n",
    "def calculate_purity(random_state, X, true_labels):\n",
    "    clusters = KMeans(n_init='auto', n_clusters=num_clusters, random_state=random_state, init='k-means++').fit(X).labels_\n",
    "    purity = Purity_Score(true_labels, clusters)\n",
    "    return random_state, purity\n",
    "\n",
    "def KMeans_Labels_Parallel(X, n, rstate_limit, true_labels):\n",
    "    # Specify the number of clusters (you can choose an appropriate value)\n",
    "    global num_clusters\n",
    "    num_clusters = n\n",
    "    purity_collection = {}\n",
    "\n",
    "    for i in range(0, rstate_limit, 100):\n",
    "        # Use ThreadPoolExecutor to parallelize purity calculations\n",
    "        with ThreadPoolExecutor() as executor:\n",
    "            futures = {executor.submit(calculate_purity, i, X, true_labels): i for i in range(i, i+16)}\n",
    "        temp_purity_collection = {future.result()[0]: future.result()[1] for future in futures}\n",
    "        purity_collection.update(temp_purity_collection)\n",
    "\n",
    "    max_rand_state = max(purity_collection, key=purity_collection.get)\n",
    "    print(f\"Maximum purity of {purity_collection[max_rand_state]} found on random state {max_rand_state}\")\n",
    "\n",
    "    plot_graph(purity_collection.keys(), purity_collection.values())\n",
    "    \n",
    "    # Create a KMeans model\n",
    "    kmeans = KMeans(n_init='auto', n_clusters=num_clusters, random_state=max_rand_state, init='k-means++')\n",
    "    # Fit the KMeans model to the data\n",
    "    kmeans.fit(X)\n",
    "    # Get the cluster assignments for each data point\n",
    "    cluster_assignments = kmeans.labels_\n",
    "    cluster_centers = kmeans.cluster_centers_\n",
    "    \n",
    "    return cluster_assignments, cluster_centers\n"
   ]
  },
  {
   "cell_type": "code",
   "execution_count": 28,
   "metadata": {},
   "outputs": [
    {
     "name": "stdout",
     "output_type": "stream",
     "text": [
      "torch.Size([10000, 2000])\n"
     ]
    }
   ],
   "source": [
    "reshaped_out = out.reshape(out.size()[0] * out.size()[1], out.size()[2])\n",
    "print(reshaped_out.size())\n",
    "enhanced_x = reshaped_out.cpu().detach().numpy()"
   ]
  },
  {
   "cell_type": "code",
   "execution_count": 29,
   "metadata": {},
   "outputs": [],
   "source": [
    "del reshaped_out\n",
    "del out\n",
    "del encoder\n",
    "del x"
   ]
  },
  {
   "cell_type": "code",
   "execution_count": 30,
   "metadata": {},
   "outputs": [
    {
     "name": "stdout",
     "output_type": "stream",
     "text": [
      "Find best clusters for 8 random states\n"
     ]
    },
    {
     "ename": "",
     "evalue": "",
     "output_type": "error",
     "traceback": [
      "\u001b[1;31mThe Kernel crashed while executing code in the current cell or a previous cell. \n",
      "\u001b[1;31mPlease review the code in the cell(s) to identify a possible cause of the failure. \n",
      "\u001b[1;31mClick <a href='https://aka.ms/vscodeJupyterKernelCrash'>here</a> for more info. \n",
      "\u001b[1;31mView Jupyter <a href='command:jupyter.viewOutput'>log</a> for further details."
     ]
    }
   ],
   "source": [
    "%%time\n",
    "true_labels = y\n",
    "print(f\"Find best clusters for {random_states} random states\")\n",
    "pred_lables, centoids = KMeans_Labels_Parallel(enhanced_x, n_clusters, random_states, true_labels)"
   ]
  },
  {
   "cell_type": "code",
   "execution_count": null,
   "metadata": {},
   "outputs": [
    {
     "name": "stdout",
     "output_type": "stream",
     "text": [
      "Purity: 0.9384269662921348\n",
      "Silhouette Score: 0.11094757914543152\n",
      "ARI Score: 0.8544927970197453\n",
      "NMI Score: 0.8723906715629024\n"
     ]
    }
   ],
   "source": [
    "Evaluate(enhanced_x, true_labels, pred_lables)"
   ]
  },
  {
   "cell_type": "code",
   "execution_count": null,
   "metadata": {},
   "outputs": [],
   "source": [
    "def visualize_clusters(X, cluster_assignments, cluster_centers, num_dimensions=2):\n",
    "    # Apply PCA to reduce the dimensions for visualization\n",
    "    pca = PCA(n_components=num_dimensions)\n",
    "    X_pca = pca.fit_transform(X)\n",
    "\n",
    "    # Combine data and cluster assignments into a DataFrame\n",
    "    data_with_clusters = pd.DataFrame(X_pca, columns=[f'PC{i}' for i in range(1, num_dimensions+1)])\n",
    "    data_with_clusters['Cluster'] = cluster_assignments\n",
    "\n",
    "    # Scatter plot with different colors for each cluster\n",
    "    plt.figure(figsize=(8, 6))\n",
    "    sns.scatterplot(x='PC1', y='PC2', hue='Cluster', data=data_with_clusters, palette='viridis', s=80, alpha=0.8)\n",
    "    \n",
    "    # Plot cluster centers if available\n",
    "    centers = pca.transform(cluster_centers)\n",
    "    plt.scatter(centers[:, 0], centers[:, 1], c='red', marker='X', s=200, label='Cluster Centers')\n",
    "    \n",
    "    plt.title('Cluster Visualization (PCA)')\n",
    "    plt.xlabel('Principal Component 1')\n",
    "    plt.ylabel('Principal Component 2')\n",
    "    plt.legend()\n",
    "    cluster_save_path = \"D:\\FAST\\FYP\\FYP23-Deep-Document-Clustering\\Cluster_Image.png\"\n",
    "    with open(cluster_save_path, \"w\") as f:\n",
    "        plt.savefig(cluster_save_path)\n",
    "    plt.show()\n",
    "    \n"
   ]
  },
  {
   "cell_type": "code",
   "execution_count": null,
   "metadata": {},
   "outputs": [
    {
     "data": {
      "image/png": "[encoded data removed]",
      "text/plain": [
       "<Figure size 800x600 with 1 Axes>"
      ]
     },
     "metadata": {},
     "output_type": "display_data"
    }
   ],
   "source": [
    "visualize_clusters(enhanced_x, pred_lables, cluster_centers=centoids, num_dimensions=2)"
   ]
  },
  {
   "cell_type": "code",
   "execution_count": null,
   "metadata": {},
   "outputs": [
    {
     "name": "stdout",
     "output_type": "stream",
     "text": [
      "From 0 - 300\n",
      "[0 0 0 0 0 0 0 0 0 0 0 0 0 0 0 0 0 0 0 0 0 0 0 0 0 0 0 0 0 0 0 0 0 0 0 0 0\n",
      " 0 0 0 0 0 0 0 0 0 0 0 0 0 0 0 0 0 0 0 0 0 0 0 0 0 0 0 0 0 0 0 0 0 0 0 0 0\n",
      " 0 0 0 0 0 0 0 0 0 0 0 0 0 0 0 0 0 0 0 0 0 0 0 0 0 0 0 0 0 0 0 0 0 0 0 0 0\n",
      " 0 0 0 0 0 0 0 0 0 0 0 0 0 0 0 0 0 0 0 0 0 0 0 0 0 0 0 0 0 0 0 0 0 0 0 0 0\n",
      " 0 0 0 0 0 0 0 0 0 0 0 0 0 0 0 0 0 0 0 0 0 0 0 0 0 0 0 0 0 0 0 0 0 0 0 0 0\n",
      " 0 0 0 0 0 0 0 0 0 0 0 0 0 0 0 0 0 0 0 0 0 0 0 0 0 0 0 0 0 0 0 0 0 0 0 0 0\n",
      " 0 0 0 0 0 0 0 0 0 0 0 0 0 0 0 0 0 0 0 0 0 0 0 0 0 0 0 0 0 0 0 0 0 0 0 0 0\n",
      " 0 0 0 0 0 0 0 0 0 0 0 0 0 0 0 0 0 0 0 0 0 0 0 0 0 0 0 0 0 0 0 0 0 0 0 0 0\n",
      " 0 0 0 0]\n",
      "[3 3 3 3 3 3 3 3 3 3 3 3 3 3 3 3 3 3 3 3 3 3 3 3 3 3 3 3 3 3 3 3 3 3 3 3 3\n",
      " 3 3 3 3 3 3 3 3 3 3 3 3 3 3 3 3 3 3 3 3 3 3 3 3 3 3 3 3 3 3 3 3 3 3 3 3 3\n",
      " 3 3 3 3 3 3 3 3 3 3 3 3 3 3 3 3 3 3 3 3 3 3 3 3 3 3 3 3 3 3 3 3 3 3 3 3 3\n",
      " 3 3 3 3 3 3 3 3 3 3 3 3 3 3 3 3 3 3 3 3 3 3 3 3 3 3 3 3 3 3 3 3 3 3 3 3 3\n",
      " 3 3 3 3 3 3 3 3 3 3 3 3 3 3 3 3 3 3 3 3 3 3 3 3 3 3 3 3 3 3 3 3 3 3 3 3 3\n",
      " 3 3 3 3 3 3 3 3 3 3 3 3 3 3 3 3 3 3 3 3 3 3 3 3 3 3 3 3 3 3 3 3 3 3 3 3 3\n",
      " 3 3 3 3 3 3 3 3 3 3 3 3 3 3 3 3 3 3 3 3 3 3 3 3 3 3 3 3 3 3 3 3 3 3 3 3 3\n",
      " 3 3 3 3 3 3 3 3 3 3 3 3 3 3 3 3 3 3 3 3 3 3 3 3 3 3 3 3 3 3 3 3 3 3 3 3 3\n",
      " 3 3 3 3]\n",
      "From 300 - 600\n",
      "[0 0 0 0 0 0 0 0 0 0 0 0 0 0 0 0 0 0 0 0 0 0 0 0 0 0 0 0 0 0 0 0 0 0 0 0 0\n",
      " 0 0 0 0 0 0 0 0 0 0 0 0 0 0 0 0 0 0 0 0 0 0 0 0 0 0 0 0 0 0 0 0 0 0 0 0 0\n",
      " 0 0 0 0 0 0 0 0 0 0 0 0 0 0 0 0 0 0 0 0 0 0 0 0 0 0 0 0 0 0 0 0 0 0 0 0 0\n",
      " 0 0 0 0 0 0 0 0 0 0 0 0 0 0 0 0 0 0 0 0 0 0 0 0 0 0 0 0 0 0 0 0 0 0 0 0 0\n",
      " 0 0 0 0 0 0 0 0 0 0 0 0 0 0 0 0 0 0 0 0 0 0 0 0 0 0 0 0 0 0 0 0 0 0 0 0 0\n",
      " 0 0 0 0 0 0 0 0 0 0 0 0 0 0 0 0 0 0 0 0 0 0 0 0 0 1 1 1 1 1 1 1 1 1 1 1 1\n",
      " 1 1 1 1 1 1 1 1 1 1 1 1 1 1 1 1 1 1 1 1 1 1 1 1 1 1 1 1 1 1 1 1 1 1 1 1 1\n",
      " 1 1 1 1 1 1 1 1 1 1 1 1 1 1 1 1 1 1 1 1 1 1 1 1 1 1 1 1 1 1 1 1 1 1 1 1 1\n",
      " 1 1 1 1]\n",
      "[3 3 3 3 3 3 3 3 3 3 3 3 3 3 3 3 3 3 3 3 3 3 3 3 3 3 3 3 3 3 3 3 3 3 3 3 3\n",
      " 3 3 3 3 3 3 3 3 3 3 3 3 3 3 3 3 3 3 3 3 3 3 3 3 3 3 3 3 3 3 3 3 3 3 3 3 3\n",
      " 3 3 3 3 3 3 3 3 3 3 3 3 3 3 3 3 3 3 3 3 3 3 3 3 3 3 3 3 3 3 3 3 3 3 3 3 3\n",
      " 3 3 3 3 3 3 3 3 3 3 3 3 3 3 3 3 3 3 3 3 3 3 3 3 3 3 3 3 3 3 3 3 3 3 1 1 1\n",
      " 1 1 1 1 1 1 1 1 1 1 1 1 1 1 1 1 1 1 1 1 1 1 1 1 1 1 1 1 1 1 1 1 1 1 1 1 1\n",
      " 1 1 1 1 1 1 1 1 1 1 1 1 1 1 1 1 1 1 1 1 1 1 1 1 1 1 1 1 1 1 1 1 1 1 1 1 1\n",
      " 1 1 1 1 1 1 1 1 1 1 1 1 1 1 1 1 1 1 1 1 1 1 1 1 1 1 1 1 1 1 1 1 1 1 1 1 1\n",
      " 1 1 1 1 1 1 1 1 1 1 1 1 1 1 1 1 1 1 1 1 1 1 1 1 1 1 1 1 1 1 1 1 1 1 1 1 1\n",
      " 1 1 1 1]\n",
      "From 600 - 900\n",
      "[1 1 1 1 1 1 1 1 1 1 1 1 1 1 1 1 1 1 1 1 1 1 1 1 1 1 1 1 1 1 1 1 1 1 1 1 1\n",
      " 1 1 1 1 1 1 1 1 1 1 1 1 1 1 1 1 1 1 1 1 1 1 1 1 1 1 1 1 1 1 1 1 1 1 1 1 1\n",
      " 1 1 1 1 1 1 1 1 1 1 1 1 1 1 1 1 1 1 1 1 1 1 1 1 1 1 1 1 1 1 1 1 1 1 1 1 1\n",
      " 1 1 1 1 1 1 1 1 1 1 1 1 1 1 1 1 1 1 1 1 1 1 1 1 1 1 1 1 1 1 1 1 1 1 1 1 1\n",
      " 1 1 1 1 1 1 1 1 1 1 1 1 1 1 1 1 1 1 1 1 1 1 1 1 1 1 1 1 1 1 1 1 1 1 1 1 1\n",
      " 1 1 1 1 1 1 1 1 1 1 1 1 1 1 1 1 1 1 1 1 1 1 1 1 1 1 1 1 1 1 1 1 1 1 1 1 1\n",
      " 1 1 1 1 1 1 1 1 1 1 1 1 1 1 1 1 1 1 1 1 1 1 1 1 1 1 1 1 1 1 1 1 1 1 1 1 1\n",
      " 1 1 1 1 1 1 1 1 1 1 1 1 1 1 1 1 1 1 1 1 1 1 1 1 1 1 1 1 1 1 1 1 1 1 1 1 1\n",
      " 2 2 2 2]\n",
      "[1 1 1 1 1 1 1 1 1 1 1 1 1 1 1 1 1 1 1 1 1 1 1 1 1 1 1 1 1 1 1 1 1 1 1 1 1\n",
      " 1 1 1 1 1 1 1 1 1 1 1 1 1 1 1 1 1 1 1 1 1 1 1 1 1 1 1 1 1 1 1 1 1 1 1 1 1\n",
      " 1 1 1 1 1 1 1 1 1 1 1 1 1 1 1 1 1 1 1 1 1 1 1 1 1 1 1 1 1 1 1 1 1 1 1 1 1\n",
      " 1 1 1 1 1 1 1 1 1 1 1 1 1 1 1 1 1 1 1 1 1 1 1 1 1 1 1 1 1 1 1 1 1 1 1 1 1\n",
      " 1 1 1 1 1 1 1 1 1 1 1 1 1 1 1 1 1 1 1 1 1 1 1 1 1 1 1 1 1 1 1 1 1 1 1 1 1\n",
      " 1 1 1 1 1 1 1 1 1 1 1 1 1 1 1 1 1 1 1 1 1 1 1 1 1 1 1 1 1 1 1 1 1 1 1 1 1\n",
      " 1 1 1 1 1 1 1 1 1 1 1 1 1 1 1 1 1 1 1 1 1 1 1 1 1 1 1 1 1 1 1 1 1 1 1 1 1\n",
      " 1 1 1 1 1 1 1 1 1 1 1 1 1 1 1 1 1 1 1 1 1 1 1 1 1 1 1 1 1 1 1 2 2 2 2 2 2\n",
      " 2 2 2 2]\n",
      "From 900 - 1200\n",
      "[2 2 2 2 2 2 2 2 2 2 2 2 2 2 2 2 2 2 2 2 2 2 2 2 2 2 2 2 2 2 2 2 2 2 2 2 2\n",
      " 2 2 2 2 2 2 2 2 2 2 2 2 2 2 2 2 2 2 2 2 2 2 2 2 2 2 2 2 2 2 2 2 2 2 2 2 2\n",
      " 2 2 2 2 2 2 2 2 2 2 2 2 2 2 2 2 2 2 2 2 2 2 2 2 2 2 2 2 2 2 2 2 2 2 2 2 2\n",
      " 2 2 2 2 2 2 2 2 2 2 2 2 2 2 2 2 2 2 2 2 2 2 2 2 2 2 2 2 2 2 2 2 2 2 2 2 2\n",
      " 2 2 2 2 2 2 2 2 2 2 2 2 2 2 2 2 2 2 2 2 2 2 2 2 2 2 2 2 2 2 2 2 2 2 2 2 2\n",
      " 2 2 2 2 2 2 2 2 2 2 2 2 2 2 2 2 2 2 2 2 2 2 2 2 2 2 2 2 2 2 2 2 2 2 2 2 2\n",
      " 2 2 2 2 2 2 2 2 2 2 2 2 2 2 2 2 2 2 2 2 2 2 2 2 2 2 2 2 2 2 2 2 2 2 2 2 2\n",
      " 2 2 2 2 2 2 2 2 2 2 2 2 2 2 2 2 2 2 2 2 2 2 2 2 2 2 2 2 2 2 2 2 2 2 2 2 2\n",
      " 2 2 2 2]\n",
      "[2 2 2 2 2 2 2 2 2 2 2 2 2 2 2 2 2 2 2 2 2 2 2 2 2 2 2 2 2 2 2 2 2 2 2 2 2\n",
      " 2 2 2 2 2 2 2 2 2 2 2 2 2 2 2 2 2 2 2 2 2 2 2 2 2 2 2 2 2 2 2 2 2 2 2 2 2\n",
      " 2 2 2 2 2 2 2 2 2 2 2 2 2 2 2 2 2 2 2 2 2 2 2 2 2 2 2 2 2 2 2 2 2 2 2 2 2\n",
      " 2 2 2 2 2 2 2 2 2 2 2 2 2 2 2 2 2 2 2 2 2 2 2 2 2 2 2 2 2 2 2 2 2 2 2 2 2\n",
      " 2 2 2 2 2 2 2 2 2 2 2 2 2 2 2 2 2 2 2 2 2 2 2 2 2 2 2 2 2 2 2 2 2 2 2 2 2\n",
      " 2 2 2 2 2 2 2 2 2 2 2 2 2 2 2 2 2 2 2 2 2 2 2 2 2 2 2 2 2 2 2 2 2 2 2 2 2\n",
      " 2 2 2 2 2 2 2 2 2 2 2 2 2 2 2 2 2 2 2 2 2 2 2 2 2 2 2 2 2 2 2 2 2 2 2 2 2\n",
      " 2 2 2 2 2 2 2 2 2 2 2 2 2 2 2 2 2 2 2 2 2 2 2 2 2 2 2 2 2 2 2 2 2 2 2 2 2\n",
      " 2 2 2 2]\n",
      "From 1200 - 1500\n",
      "[2 2 2 2 2 2 2 2 2 2 2 2 2 2 2 2 2 2 2 2 2 2 2 2 2 2 2 2 2 2 2 2 2 2 2 2 2\n",
      " 2 2 2 2 2 2 2 2 2 2 2 2 2 2 2 2 2 2 2 2 2 2 2 2 2 2 2 2 2 2 2 2 2 2 2 2 2\n",
      " 2 2 2 2 2 2 2 2 2 2 2 2 2 2 2 2 2 2 2 2 2 2 2 2 2 2 2 2 2 2 2 2 2 2 2 2 2\n",
      " 2 2 3 3 3 3 3 3 3 3 3 3 3 3 3 3 3 3 3 3 3 3 3 3 3 3 3 3 3 3 3 3 3 3 3 3 3\n",
      " 3 3 3 3 3 3 3 3 3 3 3 3 3 3 3 3 3 3 3 3 3 3 3 3 3 3 3 3 3 3 3 3 3 3 3 3 3\n",
      " 3 3 3 3 3 3 3 3 3 3 3 3 3 3 3 3 3 3 3 3 3 3 3 3 3 3 3 3 3 3 3 3 3 3 3 3 3\n",
      " 3 3 3 3 3 3 3 3 3 3 3 3 3 3 3 3 3 3 3 3 3 3 3 3 3 3 3 3 3 3 3 3 3 3 3 3 3\n",
      " 3 3 3 3 3 3 3 3 3 3 3 3 3 3 3 3 3 3 3 3 3 3 3 3 3 3 3 3 3 3 3 3 3 3 3 3 3\n",
      " 3 3 3 3]\n",
      "[2 2 2 2 2 2 2 2 2 2 2 2 2 2 2 2 2 2 2 2 2 2 2 2 2 2 2 2 2 2 2 2 2 2 2 2 2\n",
      " 2 2 2 2 2 2 2 2 2 2 2 2 2 2 2 2 2 2 2 2 2 2 2 2 2 2 2 2 2 2 2 2 2 2 2 2 2\n",
      " 2 2 2 2 2 2 2 2 2 2 2 2 2 2 2 2 2 2 2 2 2 2 2 2 2 2 2 2 2 2 2 2 2 2 2 2 2\n",
      " 2 2 2 2 2 2 2 2 2 2 2 2 2 2 2 2 2 2 2 2 2 2 2 2 4 4 4 4 4 4 4 4 4 4 4 4 4\n",
      " 4 4 4 4 4 4 4 4 4 4 4 4 4 4 4 4 4 4 4 4 4 4 4 4 4 4 4 4 4 4 4 4 4 4 4 4 4\n",
      " 4 4 4 4 4 4 4 4 4 4 4 4 4 4 4 4 4 4 4 4 4 4 4 4 4 4 4 4 4 4 4 4 4 4 4 4 4\n",
      " 4 4 4 4 4 4 4 4 4 4 4 4 4 4 4 4 4 4 4 4 4 4 4 4 4 4 4 4 4 4 4 4 4 4 4 4 4\n",
      " 4 4 4 4 4 4 4 4 4 4 4 4 4 4 4 4 4 4 4 4 4 4 4 4 4 4 4 4 4 4 4 4 4 4 4 4 4\n",
      " 4 4 4 4]\n",
      "From 1500 - 1800\n",
      "[3 3 3 3 3 3 3 3 3 3 3 3 3 3 3 3 3 3 3 3 3 3 3 3 3 3 3 3 3 3 3 3 3 3 3 3 3\n",
      " 3 3 3 3 3 3 3 3 3 3 3 3 3 3 3 3 3 3 3 3 3 3 3 3 3 3 3 3 3 3 3 3 3 3 3 3 3\n",
      " 3 3 3 3 3 3 3 3 3 3 3 3 3 3 3 3 3 3 3 3 3 3 3 3 3 3 3 3 3 3 3 3 3 3 3 3 3\n",
      " 3 3 3 3 3 3 3 3 3 3 3 3 3 3 3 3 3 3 3 3 3 3 3 3 3 3 3 3 3 3 3 3 3 3 3 3 3\n",
      " 3 3 3 3 3 3 3 3 3 3 3 3 3 3 3 3 3 3 3 3 3 3 3 3 3 3 3 3 3 3 3 3 3 3 3 3 3\n",
      " 3 3 3 3 3 3 3 3 3 3 3 3 3 3 3 3 3 3 3 3 3 3 3 3 3 3 3 3 3 3 3 3 3 3 3 3 3\n",
      " 3 3 3 3 3 3 3 3 3 3 3 3 3 3 3 3 3 3 3 3 3 3 3 3 3 3 3 3 3 3 3 3 3 3 3 3 3\n",
      " 3 3 3 3 3 3 3 3 3 3 3 3 3 3 3 3 3 3 3 3 3 3 3 3 3 3 3 3 3 3 3 3 3 3 3 3 3\n",
      " 3 3 3 3]\n",
      "[4 4 4 4 4 4 4 4 4 4 4 4 4 4 4 4 4 4 4 4 4 4 4 4 4 4 4 4 4 4 4 4 4 4 4 4 4\n",
      " 4 4 4 4 4 4 4 4 4 4 4 4 4 4 4 4 4 4 4 4 4 4 4 4 4 4 4 4 4 4 4 4 4 4 4 4 4\n",
      " 4 4 4 4 4 4 4 4 4 4 4 4 4 4 4 4 4 4 4 4 4 4 4 4 4 4 4 4 4 4 4 4 4 4 4 4 4\n",
      " 4 4 4 4 4 4 4 4 4 4 4 4 4 4 4 4 4 4 4 4 4 4 4 4 4 4 4 4 4 4 4 4 4 4 4 4 4\n",
      " 4 4 4 4 4 4 4 4 4 4 4 4 4 4 4 4 4 4 4 4 4 4 4 4 4 4 4 4 4 4 4 4 4 4 4 4 4\n",
      " 4 4 4 4 4 4 4 4 4 4 4 4 4 4 4 4 4 4 4 4 4 4 4 4 4 4 4 4 4 4 4 4 4 4 4 4 4\n",
      " 4 4 4 4 4 4 4 4 4 4 4 4 4 4 4 4 4 4 4 4 4 4 4 4 4 4 4 4 4 4 4 4 4 4 4 4 4\n",
      " 4 4 4 4 4 4 4 4 4 4 4 4 4 4 4 4 4 4 4 4 4 0 0 0 0 0 0 0 0 0 0 0 0 0 0 0 0\n",
      " 0 0 0 0]\n",
      "From 1800 - 2100\n",
      "[3 3 3 3 3 3 3 3 3 3 3 3 3 3 3 3 3 3 3 3 3 3 3 3 4 4 4 4 4 4 4 4 4 4 4 4 4\n",
      " 4 4 4 4 4 4 4 4 4 4 4 4 4 4 4 4 4 4 4 4 4 4 4 4 4 4 4 4 4 4 4 4 4 4 4 4 4\n",
      " 4 4 4 4 4 4 4 4 4 4 4 4 4 4 4 4 4 4 4 4 4 4 4 4 4 4 4 4 4 4 4 4 4 4 4 4 4\n",
      " 4 4 4 4 4 4 4 4 4 4 4 4 4 4 4 4 4 4 4 4 4 4 4 4 4 4 4 4 4 4 4 4 4 4 4 4 4\n",
      " 4 4 4 4 4 4 4 4 4 4 4 4 4 4 4 4 4 4 4 4 4 4 4 4 4 4 4 4 4 4 4 4 4 4 4 4 4\n",
      " 4 4 4 4 4 4 4 4 4 4 4 4 4 4 4 4 4 4 4 4 4 4 4 4 4 4 4 4 4 4 4 4 4 4 4 4 4\n",
      " 4 4 4 4 4 4 4 4 4 4 4 4 4 4 4 4 4 4 4 4 4 4 4 4 4 4 4 4 4 4 4 4 4 4 4 4 4\n",
      " 4 4 4 4 4 4 4 4 4 4 4 4 4 4 4 4 4 4 4 4 4 4 4 4 4 4 4 4 4 4 4 4 4 4 4 4 4\n",
      " 4 4 4 4]\n",
      "[0 0 0 0 0 0 0 0 0 0 0 0 0 0 0 0 0 0 0 0 0 0 0 0 0 0 0 0 0 0 0 0 0 0 0 0 0\n",
      " 0 0 0 0 0 0 0 0 0 0 0 0 0 0 0 0 0 0 0 0 0 0 0 0 0 0 0 0 0 0 0 0 0 0 0 0 0\n",
      " 0 0 0 0 0 0 0 0 0 0 0 0 0 0 0 0 0 0 0 0 0 0 0 0 0 0 0 0 0 0 0 0 0 0 0 0 0\n",
      " 0 0 0 0 0 0 0 0 0 0 0 0 0 0 0 0 0 0 0 0 0 0 0 0 0 0 0 0 0 0 0 0 0 0 0 0 0\n",
      " 0 0 0 0 0 0 0 0 0 0 0 0 0 0 0 0 0 0 0 0 0 0 0 0 0 0 0 0 0 0 0 0 0 0 0 0 0\n",
      " 0 0 0 0 0 0 0 0 0 0 0 0 0 0 0 0 0 0 0 0 0 0 0 0 0 0 0 0 0 0 0 0 0 0 0 0 0\n",
      " 0 0 0 0 0 0 0 0 0 0 0 0 0 0 0 0 0 0 0 0 0 0 0 0 0 0 0 0 0 0 0 0 0 0 0 0 0\n",
      " 0 0 0 0 0 0 0 0 0 0 0 0 0 0 0 0 0 0 0 0 0 0 0 0 0 0 0 0 0 0 0 0 0 0 0 0 0\n",
      " 0 0 0 0]\n",
      "From 2100 - 2400\n",
      "[4 4 4 4 4 4 4 4 4 4 4 4 4 4 4 4 4 4 4 4 4 4 4 4 4 4 4 4 4 4 4 4 4 4 4 4 4\n",
      " 4 4 4 4 4 4 4 4 4 4 4 4 4 4 4 4 4 4 4 4 4 4 4 4 4 4 4 4 4 4 4 4 4 4 4 4 4\n",
      " 4 4 4 4 4 4 4 4 4 4 4 4 4 4 4 4 4 4 4 4 4 4 4 4 4 4 4 4 4 4 4 4 4 4 4 4 4\n",
      " 4 4 4 4 4 4 4 4 4 4 4 4 4 4]\n",
      "[0 0 0 0 0 0 0 0 0 0 0 0 0 0 0 0 0 0 0 0 0 0 0 0 0 0 0 0 0 0 0 0 0 0 0 0 0\n",
      " 0 0 0 0 0 0 0 0 0 0 0 0 0 0 0 0 0 0 0 0 0 0 0 0 0 0 0 0 0 0 0 0 0 0 0 0 0\n",
      " 0 0 0 0 0 0 0 0 0 0 0 0 0 0 0 0 0 0 0 0 0 0 0 0 0 0 0 0 0 0 0 0 0 0 0 0 0\n",
      " 0 0 0 0 0 0 0 0 0 0 0 0 0 0]\n"
     ]
    }
   ],
   "source": [
    "i=0\n",
    "while i<len(true_labels):\n",
    "    print(f\"From {i} - {i+300}\")\n",
    "    print(true_labels[i:i+300])\n",
    "    print(pred_lables[i:i+300])\n",
    "    i+=300"
   ]
  },
  {
   "cell_type": "code",
   "execution_count": null,
   "metadata": {},
   "outputs": [],
   "source": [
    "end = time.time()\n",
    "time_taken = end - start"
   ]
  },
  {
   "cell_type": "code",
   "execution_count": null,
   "metadata": {},
   "outputs": [
    {
     "name": "stdout",
     "output_type": "stream",
     "text": [
      "Time taken: 53.40s\n"
     ]
    }
   ],
   "source": [
    "print(f\"Time taken: {time_taken:.2f}s\")"
   ]
  }
 ],
 "metadata": {
  "kernelspec": {
   "display_name": "Python 3 (ipykernel)",
   "language": "python",
   "name": "python3"
  },
  "language_info": {
   "codemirror_mode": {
    "name": "ipython",
    "version": 3
   },
   "file_extension": ".py",
   "mimetype": "text/x-python",
   "name": "python",
   "nbconvert_exporter": "python",
   "pygments_lexer": "ipython3",
   "version": "3.10.11"
  }
 },
 "nbformat": 4,
 "nbformat_minor": 4
}
