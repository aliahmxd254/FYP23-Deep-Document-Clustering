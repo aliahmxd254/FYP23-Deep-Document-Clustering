{
 "cells": [
  {
   "cell_type": "code",
   "execution_count": 1,
   "metadata": {},
   "outputs": [],
   "source": [
    "data_choice = 5"
   ]
  },
  {
   "cell_type": "code",
   "execution_count": 2,
   "metadata": {},
   "outputs": [],
   "source": [
    "import time\n",
    "start = time.time()"
   ]
  },
  {
   "cell_type": "code",
   "execution_count": 3,
   "metadata": {},
   "outputs": [],
   "source": [
    "import sys\n",
    "transformer_path = 'D:\\FAST\\FYP\\FYP23-Deep-Document-Clustering\\Transformer' # ==== Path for transformer folder\n",
    "sys.path.insert(0, transformer_path)"
   ]
  },
  {
   "cell_type": "code",
   "execution_count": 4,
   "metadata": {},
   "outputs": [],
   "source": [
    "data_path = \"D:/FAST/FYP/FYP23-Deep-Document-Clustering/data/\" # ===== Path for data"
   ]
  },
  {
   "cell_type": "code",
   "execution_count": 5,
   "metadata": {},
   "outputs": [
    {
     "name": "stderr",
     "output_type": "stream",
     "text": [
      "c:\\Users\\Ali Ahmed\\AppData\\Local\\Programs\\Python\\Python310\\lib\\site-packages\\tqdm\\auto.py:21: TqdmWarning: IProgress not found. Please update jupyter and ipywidgets. See https://ipywidgets.readthedocs.io/en/stable/user_install.html\n",
      "  from .autonotebook import tqdm as notebook_tqdm\n"
     ]
    }
   ],
   "source": [
    "import numpy as np\n",
    "import pandas as pd\n",
    "import nltk\n",
    "import os\n",
    "import warnings\n",
    "from collections import defaultdict\n",
    "from sklearn.metrics import confusion_matrix\n",
    "from sklearn.cluster import KMeans\n",
    "from sklearn.decomposition import PCA\n",
    "from sklearn.preprocessing import Normalizer\n",
    "from nltk.corpus import wordnet as wn, stopwords\n",
    "from nltk.tokenize import word_tokenize\n",
    "from nltk.stem import WordNetLemmatizer\n",
    "from sklearn.feature_extraction.text import TfidfVectorizer\n",
    "from sklearn.metrics import silhouette_score\n",
    "from sklearn.metrics.cluster import normalized_mutual_info_score as nmi_score\n",
    "from sklearn.metrics import adjusted_rand_score as ari_score\n",
    "from sklearn.metrics import f1_score \n",
    "from concurrent.futures import ThreadPoolExecutor\n",
    "import matplotlib.pyplot as plt\n",
    "import seaborn as sns\n",
    "\n",
    "import pickle\n",
    "import torch\n",
    "import random\n",
    "\n",
    "from utils.Encoder import Encoder\n",
    "from utils.PositionalEncoding import PositionalEncoding\n",
    "\n",
    "os.environ['OMP_NUM_THREADS'] = '1'\n",
    "os.environ['OPENBLAS_NUM_THREADS'] = '1'\n",
    "warnings.filterwarnings(\"ignore\", category=UserWarning, module=\"sklearn.cluster._kmeans\")\n",
    "warnings.filterwarnings(\"ignore\", category=UserWarning, module=\"sklearn.feature_extraction.text\")\n"
   ]
  },
  {
   "cell_type": "code",
   "execution_count": 6,
   "metadata": {},
   "outputs": [
    {
     "name": "stdout",
     "output_type": "stream",
     "text": [
      "Available GPU: NVIDIA GeForce RTX 4090\n"
     ]
    }
   ],
   "source": [
    "if torch.cuda.is_available():\n",
    "    print(f\"Available GPU: {torch.cuda.get_device_name(0)}\")\n",
    "else:\n",
    "    print(\"Using CPU\")"
   ]
  },
  {
   "cell_type": "code",
   "execution_count": 7,
   "metadata": {},
   "outputs": [],
   "source": [
    "options = []\n",
    "choice = None"
   ]
  },
  {
   "cell_type": "code",
   "execution_count": 8,
   "metadata": {},
   "outputs": [],
   "source": [
    "def reset_random_seeds(seed):\n",
    "   os.environ['PYTHONHASHSEED']=str(seed)\n",
    "   torch.manual_seed(seed)\n",
    "   np.random.seed(seed)\n",
    "   random.seed(seed)\n",
    "\n",
    "def Purity_Score(label_seq, pred_labels):\n",
    "    # Calculate the confusion matrix to compare true labels and cluster assignments\n",
    "    confusion = confusion_matrix(label_seq, pred_labels)\n",
    "    # Calculate the purity\n",
    "    purity = np.sum(np.max(confusion, axis=0)) / np.sum(confusion)\n",
    "    return purity\n",
    "\n",
    "\n",
    "def Evaluate(X, true_labels, predicted_labels):\n",
    "    purity = Purity_Score(true_labels, predicted_labels)\n",
    "    silhouette = silhouette_score(X, predicted_labels, metric='euclidean')\n",
    "    ari = ari_score(true_labels, predicted_labels)\n",
    "    nmi = nmi_score(true_labels, predicted_labels)\n",
    "    \n",
    "    with open(\"D:\\FAST\\FYP\\FYP23-Deep-Document-Clustering\\Results.txt\", \"a\") as f:\n",
    "        f.write(f\"\\t Purity: {purity:.2f}\\n\"\n",
    "                f\"\\t Silhouette Score: {silhouette:.2f}\\n\"\n",
    "                f\"\\t NMI: {nmi:.2f}\\n\"\n",
    "                f\"\\t ARI: {ari:.2f}\\n\")\n",
    "    \n",
    "    print(f\"Purity: {purity}\")\n",
    "    print(f\"Silhouette Score: {silhouette}\")\n",
    "    print(f\"ARI Score: {ari}\")\n",
    "    print(f\"NMI Score: {nmi}\")\n",
    "\n",
    "def SaveFeatures(X, file_name):\n",
    "    pickle_path = open(file_name, 'wb')\n",
    "    pickle.dump(X, pickle_path)\n",
    "    pickle_path.close()\n",
    "\n",
    "def ReadFeatures(file_name):\n",
    "    pickle_read = open(file_name, 'rb')\n",
    "    x = pickle.load(pickle_read)\n",
    "    pickle_read.close()\n",
    "    return x"
   ]
  },
  {
   "cell_type": "code",
   "execution_count": 9,
   "metadata": {},
   "outputs": [
    {
     "name": "stdout",
     "output_type": "stream",
     "text": [
      "Select one of the following options:\n",
      "1. ACM\n",
      "2. BBC\n",
      "3. Reuters\n",
      "4. Cite\n",
      "5. Doc50\n",
      "You chose: Doc50\n"
     ]
    }
   ],
   "source": [
    "def display_options(options):\n",
    "    print(\"Select one of the following options:\")\n",
    "    for i, option in enumerate(options):\n",
    "        print(f\"{i + 1}. {option}\")\n",
    "\n",
    "def get_user_choice(options):\n",
    "    while True:\n",
    "        try:\n",
    "            choice = int(input(\"Enter the number corresponding to your choice: \"))\n",
    "            if 1 <= choice <= len(options):\n",
    "                return choice\n",
    "            else:\n",
    "                print(\"Invalid choice. Please enter a number within the range.\")\n",
    "        except ValueError:\n",
    "            print(\"Invalid input. Please enter a number.\")\n",
    "\n",
    "options = [\"ACM\", \"BBC\",\"Reuters\",\"Cite\", \"Doc50\"]  # Sample options\n",
    "display_options(options)\n",
    "# choice = get_user_choice(options)\n",
    "choice = data_choice\n",
    "print(f\"You chose: {options[choice - 1]}\")\n"
   ]
  },
  {
   "cell_type": "code",
   "execution_count": 10,
   "metadata": {},
   "outputs": [],
   "source": [
    "with open(\"D:\\FAST\\FYP\\FYP23-Deep-Document-Clustering\\Results.txt\", \"w\") as f:\n",
    "    f.write(f\"{options[choice - 1]}\\n\\n\")"
   ]
  },
  {
   "cell_type": "code",
   "execution_count": 11,
   "metadata": {},
   "outputs": [],
   "source": [
    "os.chdir(data_path)"
   ]
  },
  {
   "cell_type": "code",
   "execution_count": 12,
   "metadata": {},
   "outputs": [],
   "source": [
    "x = np.loadtxt(f\"{options[choice - 1]}.txt\", dtype=float)\n",
    "y = np.loadtxt(f\"{options[choice - 1]}_label.txt\", dtype=int)"
   ]
  },
  {
   "cell_type": "code",
   "execution_count": 13,
   "metadata": {},
   "outputs": [],
   "source": [
    "x = torch.tensor(x, dtype=torch.float32)"
   ]
  },
  {
   "cell_type": "code",
   "execution_count": 14,
   "metadata": {},
   "outputs": [
    {
     "data": {
      "text/plain": [
       "device(type='cpu')"
      ]
     },
     "execution_count": 14,
     "metadata": {},
     "output_type": "execute_result"
    }
   ],
   "source": [
    "x.device"
   ]
  },
  {
   "cell_type": "code",
   "execution_count": 15,
   "metadata": {},
   "outputs": [
    {
     "data": {
      "text/plain": [
       "torch.Size([50, 3885])"
      ]
     },
     "execution_count": 15,
     "metadata": {},
     "output_type": "execute_result"
    }
   ],
   "source": [
    "x.size()"
   ]
  },
  {
   "cell_type": "code",
   "execution_count": 16,
   "metadata": {},
   "outputs": [],
   "source": [
    "# configurations for ACM\n",
    "if(choice == 1):\n",
    "   \n",
    "    d_model = 1870\n",
    "    num_heads = 1\n",
    "    drop_prob = 0.1\n",
    "    batch_size = 25\n",
    "    max_sequence_length = 3025\n",
    "    ffn_hidden = 2048\n",
    "    num_layers = 5\n",
    "    n_clusters = 3\n",
    "    random_states = 500\n",
    "    gpu = True\n",
    "\n",
    "# configurations for BBC\n",
    "elif(choice == 2):\n",
    "    \n",
    "    d_model = 9635\n",
    "    num_heads = 1\n",
    "    drop_prob = 0.1\n",
    "    num_batches = 25\n",
    "    max_sequence_length = 2225\n",
    "    ffn_hidden = 2048\n",
    "    num_layers = 5\n",
    "    n_clusters = 5\n",
    "    random_states = 500\n",
    "    gpu = True\n",
    "\n",
    "# configurations for Reuters\n",
    "elif(choice == 3):\n",
    "    \n",
    "    d_model = 2000\n",
    "    num_heads = 1\n",
    "    drop_prob = 0.1\n",
    "    num_batches = 25\n",
    "    max_sequence_length = 10000\n",
    "    ffn_hidden = 2048\n",
    "    num_layers = 5\n",
    "    n_clusters = 4\n",
    "    random_states = 8\n",
    "    gpu = True\n",
    "\n",
    "# configurations for Citeseer\n",
    "elif(choice == 4):\n",
    "    \n",
    "    d_model = 3703\n",
    "    num_heads = 1\n",
    "    drop_prob = 0.1\n",
    "    num_batches = 3\n",
    "    max_sequence_length = 3327\n",
    "    ffn_hidden = 2048\n",
    "    num_layers = 3\n",
    "    n_clusters = 6\n",
    "    random_states = 16\n",
    "    gpu = True\n",
    "\n",
    "# configurations for Doc50\n",
    "elif(choice == 5):\n",
    "    \n",
    "    d_model = 3885\n",
    "    num_heads = 1\n",
    "    drop_prob = 0.1\n",
    "    num_batches = 50\n",
    "    max_sequence_length = 50\n",
    "    ffn_hidden = 2048\n",
    "    num_layers = 5\n",
    "    n_clusters = 5\n",
    "    random_states = 500\n",
    "    gpu = False\n"
   ]
  },
  {
   "cell_type": "code",
   "execution_count": 17,
   "metadata": {},
   "outputs": [],
   "source": [
    "if gpu and not torch.cuda.is_available():\n",
    "    raise Exception(\"GPU is not available in this device\")"
   ]
  },
  {
   "cell_type": "code",
   "execution_count": 18,
   "metadata": {},
   "outputs": [],
   "source": [
    "pe = PositionalEncoding(d_model=d_model, max_sequence_length=max_sequence_length)\n",
    "positional_encoding = pe.forward()"
   ]
  },
  {
   "cell_type": "code",
   "execution_count": 19,
   "metadata": {},
   "outputs": [
    {
     "data": {
      "text/plain": [
       "torch.Size([50, 3885])"
      ]
     },
     "execution_count": 19,
     "metadata": {},
     "output_type": "execute_result"
    }
   ],
   "source": [
    "dim_diff = d_model - positional_encoding.shape[1]  \n",
    "\n",
    "if dim_diff != 0:\n",
    "    positional_encoding = positional_encoding[:,0:dim_diff]\n",
    "\n",
    "positional_encoding.size()"
   ]
  },
  {
   "cell_type": "code",
   "execution_count": 20,
   "metadata": {},
   "outputs": [],
   "source": [
    "x = x + positional_encoding"
   ]
  },
  {
   "cell_type": "code",
   "execution_count": 21,
   "metadata": {},
   "outputs": [
    {
     "name": "stdout",
     "output_type": "stream",
     "text": [
      "torch.Size([50, 1, 3885])\n"
     ]
    }
   ],
   "source": [
    "try:\n",
    "    x = x.reshape(shape=(num_batches, x.size()[0] // num_batches, x.size()[1]))\n",
    "    print(x.size())\n",
    "except Exception as e:\n",
    "    raise Exception(e)"
   ]
  },
  {
   "cell_type": "code",
   "execution_count": 22,
   "metadata": {},
   "outputs": [
    {
     "name": "stdout",
     "output_type": "stream",
     "text": [
      "Feature tensor stored in CPU memory\n",
      "cpu\n"
     ]
    }
   ],
   "source": [
    "if gpu:\n",
    "    print(\"Moving feature tensor to GPU memory\")\n",
    "    x = x.cuda()\n",
    "    print(x.device)\n",
    "else:\n",
    "    print(\"Feature tensor stored in CPU memory\")\n",
    "    print(x.device)"
   ]
  },
  {
   "cell_type": "code",
   "execution_count": 23,
   "metadata": {},
   "outputs": [
    {
     "name": "stdout",
     "output_type": "stream",
     "text": [
      "Developing encoder for CPU\n"
     ]
    },
    {
     "name": "stdout",
     "output_type": "stream",
     "text": [
      "CPU times: total: 188 ms\n",
      "Wall time: 892 ms\n"
     ]
    }
   ],
   "source": [
    "%%time\n",
    "reset_random_seeds(42)\n",
    "if gpu:\n",
    "    print(\"Developing encoder for GPU\")\n",
    "    encoder = Encoder(d_model=d_model, ffn_hidden=ffn_hidden, num_heads=num_heads, drop_prob=drop_prob, num_layers=num_layers).cuda()\n",
    "    torch.cuda.memory_allocated()\n",
    "else:\n",
    "    print(\"Developing encoder for CPU\")\n",
    "    encoder = Encoder(d_model=d_model, ffn_hidden=ffn_hidden, num_heads=num_heads, drop_prob=drop_prob, num_layers=num_layers)"
   ]
  },
  {
   "cell_type": "code",
   "execution_count": 24,
   "metadata": {
    "scrolled": true
   },
   "outputs": [
    {
     "name": "stdout",
     "output_type": "stream",
     "text": [
      "Encoder in CPU\n"
     ]
    }
   ],
   "source": [
    "if gpu:\n",
    "    for i in encoder.parameters():\n",
    "        print(i.is_cuda)\n",
    "else:\n",
    "    print(\"Encoder in CPU\")"
   ]
  },
  {
   "cell_type": "code",
   "execution_count": 25,
   "metadata": {
    "scrolled": true
   },
   "outputs": [
    {
     "name": "stdout",
     "output_type": "stream",
     "text": [
      "x.size(): torch.Size([50, 1, 3885])\n",
      "tensor([[[ 0.0000e+00,  1.0000e+00,  0.0000e+00,  ...,  0.0000e+00,\n",
      "           1.0000e+00,  0.0000e+00]],\n",
      "\n",
      "        [[ 8.4147e-01,  5.4030e-01,  8.3891e-01,  ...,  1.0071e-04,\n",
      "           1.0000e+00,  1.0024e-04]],\n",
      "\n",
      "        [[ 9.0930e-01, -4.1615e-01,  9.1319e-01,  ...,  2.0143e-04,\n",
      "           1.0000e+00,  2.0047e-04]],\n",
      "\n",
      "        ...,\n",
      "\n",
      "        [[ 1.2357e-01, -9.9234e-01,  3.3934e-01,  ...,  4.7335e-03,\n",
      "           9.9999e-01,  4.7111e-03]],\n",
      "\n",
      "        [[-7.6825e-01, -6.4014e-01, -6.0443e-01,  ...,  4.8342e-03,\n",
      "           9.9999e-01,  4.8114e-03]],\n",
      "\n",
      "        [[-9.5375e-01,  3.0059e-01, -9.9730e-01,  ...,  4.9350e-03,\n",
      "           9.9999e-01,  4.9116e-03]]])\n",
      "qkv.size(): torch.Size([50, 1, 11655])\n",
      "50, 1, 1, 3885\n",
      "qkv.size(): torch.Size([50, 1, 1, 11655])\n",
      "q.size(): torch.Size([50, 1, 1, 3885]), k.size(): torch.Size([50, 1, 1, 3885]), v.size(): torch.Size([50, 1, 1, 3885])\n",
      "values.size(): torch.Size([50, 1, 1, 3885]), attention.size(): torch.Size([50, 1, 1, 1])\n",
      "x.size(): torch.Size([50, 1, 3885])\n",
      "tensor([[[-0.2694,  0.9590, -0.8658,  ..., -0.6674,  1.7314,  0.0315]],\n",
      "\n",
      "        [[ 1.2639, -0.0182,  0.7758,  ..., -0.9130,  1.5578, -0.1350]],\n",
      "\n",
      "        [[ 1.7249, -1.9356,  1.2507,  ..., -0.9956,  1.0887, -0.1760]],\n",
      "\n",
      "        ...,\n",
      "\n",
      "        [[ 0.6949, -1.9643, -0.5151,  ..., -0.5371,  2.1335, -0.7547]],\n",
      "\n",
      "        [[-1.2461, -1.6164, -1.4139,  ..., -0.4061,  1.7854, -0.7781]],\n",
      "\n",
      "        [[-0.9527,  0.1835, -1.8658,  ..., -0.5116,  1.7048, -0.5957]]],\n",
      "       grad_fn=<AddBackward0>)\n",
      "qkv.size(): torch.Size([50, 1, 11655])\n",
      "50, 1, 1, 3885\n",
      "qkv.size(): torch.Size([50, 1, 1, 11655])\n",
      "q.size(): torch.Size([50, 1, 1, 3885]), k.size(): torch.Size([50, 1, 1, 3885]), v.size(): torch.Size([50, 1, 1, 3885])\n",
      "values.size(): torch.Size([50, 1, 1, 3885]), attention.size(): torch.Size([50, 1, 1, 1])\n",
      "x.size(): torch.Size([50, 1, 3885])\n",
      "tensor([[[-0.5186,  1.4503, -0.6261,  ..., -0.4504,  1.2222, -0.3271]],\n",
      "\n",
      "        [[ 0.9475,  0.4487,  0.9992,  ..., -0.4936,  0.9000,  0.3996]],\n",
      "\n",
      "        [[ 1.4134, -1.4353,  1.5132,  ..., -0.6367,  0.4331,  0.5503]],\n",
      "\n",
      "        ...,\n",
      "\n",
      "        [[ 0.7860, -1.9477, -0.4575,  ...,  0.2069,  1.0857, -0.3397]],\n",
      "\n",
      "        [[-0.9491, -1.4700, -1.3065,  ...,  0.0530,  1.0359, -0.2160]],\n",
      "\n",
      "        [[-0.5503, -0.1488, -1.8570,  ..., -0.2080,  0.8883,  0.0223]]],\n",
      "       grad_fn=<AddBackward0>)\n",
      "qkv.size(): torch.Size([50, 1, 11655])\n",
      "50, 1, 1, 3885\n",
      "qkv.size(): torch.Size([50, 1, 1, 11655])\n",
      "q.size(): torch.Size([50, 1, 1, 3885]), k.size(): torch.Size([50, 1, 1, 3885]), v.size(): torch.Size([50, 1, 1, 3885])\n",
      "values.size(): torch.Size([50, 1, 1, 3885]), attention.size(): torch.Size([50, 1, 1, 1])\n",
      "x.size(): torch.Size([50, 1, 3885])\n",
      "tensor([[[ 0.1423,  0.6156, -0.3111,  ..., -0.8990,  0.9015, -0.7457]],\n",
      "\n",
      "        [[ 1.4148, -0.6463,  0.9209,  ..., -0.9031,  0.7844, -0.0216]],\n",
      "\n",
      "        [[ 1.6729, -2.3715,  1.6987,  ..., -0.5204,  0.3352,  0.1115]],\n",
      "\n",
      "        ...,\n",
      "\n",
      "        [[ 0.6449, -1.7353, -0.6265,  ..., -0.0395,  0.8142, -0.3879]],\n",
      "\n",
      "        [[-0.8629, -1.3792, -1.5315,  ..., -0.5852,  0.7127, -0.3873]],\n",
      "\n",
      "        [[-0.2608, -0.1699, -1.7508,  ..., -0.4946,  0.6449, -0.6408]]],\n",
      "       grad_fn=<AddBackward0>)\n",
      "qkv.size(): torch.Size([50, 1, 11655])\n",
      "50, 1, 1, 3885\n",
      "qkv.size(): torch.Size([50, 1, 1, 11655])\n",
      "q.size(): torch.Size([50, 1, 1, 3885]), k.size(): torch.Size([50, 1, 1, 3885]), v.size(): torch.Size([50, 1, 1, 3885])\n",
      "values.size(): torch.Size([50, 1, 1, 3885]), attention.size(): torch.Size([50, 1, 1, 1])\n",
      "x.size(): torch.Size([50, 1, 3885])\n",
      "tensor([[[ 1.0544, -0.0371,  0.3041,  ..., -1.4308,  0.7213, -0.8445]],\n",
      "\n",
      "        [[ 2.2147, -1.2292,  1.3579,  ..., -1.3465,  0.7613, -0.1118]],\n",
      "\n",
      "        [[ 2.1039, -2.6515,  2.0303,  ..., -0.5700,  0.0804, -0.0240]],\n",
      "\n",
      "        ...,\n",
      "\n",
      "        [[ 0.5472, -1.6570, -0.0604,  ..., -0.0488,  0.7269,  0.2080]],\n",
      "\n",
      "        [[-0.0677, -1.4746, -0.9194,  ..., -0.1839,  0.7604, -0.1130]],\n",
      "\n",
      "        [[ 0.6891, -0.4638, -1.3460,  ..., -0.1960,  0.2348, -0.2353]]],\n",
      "       grad_fn=<AddBackward0>)\n",
      "qkv.size(): torch.Size([50, 1, 11655])\n",
      "50, 1, 1, 3885\n",
      "qkv.size(): torch.Size([50, 1, 1, 11655])\n",
      "q.size(): torch.Size([50, 1, 1, 3885]), k.size(): torch.Size([50, 1, 1, 3885]), v.size(): torch.Size([50, 1, 1, 3885])\n",
      "values.size(): torch.Size([50, 1, 1, 3885]), attention.size(): torch.Size([50, 1, 1, 1])\n",
      "CPU times: total: 15.6 ms\n",
      "Wall time: 83.7 ms\n"
     ]
    }
   ],
   "source": [
    "%%time\n",
    "out = encoder(x)"
   ]
  },
  {
   "cell_type": "code",
   "execution_count": 26,
   "metadata": {},
   "outputs": [],
   "source": [
    "def KMeans_Labels(X, n, rstate_limit, true_labels):\n",
    "    # Specify the number of clusters (you can choose an appropriate value)\n",
    "    num_clusters = n\n",
    "    \n",
    "    # find centoids which give maximum purity\n",
    "    purity_collection = {}\n",
    "    for i in range(rstate_limit):\n",
    "        clusters = KMeans(n_init='auto', n_clusters=num_clusters, random_state=i, init='k-means++').fit(X).labels_\n",
    "        purity_collection[i] = Purity_Score(true_labels, clusters)\n",
    "    \n",
    "    max_rand_state = max(purity_collection, key=purity_collection.get)\n",
    "    print(f\"Maximum purity of {purity_collection[max_rand_state]} found on random state {max_rand_state}\")\n",
    "\n",
    "    plot_graph(purity_collection.keys(), purity_collection.values())\n",
    "    \n",
    "    # Create a KMeans model\n",
    "    kmeans = KMeans(n_init='auto', n_clusters=num_clusters, random_state=max_rand_state, init='k-means++')\n",
    "    # Fit the KMeans model to the TF-IDF data\n",
    "    kmeans.fit(X)\n",
    "    # Get the cluster assignments for each document\n",
    "    cluster_assignments = kmeans.labels_\n",
    "    \n",
    "    return cluster_assignments\n",
    "\n",
    "def plot_graph(x, y):\n",
    "    plt.scatter(x, y, marker = \"o\")\n",
    "    plt.title(\"Purity x Random State\")\n",
    "    plt.ylabel(\"Purity\")\n",
    "    plt.xlabel(\"Random State\")\n",
    "    purity_save_path = \"D:\\FAST\\FYP\\FYP23-Deep-Document-Clustering\\Purity_Image.png\"\n",
    "    with open(purity_save_path, \"w\") as f:\n",
    "        plt.savefig(purity_save_path)\n",
    "    plt.show()\n",
    "\n",
    "def calculate_purity(random_state, X, true_labels):\n",
    "    clusters = KMeans(n_init='auto', n_clusters=num_clusters, random_state=random_state, init='k-means++').fit(X).labels_\n",
    "    purity = Purity_Score(true_labels, clusters)\n",
    "    return random_state, purity\n",
    "\n",
    "def KMeans_Labels_Parallel(X, n, rstate_limit, true_labels):\n",
    "    # Specify the number of clusters (you can choose an appropriate value)\n",
    "    global num_clusters\n",
    "    num_clusters = n\n",
    "    purity_collection = {}\n",
    "\n",
    "    for i in range(0, rstate_limit, 100):\n",
    "        # Use ThreadPoolExecutor to parallelize purity calculations\n",
    "        with ThreadPoolExecutor() as executor:\n",
    "            futures = {executor.submit(calculate_purity, i, X, true_labels): i for i in range(i, i+16)}\n",
    "        temp_purity_collection = {future.result()[0]: future.result()[1] for future in futures}\n",
    "        purity_collection.update(temp_purity_collection)\n",
    "\n",
    "    max_rand_state = max(purity_collection, key=purity_collection.get)\n",
    "    print(f\"Maximum purity of {purity_collection[max_rand_state]} found on random state {max_rand_state}\")\n",
    "\n",
    "    plot_graph(purity_collection.keys(), purity_collection.values())\n",
    "    \n",
    "    # Create a KMeans model\n",
    "    kmeans = KMeans(n_init='auto', n_clusters=num_clusters, random_state=max_rand_state, init='k-means++')\n",
    "    # Fit the KMeans model to the data\n",
    "    kmeans.fit(X)\n",
    "    # Get the cluster assignments for each data point\n",
    "    cluster_assignments = kmeans.labels_\n",
    "    cluster_centers = kmeans.cluster_centers_\n",
    "    \n",
    "    return cluster_assignments, cluster_centers\n"
   ]
  },
  {
   "cell_type": "code",
   "execution_count": 27,
   "metadata": {},
   "outputs": [
    {
     "name": "stdout",
     "output_type": "stream",
     "text": [
      "torch.Size([50, 3885])\n"
     ]
    }
   ],
   "source": [
    "reshaped_out = out.reshape(out.size()[0] * out.size()[1], out.size()[2])\n",
    "print(reshaped_out.size())\n",
    "enhanced_x = reshaped_out.cpu().detach().numpy()"
   ]
  },
  {
   "cell_type": "code",
   "execution_count": 28,
   "metadata": {},
   "outputs": [],
   "source": [
    "del reshaped_out\n",
    "del out\n",
    "del encoder\n",
    "del x"
   ]
  },
  {
   "cell_type": "code",
   "execution_count": 29,
   "metadata": {},
   "outputs": [
    {
     "name": "stdout",
     "output_type": "stream",
     "text": [
      "Find best clusters for 500 random states\n",
      "Maximum purity of 0.96 found on random state 3\n"
     ]
    },
    {
     "data": {
      "image/png": "[encoded data removed]",
      "text/plain": [
       "<Figure size 640x480 with 1 Axes>"
      ]
     },
     "metadata": {},
     "output_type": "display_data"
    },
    {
     "name": "stdout",
     "output_type": "stream",
     "text": [
      "CPU times: total: 15.5 s\n",
      "Wall time: 1.3 s\n"
     ]
    }
   ],
   "source": [
    "%%time\n",
    "true_labels = y\n",
    "print(f\"Find best clusters for {random_states} random states\")\n",
    "pred_lables, centoids = KMeans_Labels_Parallel(enhanced_x, n_clusters, random_states, true_labels)"
   ]
  },
  {
   "cell_type": "code",
   "execution_count": 30,
   "metadata": {},
   "outputs": [
    {
     "name": "stdout",
     "output_type": "stream",
     "text": [
      "Purity: 0.96\n",
      "Silhouette Score: 0.16761328279972076\n",
      "ARI Score: 0.8969106411250138\n",
      "NMI Score: 0.9178588423361494\n"
     ]
    }
   ],
   "source": [
    "Evaluate(enhanced_x, true_labels, pred_lables)"
   ]
  },
  {
   "cell_type": "code",
   "execution_count": 31,
   "metadata": {},
   "outputs": [],
   "source": [
    "def visualize_clusters(X, cluster_assignments, cluster_centers, num_dimensions=2):\n",
    "    # Apply PCA to reduce the dimensions for visualization\n",
    "    pca = PCA(n_components=num_dimensions)\n",
    "    X_pca = pca.fit_transform(X)\n",
    "\n",
    "    # Combine data and cluster assignments into a DataFrame\n",
    "    data_with_clusters = pd.DataFrame(X_pca, columns=[f'PC{i}' for i in range(1, num_dimensions+1)])\n",
    "    data_with_clusters['Cluster'] = cluster_assignments\n",
    "\n",
    "    # Scatter plot with different colors for each cluster\n",
    "    plt.figure(figsize=(8, 6))\n",
    "    sns.scatterplot(x='PC1', y='PC2', hue='Cluster', data=data_with_clusters, palette='viridis', s=80, alpha=0.8)\n",
    "    \n",
    "    # Plot cluster centers if available\n",
    "    centers = pca.transform(cluster_centers)\n",
    "    plt.scatter(centers[:, 0], centers[:, 1], c='red', marker='X', s=200, label='Cluster Centers')\n",
    "    \n",
    "    plt.title('Cluster Visualization (PCA)')\n",
    "    plt.xlabel('Principal Component 1')\n",
    "    plt.ylabel('Principal Component 2')\n",
    "    plt.legend()\n",
    "    cluster_save_path = \"D:\\FAST\\FYP\\FYP23-Deep-Document-Clustering\\Cluster_Image.png\"\n",
    "    with open(cluster_save_path, \"w\") as f:\n",
    "        plt.savefig(cluster_save_path)\n",
    "    plt.show()\n",
    "    \n"
   ]
  },
  {
   "cell_type": "code",
   "execution_count": 32,
   "metadata": {},
   "outputs": [
    {
     "data": {
      "image/png": "[encoded data removed]",
      "text/plain": [
       "<Figure size 800x600 with 1 Axes>"
      ]
     },
     "metadata": {},
     "output_type": "display_data"
    }
   ],
   "source": [
    "visualize_clusters(enhanced_x, pred_lables, cluster_centers=centoids, num_dimensions=2)"
   ]
  },
  {
   "cell_type": "code",
   "execution_count": 33,
   "metadata": {},
   "outputs": [
    {
     "name": "stdout",
     "output_type": "stream",
     "text": [
      "From 0 - 300\n",
      "[0 0 0 0 0 0 0 0 0 0 1 1 1 1 1 1 1 1 1 1 2 2 2 2 2 2 2 2 2 2 3 3 3 3 3 3 3\n",
      " 3 3 3 4 4 4 4 4 4 4 4 4 4]\n",
      "[3 3 3 3 3 3 3 3 3 1 1 1 1 1 1 1 1 1 1 1 0 0 0 0 0 0 0 0 0 0 4 4 4 4 4 4 4\n",
      " 4 4 4 4 2 2 2 2 2 2 2 2 2]\n"
     ]
    }
   ],
   "source": [
    "i=0\n",
    "while i<len(true_labels):\n",
    "    print(f\"From {i} - {i+300}\")\n",
    "    print(true_labels[i:i+300])\n",
    "    print(pred_lables[i:i+300])\n",
    "    i+=300"
   ]
  },
  {
   "cell_type": "code",
   "execution_count": 34,
   "metadata": {},
   "outputs": [],
   "source": [
    "end = time.time()\n",
    "time_taken = end - start"
   ]
  },
  {
   "cell_type": "code",
   "execution_count": 35,
   "metadata": {},
   "outputs": [
    {
     "name": "stdout",
     "output_type": "stream",
     "text": [
      "Time taken: 3.91s\n"
     ]
    }
   ],
   "source": [
    "print(f\"Time taken: {time_taken:.2f}s\")"
   ]
  }
 ],
 "metadata": {
  "kernelspec": {
   "display_name": "Python 3 (ipykernel)",
   "language": "python",
   "name": "python3"
  },
  "language_info": {
   "codemirror_mode": {
    "name": "ipython",
    "version": 3
   },
   "file_extension": ".py",
   "mimetype": "text/x-python",
   "name": "python",
   "nbconvert_exporter": "python",
   "pygments_lexer": "ipython3",
   "version": "3.10.11"
  }
 },
 "nbformat": 4,
 "nbformat_minor": 4
}
